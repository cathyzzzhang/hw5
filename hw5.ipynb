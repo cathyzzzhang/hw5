{
 "cells": [
  {
   "cell_type": "code",
   "execution_count": 3,
   "id": "f09bee72-c528-40e1-b262-cb06685b3bc0",
   "metadata": {},
   "outputs": [],
   "source": [
    "import requests as rq\n",
    "import bs4\n",
    "import pandas as pd"
   ]
  },
  {
   "cell_type": "code",
   "execution_count": 4,
   "id": "4c431a48-09a9-4c88-a67b-ac83c8156421",
   "metadata": {},
   "outputs": [],
   "source": [
    "url = 'https://en.wikipedia.org/wiki/List_of_countries_by_GDP_(nominal)'\n",
    "page = rq.get(url)"
   ]
  },
  {
   "cell_type": "code",
   "execution_count": 5,
   "id": "93e372d0-584f-4c40-8891-be87ae5fd6d2",
   "metadata": {},
   "outputs": [
    {
     "data": {
      "text/html": [
       "<div>\n",
       "<style scoped>\n",
       "    .dataframe tbody tr th:only-of-type {\n",
       "        vertical-align: middle;\n",
       "    }\n",
       "\n",
       "    .dataframe tbody tr th {\n",
       "        vertical-align: top;\n",
       "    }\n",
       "\n",
       "    .dataframe thead tr th {\n",
       "        text-align: left;\n",
       "    }\n",
       "</style>\n",
       "<table border=\"1\" class=\"dataframe\">\n",
       "  <thead>\n",
       "    <tr>\n",
       "      <th></th>\n",
       "      <th>Country/Territory</th>\n",
       "      <th>UN region</th>\n",
       "      <th colspan=\"2\" halign=\"left\">IMF[1][13]</th>\n",
       "      <th colspan=\"2\" halign=\"left\">World Bank[14]</th>\n",
       "      <th colspan=\"2\" halign=\"left\">United Nations[15]</th>\n",
       "    </tr>\n",
       "    <tr>\n",
       "      <th></th>\n",
       "      <th>Country/Territory</th>\n",
       "      <th>UN region</th>\n",
       "      <th>Forecast</th>\n",
       "      <th>Year</th>\n",
       "      <th>Estimate</th>\n",
       "      <th>Year</th>\n",
       "      <th>Estimate</th>\n",
       "      <th>Year</th>\n",
       "    </tr>\n",
       "  </thead>\n",
       "  <tbody>\n",
       "    <tr>\n",
       "      <th>0</th>\n",
       "      <td>World</td>\n",
       "      <td>—</td>\n",
       "      <td>104476432</td>\n",
       "      <td>2023</td>\n",
       "      <td>100562011</td>\n",
       "      <td>2022</td>\n",
       "      <td>96698005</td>\n",
       "      <td>2021</td>\n",
       "    </tr>\n",
       "    <tr>\n",
       "      <th>1</th>\n",
       "      <td>United States</td>\n",
       "      <td>Americas</td>\n",
       "      <td>26949643</td>\n",
       "      <td>2023</td>\n",
       "      <td>25462700</td>\n",
       "      <td>2022</td>\n",
       "      <td>23315081</td>\n",
       "      <td>2021</td>\n",
       "    </tr>\n",
       "    <tr>\n",
       "      <th>2</th>\n",
       "      <td>China</td>\n",
       "      <td>Asia</td>\n",
       "      <td>17700899</td>\n",
       "      <td>[n 1]2023</td>\n",
       "      <td>17963171</td>\n",
       "      <td>[n 3]2022</td>\n",
       "      <td>17734131</td>\n",
       "      <td>[n 1]2021</td>\n",
       "    </tr>\n",
       "    <tr>\n",
       "      <th>3</th>\n",
       "      <td>Germany</td>\n",
       "      <td>Europe</td>\n",
       "      <td>4429838</td>\n",
       "      <td>2023</td>\n",
       "      <td>4072192</td>\n",
       "      <td>2022</td>\n",
       "      <td>4259935</td>\n",
       "      <td>2021</td>\n",
       "    </tr>\n",
       "    <tr>\n",
       "      <th>4</th>\n",
       "      <td>Japan</td>\n",
       "      <td>Asia</td>\n",
       "      <td>4230862</td>\n",
       "      <td>2023</td>\n",
       "      <td>4231141</td>\n",
       "      <td>2022</td>\n",
       "      <td>4940878</td>\n",
       "      <td>2021</td>\n",
       "    </tr>\n",
       "  </tbody>\n",
       "</table>\n",
       "</div>"
      ],
      "text/plain": [
       "  Country/Territory UN region IMF[1][13]            World Bank[14]             \\\n",
       "  Country/Territory UN region   Forecast       Year       Estimate       Year   \n",
       "0             World         —  104476432       2023      100562011       2022   \n",
       "1     United States  Americas   26949643       2023       25462700       2022   \n",
       "2             China      Asia   17700899  [n 1]2023       17963171  [n 3]2022   \n",
       "3           Germany    Europe    4429838       2023        4072192       2022   \n",
       "4             Japan      Asia    4230862       2023        4231141       2022   \n",
       "\n",
       "  United Nations[15]             \n",
       "            Estimate       Year  \n",
       "0           96698005       2021  \n",
       "1           23315081       2021  \n",
       "2           17734131  [n 1]2021  \n",
       "3            4259935       2021  \n",
       "4            4940878       2021  "
      ]
     },
     "execution_count": 5,
     "metadata": {},
     "output_type": "execute_result"
    }
   ],
   "source": [
    "bs4page = bs4.BeautifulSoup(page.text, 'html.parser')\n",
    "tables = bs4page.find_all('table',{'class':\"wikitable sortable sticky-header static-row-numbers\"})\n",
    "\n",
    "from io import StringIO\n",
    "chart = pd.read_html(StringIO(str(tables[0])))[0]#interested in first table\n",
    "chart = chart.dropna()\n",
    "chart.head()"
   ]
  },
  {
   "cell_type": "code",
   "execution_count": 6,
   "id": "ed130937-6cf8-438a-975f-2d0d7817c3b4",
   "metadata": {},
   "outputs": [
    {
     "data": {
      "text/html": [
       "<div>\n",
       "<style scoped>\n",
       "    .dataframe tbody tr th:only-of-type {\n",
       "        vertical-align: middle;\n",
       "    }\n",
       "\n",
       "    .dataframe tbody tr th {\n",
       "        vertical-align: top;\n",
       "    }\n",
       "\n",
       "    .dataframe thead th {\n",
       "        text-align: right;\n",
       "    }\n",
       "</style>\n",
       "<table border=\"1\" class=\"dataframe\">\n",
       "  <thead>\n",
       "    <tr style=\"text-align: right;\">\n",
       "      <th></th>\n",
       "      <th>Country/Territory</th>\n",
       "      <th>UN Region</th>\n",
       "      <th>IMF Forecast</th>\n",
       "      <th>Year</th>\n",
       "      <th>World Bank Estimate</th>\n",
       "      <th>WB Year</th>\n",
       "      <th>UN Estimate</th>\n",
       "      <th>UN Year</th>\n",
       "    </tr>\n",
       "  </thead>\n",
       "  <tbody>\n",
       "    <tr>\n",
       "      <th>0</th>\n",
       "      <td>World</td>\n",
       "      <td>—</td>\n",
       "      <td>104476432</td>\n",
       "      <td>2023</td>\n",
       "      <td>100562011</td>\n",
       "      <td>2022</td>\n",
       "      <td>96698005</td>\n",
       "      <td>2021</td>\n",
       "    </tr>\n",
       "    <tr>\n",
       "      <th>1</th>\n",
       "      <td>United States</td>\n",
       "      <td>Americas</td>\n",
       "      <td>26949643</td>\n",
       "      <td>2023</td>\n",
       "      <td>25462700</td>\n",
       "      <td>2022</td>\n",
       "      <td>23315081</td>\n",
       "      <td>2021</td>\n",
       "    </tr>\n",
       "    <tr>\n",
       "      <th>2</th>\n",
       "      <td>China</td>\n",
       "      <td>Asia</td>\n",
       "      <td>17700899</td>\n",
       "      <td>[n 1]2023</td>\n",
       "      <td>17963171</td>\n",
       "      <td>[n 3]2022</td>\n",
       "      <td>17734131</td>\n",
       "      <td>[n 1]2021</td>\n",
       "    </tr>\n",
       "    <tr>\n",
       "      <th>3</th>\n",
       "      <td>Germany</td>\n",
       "      <td>Europe</td>\n",
       "      <td>4429838</td>\n",
       "      <td>2023</td>\n",
       "      <td>4072192</td>\n",
       "      <td>2022</td>\n",
       "      <td>4259935</td>\n",
       "      <td>2021</td>\n",
       "    </tr>\n",
       "    <tr>\n",
       "      <th>4</th>\n",
       "      <td>Japan</td>\n",
       "      <td>Asia</td>\n",
       "      <td>4230862</td>\n",
       "      <td>2023</td>\n",
       "      <td>4231141</td>\n",
       "      <td>2022</td>\n",
       "      <td>4940878</td>\n",
       "      <td>2021</td>\n",
       "    </tr>\n",
       "    <tr>\n",
       "      <th>...</th>\n",
       "      <td>...</td>\n",
       "      <td>...</td>\n",
       "      <td>...</td>\n",
       "      <td>...</td>\n",
       "      <td>...</td>\n",
       "      <td>...</td>\n",
       "      <td>...</td>\n",
       "      <td>...</td>\n",
       "    </tr>\n",
       "    <tr>\n",
       "      <th>209</th>\n",
       "      <td>Palau</td>\n",
       "      <td>Oceania</td>\n",
       "      <td>267</td>\n",
       "      <td>2023</td>\n",
       "      <td>—</td>\n",
       "      <td>—</td>\n",
       "      <td>218</td>\n",
       "      <td>2021</td>\n",
       "    </tr>\n",
       "    <tr>\n",
       "      <th>210</th>\n",
       "      <td>Kiribati</td>\n",
       "      <td>Oceania</td>\n",
       "      <td>246</td>\n",
       "      <td>2023</td>\n",
       "      <td>223</td>\n",
       "      <td>2022</td>\n",
       "      <td>227</td>\n",
       "      <td>2021</td>\n",
       "    </tr>\n",
       "    <tr>\n",
       "      <th>211</th>\n",
       "      <td>Nauru</td>\n",
       "      <td>Oceania</td>\n",
       "      <td>150</td>\n",
       "      <td>2023</td>\n",
       "      <td>151</td>\n",
       "      <td>2022</td>\n",
       "      <td>155</td>\n",
       "      <td>2021</td>\n",
       "    </tr>\n",
       "    <tr>\n",
       "      <th>212</th>\n",
       "      <td>Montserrat</td>\n",
       "      <td>Americas</td>\n",
       "      <td>—</td>\n",
       "      <td>—</td>\n",
       "      <td>—</td>\n",
       "      <td>—</td>\n",
       "      <td>72</td>\n",
       "      <td>2021</td>\n",
       "    </tr>\n",
       "    <tr>\n",
       "      <th>213</th>\n",
       "      <td>Tuvalu</td>\n",
       "      <td>Oceania</td>\n",
       "      <td>63</td>\n",
       "      <td>2023</td>\n",
       "      <td>60</td>\n",
       "      <td>2022</td>\n",
       "      <td>60</td>\n",
       "      <td>2021</td>\n",
       "    </tr>\n",
       "  </tbody>\n",
       "</table>\n",
       "<p>214 rows × 8 columns</p>\n",
       "</div>"
      ],
      "text/plain": [
       "    Country/Territory UN Region IMF Forecast       Year World Bank Estimate  \\\n",
       "0               World         —    104476432       2023           100562011   \n",
       "1       United States  Americas     26949643       2023            25462700   \n",
       "2               China      Asia     17700899  [n 1]2023            17963171   \n",
       "3             Germany    Europe      4429838       2023             4072192   \n",
       "4               Japan      Asia      4230862       2023             4231141   \n",
       "..                ...       ...          ...        ...                 ...   \n",
       "209             Palau   Oceania          267       2023                   —   \n",
       "210          Kiribati   Oceania          246       2023                 223   \n",
       "211             Nauru   Oceania          150       2023                 151   \n",
       "212        Montserrat  Americas            —          —                   —   \n",
       "213            Tuvalu   Oceania           63       2023                  60   \n",
       "\n",
       "       WB Year UN Estimate    UN Year  \n",
       "0         2022    96698005       2021  \n",
       "1         2022    23315081       2021  \n",
       "2    [n 3]2022    17734131  [n 1]2021  \n",
       "3         2022     4259935       2021  \n",
       "4         2022     4940878       2021  \n",
       "..         ...         ...        ...  \n",
       "209          —         218       2021  \n",
       "210       2022         227       2021  \n",
       "211       2022         155       2021  \n",
       "212          —          72       2021  \n",
       "213       2022          60       2021  \n",
       "\n",
       "[214 rows x 8 columns]"
      ]
     },
     "execution_count": 6,
     "metadata": {},
     "output_type": "execute_result"
    }
   ],
   "source": [
    "chart.columns = ['Country/Territory', 'UN Region', 'IMF Forecast', 'Year', 'World Bank Estimate', 'WB Year', 'UN Estimate', 'UN Year']\n",
    "chart"
   ]
  },
  {
   "cell_type": "code",
   "execution_count": 9,
   "id": "04ca52bd-71b6-4fc0-bbe9-1c10b1948fbf",
   "metadata": {},
   "outputs": [
    {
     "data": {
      "application/vnd.plotly.v1+json": {
       "config": {
        "plotlyServerURL": "https://plot.ly"
       },
       "data": [
        {
         "alignmentgroup": "True",
         "hovertemplate": "Country/Territory: %{label}<br>IMF Forecast: %{value}",
         "legendgroup": "United States",
         "marker": {
          "color": "#636efa",
          "pattern": {
           "shape": ""
          }
         },
         "name": "United States",
         "offsetgroup": "United States",
         "orientation": "v",
         "showlegend": true,
         "textposition": "auto",
         "type": "bar",
         "x": [
          "Americas"
         ],
         "xaxis": "x",
         "y": [
          26949643
         ],
         "yaxis": "y"
        },
        {
         "alignmentgroup": "True",
         "hovertemplate": "Country/Territory: %{label}<br>IMF Forecast: %{value}",
         "legendgroup": "China",
         "marker": {
          "color": "#EF553B",
          "pattern": {
           "shape": ""
          }
         },
         "name": "China",
         "offsetgroup": "China",
         "orientation": "v",
         "showlegend": true,
         "textposition": "auto",
         "type": "bar",
         "x": [
          "Asia"
         ],
         "xaxis": "x",
         "y": [
          17700899
         ],
         "yaxis": "y"
        },
        {
         "alignmentgroup": "True",
         "hovertemplate": "Country/Territory: %{label}<br>IMF Forecast: %{value}",
         "legendgroup": "Germany",
         "marker": {
          "color": "#00cc96",
          "pattern": {
           "shape": ""
          }
         },
         "name": "Germany",
         "offsetgroup": "Germany",
         "orientation": "v",
         "showlegend": true,
         "textposition": "auto",
         "type": "bar",
         "x": [
          "Europe"
         ],
         "xaxis": "x",
         "y": [
          4429838
         ],
         "yaxis": "y"
        },
        {
         "alignmentgroup": "True",
         "hovertemplate": "Country/Territory: %{label}<br>IMF Forecast: %{value}",
         "legendgroup": "Japan",
         "marker": {
          "color": "#ab63fa",
          "pattern": {
           "shape": ""
          }
         },
         "name": "Japan",
         "offsetgroup": "Japan",
         "orientation": "v",
         "showlegend": true,
         "textposition": "auto",
         "type": "bar",
         "x": [
          "Asia"
         ],
         "xaxis": "x",
         "y": [
          4230862
         ],
         "yaxis": "y"
        },
        {
         "alignmentgroup": "True",
         "hovertemplate": "Country/Territory: %{label}<br>IMF Forecast: %{value}",
         "legendgroup": "India",
         "marker": {
          "color": "#FFA15A",
          "pattern": {
           "shape": ""
          }
         },
         "name": "India",
         "offsetgroup": "India",
         "orientation": "v",
         "showlegend": true,
         "textposition": "auto",
         "type": "bar",
         "x": [
          "Asia"
         ],
         "xaxis": "x",
         "y": [
          3732224
         ],
         "yaxis": "y"
        },
        {
         "alignmentgroup": "True",
         "hovertemplate": "Country/Territory: %{label}<br>IMF Forecast: %{value}",
         "legendgroup": "United Kingdom",
         "marker": {
          "color": "#19d3f3",
          "pattern": {
           "shape": ""
          }
         },
         "name": "United Kingdom",
         "offsetgroup": "United Kingdom",
         "orientation": "v",
         "showlegend": true,
         "textposition": "auto",
         "type": "bar",
         "x": [
          "Europe"
         ],
         "xaxis": "x",
         "y": [
          3332059
         ],
         "yaxis": "y"
        },
        {
         "alignmentgroup": "True",
         "hovertemplate": "Country/Territory: %{label}<br>IMF Forecast: %{value}",
         "legendgroup": "France",
         "marker": {
          "color": "#FF6692",
          "pattern": {
           "shape": ""
          }
         },
         "name": "France",
         "offsetgroup": "France",
         "orientation": "v",
         "showlegend": true,
         "textposition": "auto",
         "type": "bar",
         "x": [
          "Europe"
         ],
         "xaxis": "x",
         "y": [
          3049016
         ],
         "yaxis": "y"
        },
        {
         "alignmentgroup": "True",
         "hovertemplate": "Country/Territory: %{label}<br>IMF Forecast: %{value}",
         "legendgroup": "Italy",
         "marker": {
          "color": "#B6E880",
          "pattern": {
           "shape": ""
          }
         },
         "name": "Italy",
         "offsetgroup": "Italy",
         "orientation": "v",
         "showlegend": true,
         "textposition": "auto",
         "type": "bar",
         "x": [
          "Europe"
         ],
         "xaxis": "x",
         "y": [
          2186082
         ],
         "yaxis": "y"
        },
        {
         "alignmentgroup": "True",
         "hovertemplate": "Country/Territory: %{label}<br>IMF Forecast: %{value}",
         "legendgroup": "Brazil",
         "marker": {
          "color": "#FF97FF",
          "pattern": {
           "shape": ""
          }
         },
         "name": "Brazil",
         "offsetgroup": "Brazil",
         "orientation": "v",
         "showlegend": true,
         "textposition": "auto",
         "type": "bar",
         "x": [
          "Americas"
         ],
         "xaxis": "x",
         "y": [
          2126809
         ],
         "yaxis": "y"
        },
        {
         "alignmentgroup": "True",
         "hovertemplate": "Country/Territory: %{label}<br>IMF Forecast: %{value}",
         "legendgroup": "Canada",
         "marker": {
          "color": "#FECB52",
          "pattern": {
           "shape": ""
          }
         },
         "name": "Canada",
         "offsetgroup": "Canada",
         "orientation": "v",
         "showlegend": true,
         "textposition": "auto",
         "type": "bar",
         "x": [
          "Americas"
         ],
         "xaxis": "x",
         "y": [
          2117805
         ],
         "yaxis": "y"
        },
        {
         "alignmentgroup": "True",
         "hovertemplate": "Country/Territory: %{label}<br>IMF Forecast: %{value}",
         "legendgroup": "Russia",
         "marker": {
          "color": "#636efa",
          "pattern": {
           "shape": ""
          }
         },
         "name": "Russia",
         "offsetgroup": "Russia",
         "orientation": "v",
         "showlegend": true,
         "textposition": "auto",
         "type": "bar",
         "x": [
          "Europe"
         ],
         "xaxis": "x",
         "y": [
          1862470
         ],
         "yaxis": "y"
        },
        {
         "alignmentgroup": "True",
         "hovertemplate": "Country/Territory: %{label}<br>IMF Forecast: %{value}",
         "legendgroup": "Mexico",
         "marker": {
          "color": "#EF553B",
          "pattern": {
           "shape": ""
          }
         },
         "name": "Mexico",
         "offsetgroup": "Mexico",
         "orientation": "v",
         "showlegend": true,
         "textposition": "auto",
         "type": "bar",
         "x": [
          "Americas"
         ],
         "xaxis": "x",
         "y": [
          1811468
         ],
         "yaxis": "y"
        },
        {
         "alignmentgroup": "True",
         "hovertemplate": "Country/Territory: %{label}<br>IMF Forecast: %{value}",
         "legendgroup": "South Korea",
         "marker": {
          "color": "#00cc96",
          "pattern": {
           "shape": ""
          }
         },
         "name": "South Korea",
         "offsetgroup": "South Korea",
         "orientation": "v",
         "showlegend": true,
         "textposition": "auto",
         "type": "bar",
         "x": [
          "Asia"
         ],
         "xaxis": "x",
         "y": [
          1709232
         ],
         "yaxis": "y"
        },
        {
         "alignmentgroup": "True",
         "hovertemplate": "Country/Territory: %{label}<br>IMF Forecast: %{value}",
         "legendgroup": "Australia",
         "marker": {
          "color": "#ab63fa",
          "pattern": {
           "shape": ""
          }
         },
         "name": "Australia",
         "offsetgroup": "Australia",
         "orientation": "v",
         "showlegend": true,
         "textposition": "auto",
         "type": "bar",
         "x": [
          "Oceania"
         ],
         "xaxis": "x",
         "y": [
          1687713
         ],
         "yaxis": "y"
        },
        {
         "alignmentgroup": "True",
         "hovertemplate": "Country/Territory: %{label}<br>IMF Forecast: %{value}",
         "legendgroup": "Spain",
         "marker": {
          "color": "#FFA15A",
          "pattern": {
           "shape": ""
          }
         },
         "name": "Spain",
         "offsetgroup": "Spain",
         "orientation": "v",
         "showlegend": true,
         "textposition": "auto",
         "type": "bar",
         "x": [
          "Europe"
         ],
         "xaxis": "x",
         "y": [
          1582054
         ],
         "yaxis": "y"
        },
        {
         "alignmentgroup": "True",
         "hovertemplate": "Country/Territory: %{label}<br>IMF Forecast: %{value}",
         "legendgroup": "Indonesia",
         "marker": {
          "color": "#19d3f3",
          "pattern": {
           "shape": ""
          }
         },
         "name": "Indonesia",
         "offsetgroup": "Indonesia",
         "orientation": "v",
         "showlegend": true,
         "textposition": "auto",
         "type": "bar",
         "x": [
          "Asia"
         ],
         "xaxis": "x",
         "y": [
          1417387
         ],
         "yaxis": "y"
        },
        {
         "alignmentgroup": "True",
         "hovertemplate": "Country/Territory: %{label}<br>IMF Forecast: %{value}",
         "legendgroup": "Turkey",
         "marker": {
          "color": "#FF6692",
          "pattern": {
           "shape": ""
          }
         },
         "name": "Turkey",
         "offsetgroup": "Turkey",
         "orientation": "v",
         "showlegend": true,
         "textposition": "auto",
         "type": "bar",
         "x": [
          "Asia"
         ],
         "xaxis": "x",
         "y": [
          1154600
         ],
         "yaxis": "y"
        },
        {
         "alignmentgroup": "True",
         "hovertemplate": "Country/Territory: %{label}<br>IMF Forecast: %{value}",
         "legendgroup": "Netherlands",
         "marker": {
          "color": "#B6E880",
          "pattern": {
           "shape": ""
          }
         },
         "name": "Netherlands",
         "offsetgroup": "Netherlands",
         "orientation": "v",
         "showlegend": true,
         "textposition": "auto",
         "type": "bar",
         "x": [
          "Europe"
         ],
         "xaxis": "x",
         "y": [
          1092748
         ],
         "yaxis": "y"
        },
        {
         "alignmentgroup": "True",
         "hovertemplate": "Country/Territory: %{label}<br>IMF Forecast: %{value}",
         "legendgroup": "Saudi Arabia",
         "marker": {
          "color": "#FF97FF",
          "pattern": {
           "shape": ""
          }
         },
         "name": "Saudi Arabia",
         "offsetgroup": "Saudi Arabia",
         "orientation": "v",
         "showlegend": true,
         "textposition": "auto",
         "type": "bar",
         "x": [
          "Asia"
         ],
         "xaxis": "x",
         "y": [
          1069437
         ],
         "yaxis": "y"
        },
        {
         "alignmentgroup": "True",
         "hovertemplate": "Country/Territory: %{label}<br>IMF Forecast: %{value}",
         "legendgroup": "Switzerland",
         "marker": {
          "color": "#FECB52",
          "pattern": {
           "shape": ""
          }
         },
         "name": "Switzerland",
         "offsetgroup": "Switzerland",
         "orientation": "v",
         "showlegend": true,
         "textposition": "auto",
         "type": "bar",
         "x": [
          "Europe"
         ],
         "xaxis": "x",
         "y": [
          905684
         ],
         "yaxis": "y"
        },
        {
         "alignmentgroup": "True",
         "hovertemplate": "Country/Territory: %{label}<br>IMF Forecast: %{value}",
         "legendgroup": "Poland",
         "marker": {
          "color": "#636efa",
          "pattern": {
           "shape": ""
          }
         },
         "name": "Poland",
         "offsetgroup": "Poland",
         "orientation": "v",
         "showlegend": true,
         "textposition": "auto",
         "type": "bar",
         "x": [
          "Europe"
         ],
         "xaxis": "x",
         "y": [
          842172
         ],
         "yaxis": "y"
        },
        {
         "alignmentgroup": "True",
         "hovertemplate": "Country/Territory: %{label}<br>IMF Forecast: %{value}",
         "legendgroup": "Taiwan",
         "marker": {
          "color": "#EF553B",
          "pattern": {
           "shape": ""
          }
         },
         "name": "Taiwan",
         "offsetgroup": "Taiwan",
         "orientation": "v",
         "showlegend": true,
         "textposition": "auto",
         "type": "bar",
         "x": [
          "Asia"
         ],
         "xaxis": "x",
         "y": [
          751930
         ],
         "yaxis": "y"
        },
        {
         "alignmentgroup": "True",
         "hovertemplate": "Country/Territory: %{label}<br>IMF Forecast: %{value}",
         "legendgroup": "Belgium",
         "marker": {
          "color": "#00cc96",
          "pattern": {
           "shape": ""
          }
         },
         "name": "Belgium",
         "offsetgroup": "Belgium",
         "orientation": "v",
         "showlegend": true,
         "textposition": "auto",
         "type": "bar",
         "x": [
          "Europe"
         ],
         "xaxis": "x",
         "y": [
          627511
         ],
         "yaxis": "y"
        },
        {
         "alignmentgroup": "True",
         "hovertemplate": "Country/Territory: %{label}<br>IMF Forecast: %{value}",
         "legendgroup": "Argentina",
         "marker": {
          "color": "#ab63fa",
          "pattern": {
           "shape": ""
          }
         },
         "name": "Argentina",
         "offsetgroup": "Argentina",
         "orientation": "v",
         "showlegend": true,
         "textposition": "auto",
         "type": "bar",
         "x": [
          "Americas"
         ],
         "xaxis": "x",
         "y": [
          621833
         ],
         "yaxis": "y"
        },
        {
         "alignmentgroup": "True",
         "hovertemplate": "Country/Territory: %{label}<br>IMF Forecast: %{value}",
         "legendgroup": "Sweden",
         "marker": {
          "color": "#FFA15A",
          "pattern": {
           "shape": ""
          }
         },
         "name": "Sweden",
         "offsetgroup": "Sweden",
         "orientation": "v",
         "showlegend": true,
         "textposition": "auto",
         "type": "bar",
         "x": [
          "Europe"
         ],
         "xaxis": "x",
         "y": [
          597110
         ],
         "yaxis": "y"
        },
        {
         "alignmentgroup": "True",
         "hovertemplate": "Country/Territory: %{label}<br>IMF Forecast: %{value}",
         "legendgroup": "Ireland",
         "marker": {
          "color": "#19d3f3",
          "pattern": {
           "shape": ""
          }
         },
         "name": "Ireland",
         "offsetgroup": "Ireland",
         "orientation": "v",
         "showlegend": true,
         "textposition": "auto",
         "type": "bar",
         "x": [
          "Europe"
         ],
         "xaxis": "x",
         "y": [
          589569
         ],
         "yaxis": "y"
        },
        {
         "alignmentgroup": "True",
         "hovertemplate": "Country/Territory: %{label}<br>IMF Forecast: %{value}",
         "legendgroup": "Norway",
         "marker": {
          "color": "#FF6692",
          "pattern": {
           "shape": ""
          }
         },
         "name": "Norway",
         "offsetgroup": "Norway",
         "orientation": "v",
         "showlegend": true,
         "textposition": "auto",
         "type": "bar",
         "x": [
          "Europe"
         ],
         "xaxis": "x",
         "y": [
          546768
         ],
         "yaxis": "y"
        },
        {
         "alignmentgroup": "True",
         "hovertemplate": "Country/Territory: %{label}<br>IMF Forecast: %{value}",
         "legendgroup": "Austria",
         "marker": {
          "color": "#B6E880",
          "pattern": {
           "shape": ""
          }
         },
         "name": "Austria",
         "offsetgroup": "Austria",
         "orientation": "v",
         "showlegend": true,
         "textposition": "auto",
         "type": "bar",
         "x": [
          "Europe"
         ],
         "xaxis": "x",
         "y": [
          526182
         ],
         "yaxis": "y"
        },
        {
         "alignmentgroup": "True",
         "hovertemplate": "Country/Territory: %{label}<br>IMF Forecast: %{value}",
         "legendgroup": "Israel",
         "marker": {
          "color": "#FF97FF",
          "pattern": {
           "shape": ""
          }
         },
         "name": "Israel",
         "offsetgroup": "Israel",
         "orientation": "v",
         "showlegend": true,
         "textposition": "auto",
         "type": "bar",
         "x": [
          "Asia"
         ],
         "xaxis": "x",
         "y": [
          521688
         ],
         "yaxis": "y"
        },
        {
         "alignmentgroup": "True",
         "hovertemplate": "Country/Territory: %{label}<br>IMF Forecast: %{value}",
         "legendgroup": "Thailand",
         "marker": {
          "color": "#FECB52",
          "pattern": {
           "shape": ""
          }
         },
         "name": "Thailand",
         "offsetgroup": "Thailand",
         "orientation": "v",
         "showlegend": true,
         "textposition": "auto",
         "type": "bar",
         "x": [
          "Asia"
         ],
         "xaxis": "x",
         "y": [
          512193
         ],
         "yaxis": "y"
        },
        {
         "alignmentgroup": "True",
         "hovertemplate": "Country/Territory: %{label}<br>IMF Forecast: %{value}",
         "legendgroup": "United Arab Emirates",
         "marker": {
          "color": "#636efa",
          "pattern": {
           "shape": ""
          }
         },
         "name": "United Arab Emirates",
         "offsetgroup": "United Arab Emirates",
         "orientation": "v",
         "showlegend": true,
         "textposition": "auto",
         "type": "bar",
         "x": [
          "Asia"
         ],
         "xaxis": "x",
         "y": [
          509179
         ],
         "yaxis": "y"
        },
        {
         "alignmentgroup": "True",
         "hovertemplate": "Country/Territory: %{label}<br>IMF Forecast: %{value}",
         "legendgroup": "Singapore",
         "marker": {
          "color": "#EF553B",
          "pattern": {
           "shape": ""
          }
         },
         "name": "Singapore",
         "offsetgroup": "Singapore",
         "orientation": "v",
         "showlegend": true,
         "textposition": "auto",
         "type": "bar",
         "x": [
          "Asia"
         ],
         "xaxis": "x",
         "y": [
          497347
         ],
         "yaxis": "y"
        },
        {
         "alignmentgroup": "True",
         "hovertemplate": "Country/Territory: %{label}<br>IMF Forecast: %{value}",
         "legendgroup": "Bangladesh",
         "marker": {
          "color": "#00cc96",
          "pattern": {
           "shape": ""
          }
         },
         "name": "Bangladesh",
         "offsetgroup": "Bangladesh",
         "orientation": "v",
         "showlegend": true,
         "textposition": "auto",
         "type": "bar",
         "x": [
          "Asia"
         ],
         "xaxis": "x",
         "y": [
          446349
         ],
         "yaxis": "y"
        },
        {
         "alignmentgroup": "True",
         "hovertemplate": "Country/Territory: %{label}<br>IMF Forecast: %{value}",
         "legendgroup": "Philippines",
         "marker": {
          "color": "#ab63fa",
          "pattern": {
           "shape": ""
          }
         },
         "name": "Philippines",
         "offsetgroup": "Philippines",
         "orientation": "v",
         "showlegend": true,
         "textposition": "auto",
         "type": "bar",
         "x": [
          "Asia"
         ],
         "xaxis": "x",
         "y": [
          435675
         ],
         "yaxis": "y"
        },
        {
         "alignmentgroup": "True",
         "hovertemplate": "Country/Territory: %{label}<br>IMF Forecast: %{value}",
         "legendgroup": "Vietnam",
         "marker": {
          "color": "#FFA15A",
          "pattern": {
           "shape": ""
          }
         },
         "name": "Vietnam",
         "offsetgroup": "Vietnam",
         "orientation": "v",
         "showlegend": true,
         "textposition": "auto",
         "type": "bar",
         "x": [
          "Asia"
         ],
         "xaxis": "x",
         "y": [
          433356
         ],
         "yaxis": "y"
        },
        {
         "alignmentgroup": "True",
         "hovertemplate": "Country/Territory: %{label}<br>IMF Forecast: %{value}",
         "legendgroup": "Malaysia",
         "marker": {
          "color": "#19d3f3",
          "pattern": {
           "shape": ""
          }
         },
         "name": "Malaysia",
         "offsetgroup": "Malaysia",
         "orientation": "v",
         "showlegend": true,
         "textposition": "auto",
         "type": "bar",
         "x": [
          "Asia"
         ],
         "xaxis": "x",
         "y": [
          430895
         ],
         "yaxis": "y"
        },
        {
         "alignmentgroup": "True",
         "hovertemplate": "Country/Territory: %{label}<br>IMF Forecast: %{value}",
         "legendgroup": "Denmark",
         "marker": {
          "color": "#FF6692",
          "pattern": {
           "shape": ""
          }
         },
         "name": "Denmark",
         "offsetgroup": "Denmark",
         "orientation": "v",
         "showlegend": true,
         "textposition": "auto",
         "type": "bar",
         "x": [
          "Europe"
         ],
         "xaxis": "x",
         "y": [
          420800
         ],
         "yaxis": "y"
        },
        {
         "alignmentgroup": "True",
         "hovertemplate": "Country/Territory: %{label}<br>IMF Forecast: %{value}",
         "legendgroup": "Egypt",
         "marker": {
          "color": "#B6E880",
          "pattern": {
           "shape": ""
          }
         },
         "name": "Egypt",
         "offsetgroup": "Egypt",
         "orientation": "v",
         "showlegend": true,
         "textposition": "auto",
         "type": "bar",
         "x": [
          "Africa"
         ],
         "xaxis": "x",
         "y": [
          398397
         ],
         "yaxis": "y"
        },
        {
         "alignmentgroup": "True",
         "hovertemplate": "Country/Territory: %{label}<br>IMF Forecast: %{value}",
         "legendgroup": "Nigeria",
         "marker": {
          "color": "#FF97FF",
          "pattern": {
           "shape": ""
          }
         },
         "name": "Nigeria",
         "offsetgroup": "Nigeria",
         "orientation": "v",
         "showlegend": true,
         "textposition": "auto",
         "type": "bar",
         "x": [
          "Africa"
         ],
         "xaxis": "x",
         "y": [
          390002
         ],
         "yaxis": "y"
        },
        {
         "alignmentgroup": "True",
         "hovertemplate": "Country/Territory: %{label}<br>IMF Forecast: %{value}",
         "legendgroup": "Hong Kong",
         "marker": {
          "color": "#FECB52",
          "pattern": {
           "shape": ""
          }
         },
         "name": "Hong Kong",
         "offsetgroup": "Hong Kong",
         "orientation": "v",
         "showlegend": true,
         "textposition": "auto",
         "type": "bar",
         "x": [
          "Asia"
         ],
         "xaxis": "x",
         "y": [
          385546
         ],
         "yaxis": "y"
        },
        {
         "alignmentgroup": "True",
         "hovertemplate": "Country/Territory: %{label}<br>IMF Forecast: %{value}",
         "legendgroup": "South Africa",
         "marker": {
          "color": "#636efa",
          "pattern": {
           "shape": ""
          }
         },
         "name": "South Africa",
         "offsetgroup": "South Africa",
         "orientation": "v",
         "showlegend": true,
         "textposition": "auto",
         "type": "bar",
         "x": [
          "Africa"
         ],
         "xaxis": "x",
         "y": [
          380906
         ],
         "yaxis": "y"
        },
        {
         "alignmentgroup": "True",
         "hovertemplate": "Country/Territory: %{label}<br>IMF Forecast: %{value}",
         "legendgroup": "Iran",
         "marker": {
          "color": "#EF553B",
          "pattern": {
           "shape": ""
          }
         },
         "name": "Iran",
         "offsetgroup": "Iran",
         "orientation": "v",
         "showlegend": true,
         "textposition": "auto",
         "type": "bar",
         "x": [
          "Asia"
         ],
         "xaxis": "x",
         "y": [
          366438
         ],
         "yaxis": "y"
        },
        {
         "alignmentgroup": "True",
         "hovertemplate": "Country/Territory: %{label}<br>IMF Forecast: %{value}",
         "legendgroup": "Colombia",
         "marker": {
          "color": "#00cc96",
          "pattern": {
           "shape": ""
          }
         },
         "name": "Colombia",
         "offsetgroup": "Colombia",
         "orientation": "v",
         "showlegend": true,
         "textposition": "auto",
         "type": "bar",
         "x": [
          "Americas"
         ],
         "xaxis": "x",
         "y": [
          363835
         ],
         "yaxis": "y"
        },
        {
         "alignmentgroup": "True",
         "hovertemplate": "Country/Territory: %{label}<br>IMF Forecast: %{value}",
         "legendgroup": "Romania",
         "marker": {
          "color": "#ab63fa",
          "pattern": {
           "shape": ""
          }
         },
         "name": "Romania",
         "offsetgroup": "Romania",
         "orientation": "v",
         "showlegend": true,
         "textposition": "auto",
         "type": "bar",
         "x": [
          "Europe"
         ],
         "xaxis": "x",
         "y": [
          350414
         ],
         "yaxis": "y"
        },
        {
         "alignmentgroup": "True",
         "hovertemplate": "Country/Territory: %{label}<br>IMF Forecast: %{value}",
         "legendgroup": "Chile",
         "marker": {
          "color": "#FFA15A",
          "pattern": {
           "shape": ""
          }
         },
         "name": "Chile",
         "offsetgroup": "Chile",
         "orientation": "v",
         "showlegend": true,
         "textposition": "auto",
         "type": "bar",
         "x": [
          "Americas"
         ],
         "xaxis": "x",
         "y": [
          344400
         ],
         "yaxis": "y"
        },
        {
         "alignmentgroup": "True",
         "hovertemplate": "Country/Territory: %{label}<br>IMF Forecast: %{value}",
         "legendgroup": "Pakistan",
         "marker": {
          "color": "#19d3f3",
          "pattern": {
           "shape": ""
          }
         },
         "name": "Pakistan",
         "offsetgroup": "Pakistan",
         "orientation": "v",
         "showlegend": true,
         "textposition": "auto",
         "type": "bar",
         "x": [
          "Asia"
         ],
         "xaxis": "x",
         "y": [
          340636
         ],
         "yaxis": "y"
        },
        {
         "alignmentgroup": "True",
         "hovertemplate": "Country/Territory: %{label}<br>IMF Forecast: %{value}",
         "legendgroup": "Czech Republic",
         "marker": {
          "color": "#FF6692",
          "pattern": {
           "shape": ""
          }
         },
         "name": "Czech Republic",
         "offsetgroup": "Czech Republic",
         "orientation": "v",
         "showlegend": true,
         "textposition": "auto",
         "type": "bar",
         "x": [
          "Europe"
         ],
         "xaxis": "x",
         "y": [
          335243
         ],
         "yaxis": "y"
        },
        {
         "alignmentgroup": "True",
         "hovertemplate": "Country/Territory: %{label}<br>IMF Forecast: %{value}",
         "legendgroup": "Finland",
         "marker": {
          "color": "#B6E880",
          "pattern": {
           "shape": ""
          }
         },
         "name": "Finland",
         "offsetgroup": "Finland",
         "orientation": "v",
         "showlegend": true,
         "textposition": "auto",
         "type": "bar",
         "x": [
          "Europe"
         ],
         "xaxis": "x",
         "y": [
          305689
         ],
         "yaxis": "y"
        },
        {
         "alignmentgroup": "True",
         "hovertemplate": "Country/Territory: %{label}<br>IMF Forecast: %{value}",
         "legendgroup": "Iraq",
         "marker": {
          "color": "#FF97FF",
          "pattern": {
           "shape": ""
          }
         },
         "name": "Iraq",
         "offsetgroup": "Iraq",
         "orientation": "v",
         "showlegend": true,
         "textposition": "auto",
         "type": "bar",
         "x": [
          "Asia"
         ],
         "xaxis": "x",
         "y": [
          297695
         ],
         "yaxis": "y"
        },
        {
         "alignmentgroup": "True",
         "hovertemplate": "Country/Territory: %{label}<br>IMF Forecast: %{value}",
         "legendgroup": "Portugal",
         "marker": {
          "color": "#FECB52",
          "pattern": {
           "shape": ""
          }
         },
         "name": "Portugal",
         "offsetgroup": "Portugal",
         "orientation": "v",
         "showlegend": true,
         "textposition": "auto",
         "type": "bar",
         "x": [
          "Europe"
         ],
         "xaxis": "x",
         "y": [
          276432
         ],
         "yaxis": "y"
        },
        {
         "alignmentgroup": "True",
         "hovertemplate": "Country/Territory: %{label}<br>IMF Forecast: %{value}",
         "legendgroup": "Peru",
         "marker": {
          "color": "#636efa",
          "pattern": {
           "shape": ""
          }
         },
         "name": "Peru",
         "offsetgroup": "Peru",
         "orientation": "v",
         "showlegend": true,
         "textposition": "auto",
         "type": "bar",
         "x": [
          "Americas"
         ],
         "xaxis": "x",
         "y": [
          264636
         ],
         "yaxis": "y"
        },
        {
         "alignmentgroup": "True",
         "hovertemplate": "Country/Territory: %{label}<br>IMF Forecast: %{value}",
         "legendgroup": "Kazakhstan",
         "marker": {
          "color": "#EF553B",
          "pattern": {
           "shape": ""
          }
         },
         "name": "Kazakhstan",
         "offsetgroup": "Kazakhstan",
         "orientation": "v",
         "showlegend": true,
         "textposition": "auto",
         "type": "bar",
         "x": [
          "Asia"
         ],
         "xaxis": "x",
         "y": [
          259292
         ],
         "yaxis": "y"
        },
        {
         "alignmentgroup": "True",
         "hovertemplate": "Country/Territory: %{label}<br>IMF Forecast: %{value}",
         "legendgroup": "New Zealand",
         "marker": {
          "color": "#00cc96",
          "pattern": {
           "shape": ""
          }
         },
         "name": "New Zealand",
         "offsetgroup": "New Zealand",
         "orientation": "v",
         "showlegend": true,
         "textposition": "auto",
         "type": "bar",
         "x": [
          "Oceania"
         ],
         "xaxis": "x",
         "y": [
          249415
         ],
         "yaxis": "y"
        },
        {
         "alignmentgroup": "True",
         "hovertemplate": "Country/Territory: %{label}<br>IMF Forecast: %{value}",
         "legendgroup": "Greece",
         "marker": {
          "color": "#ab63fa",
          "pattern": {
           "shape": ""
          }
         },
         "name": "Greece",
         "offsetgroup": "Greece",
         "orientation": "v",
         "showlegend": true,
         "textposition": "auto",
         "type": "bar",
         "x": [
          "Europe"
         ],
         "xaxis": "x",
         "y": [
          242385
         ],
         "yaxis": "y"
        },
        {
         "alignmentgroup": "True",
         "hovertemplate": "Country/Territory: %{label}<br>IMF Forecast: %{value}",
         "legendgroup": "Qatar",
         "marker": {
          "color": "#FFA15A",
          "pattern": {
           "shape": ""
          }
         },
         "name": "Qatar",
         "offsetgroup": "Qatar",
         "orientation": "v",
         "showlegend": true,
         "textposition": "auto",
         "type": "bar",
         "x": [
          "Asia"
         ],
         "xaxis": "x",
         "y": [
          235500
         ],
         "yaxis": "y"
        },
        {
         "alignmentgroup": "True",
         "hovertemplate": "Country/Territory: %{label}<br>IMF Forecast: %{value}",
         "legendgroup": "Algeria",
         "marker": {
          "color": "#19d3f3",
          "pattern": {
           "shape": ""
          }
         },
         "name": "Algeria",
         "offsetgroup": "Algeria",
         "orientation": "v",
         "showlegend": true,
         "textposition": "auto",
         "type": "bar",
         "x": [
          "Africa"
         ],
         "xaxis": "x",
         "y": [
          224107
         ],
         "yaxis": "y"
        },
        {
         "alignmentgroup": "True",
         "hovertemplate": "Country/Territory: %{label}<br>IMF Forecast: %{value}",
         "legendgroup": "Hungary",
         "marker": {
          "color": "#FF6692",
          "pattern": {
           "shape": ""
          }
         },
         "name": "Hungary",
         "offsetgroup": "Hungary",
         "orientation": "v",
         "showlegend": true,
         "textposition": "auto",
         "type": "bar",
         "x": [
          "Europe"
         ],
         "xaxis": "x",
         "y": [
          203829
         ],
         "yaxis": "y"
        },
        {
         "alignmentgroup": "True",
         "hovertemplate": "Country/Territory: %{label}<br>IMF Forecast: %{value}",
         "legendgroup": "Ukraine",
         "marker": {
          "color": "#B6E880",
          "pattern": {
           "shape": ""
          }
         },
         "name": "Ukraine",
         "offsetgroup": "Ukraine",
         "orientation": "v",
         "showlegend": true,
         "textposition": "auto",
         "type": "bar",
         "x": [
          "Europe"
         ],
         "xaxis": "x",
         "y": [
          173413
         ],
         "yaxis": "y"
        },
        {
         "alignmentgroup": "True",
         "hovertemplate": "Country/Territory: %{label}<br>IMF Forecast: %{value}",
         "legendgroup": "Kuwait",
         "marker": {
          "color": "#FF97FF",
          "pattern": {
           "shape": ""
          }
         },
         "name": "Kuwait",
         "offsetgroup": "Kuwait",
         "orientation": "v",
         "showlegend": true,
         "textposition": "auto",
         "type": "bar",
         "x": [
          "Asia"
         ],
         "xaxis": "x",
         "y": [
          159687
         ],
         "yaxis": "y"
        },
        {
         "alignmentgroup": "True",
         "hovertemplate": "Country/Territory: %{label}<br>IMF Forecast: %{value}",
         "legendgroup": "Ethiopia",
         "marker": {
          "color": "#FECB52",
          "pattern": {
           "shape": ""
          }
         },
         "name": "Ethiopia",
         "offsetgroup": "Ethiopia",
         "orientation": "v",
         "showlegend": true,
         "textposition": "auto",
         "type": "bar",
         "x": [
          "Africa"
         ],
         "xaxis": "x",
         "y": [
          155804
         ],
         "yaxis": "y"
        },
        {
         "alignmentgroup": "True",
         "hovertemplate": "Country/Territory: %{label}<br>IMF Forecast: %{value}",
         "legendgroup": "Morocco",
         "marker": {
          "color": "#636efa",
          "pattern": {
           "shape": ""
          }
         },
         "name": "Morocco",
         "offsetgroup": "Morocco",
         "orientation": "v",
         "showlegend": true,
         "textposition": "auto",
         "type": "bar",
         "x": [
          "Africa"
         ],
         "xaxis": "x",
         "y": [
          147343
         ],
         "yaxis": "y"
        },
        {
         "alignmentgroup": "True",
         "hovertemplate": "Country/Territory: %{label}<br>IMF Forecast: %{value}",
         "legendgroup": "Slovakia",
         "marker": {
          "color": "#EF553B",
          "pattern": {
           "shape": ""
          }
         },
         "name": "Slovakia",
         "offsetgroup": "Slovakia",
         "orientation": "v",
         "showlegend": true,
         "textposition": "auto",
         "type": "bar",
         "x": [
          "Europe"
         ],
         "xaxis": "x",
         "y": [
          133044
         ],
         "yaxis": "y"
        },
        {
         "alignmentgroup": "True",
         "hovertemplate": "Country/Territory: %{label}<br>IMF Forecast: %{value}",
         "legendgroup": "Cuba",
         "marker": {
          "color": "#00cc96",
          "pattern": {
           "shape": ""
          }
         },
         "name": "Cuba",
         "offsetgroup": "Cuba",
         "orientation": "v",
         "showlegend": true,
         "textposition": "auto",
         "type": "bar",
         "x": [
          "Americas"
         ],
         "xaxis": "x",
         "y": [
          null
         ],
         "yaxis": "y"
        },
        {
         "alignmentgroup": "True",
         "hovertemplate": "Country/Territory: %{label}<br>IMF Forecast: %{value}",
         "legendgroup": "Dominican Republic",
         "marker": {
          "color": "#ab63fa",
          "pattern": {
           "shape": ""
          }
         },
         "name": "Dominican Republic",
         "offsetgroup": "Dominican Republic",
         "orientation": "v",
         "showlegend": true,
         "textposition": "auto",
         "type": "bar",
         "x": [
          "Americas"
         ],
         "xaxis": "x",
         "y": [
          120629
         ],
         "yaxis": "y"
        },
        {
         "alignmentgroup": "True",
         "hovertemplate": "Country/Territory: %{label}<br>IMF Forecast: %{value}",
         "legendgroup": "Ecuador",
         "marker": {
          "color": "#FFA15A",
          "pattern": {
           "shape": ""
          }
         },
         "name": "Ecuador",
         "offsetgroup": "Ecuador",
         "orientation": "v",
         "showlegend": true,
         "textposition": "auto",
         "type": "bar",
         "x": [
          "Americas"
         ],
         "xaxis": "x",
         "y": [
          118686
         ],
         "yaxis": "y"
        },
        {
         "alignmentgroup": "True",
         "hovertemplate": "Country/Territory: %{label}<br>IMF Forecast: %{value}",
         "legendgroup": "Puerto Rico",
         "marker": {
          "color": "#19d3f3",
          "pattern": {
           "shape": ""
          }
         },
         "name": "Puerto Rico",
         "offsetgroup": "Puerto Rico",
         "orientation": "v",
         "showlegend": true,
         "textposition": "auto",
         "type": "bar",
         "x": [
          "Americas"
         ],
         "xaxis": "x",
         "y": [
          117515
         ],
         "yaxis": "y"
        },
        {
         "alignmentgroup": "True",
         "hovertemplate": "Country/Territory: %{label}<br>IMF Forecast: %{value}",
         "legendgroup": "Kenya",
         "marker": {
          "color": "#FF6692",
          "pattern": {
           "shape": ""
          }
         },
         "name": "Kenya",
         "offsetgroup": "Kenya",
         "orientation": "v",
         "showlegend": true,
         "textposition": "auto",
         "type": "bar",
         "x": [
          "Africa"
         ],
         "xaxis": "x",
         "y": [
          112749
         ],
         "yaxis": "y"
        },
        {
         "alignmentgroup": "True",
         "hovertemplate": "Country/Territory: %{label}<br>IMF Forecast: %{value}",
         "legendgroup": "Oman",
         "marker": {
          "color": "#B6E880",
          "pattern": {
           "shape": ""
          }
         },
         "name": "Oman",
         "offsetgroup": "Oman",
         "orientation": "v",
         "showlegend": true,
         "textposition": "auto",
         "type": "bar",
         "x": [
          "Asia"
         ],
         "xaxis": "x",
         "y": [
          108282
         ],
         "yaxis": "y"
        },
        {
         "alignmentgroup": "True",
         "hovertemplate": "Country/Territory: %{label}<br>IMF Forecast: %{value}",
         "legendgroup": "Bulgaria",
         "marker": {
          "color": "#FF97FF",
          "pattern": {
           "shape": ""
          }
         },
         "name": "Bulgaria",
         "offsetgroup": "Bulgaria",
         "orientation": "v",
         "showlegend": true,
         "textposition": "auto",
         "type": "bar",
         "x": [
          "Europe"
         ],
         "xaxis": "x",
         "y": [
          103099
         ],
         "yaxis": "y"
        },
        {
         "alignmentgroup": "True",
         "hovertemplate": "Country/Territory: %{label}<br>IMF Forecast: %{value}",
         "legendgroup": "Guatemala",
         "marker": {
          "color": "#FECB52",
          "pattern": {
           "shape": ""
          }
         },
         "name": "Guatemala",
         "offsetgroup": "Guatemala",
         "orientation": "v",
         "showlegend": true,
         "textposition": "auto",
         "type": "bar",
         "x": [
          "Americas"
         ],
         "xaxis": "x",
         "y": [
          102765
         ],
         "yaxis": "y"
        },
        {
         "alignmentgroup": "True",
         "hovertemplate": "Country/Territory: %{label}<br>IMF Forecast: %{value}",
         "legendgroup": "Angola",
         "marker": {
          "color": "#636efa",
          "pattern": {
           "shape": ""
          }
         },
         "name": "Angola",
         "offsetgroup": "Angola",
         "orientation": "v",
         "showlegend": true,
         "textposition": "auto",
         "type": "bar",
         "x": [
          "Africa"
         ],
         "xaxis": "x",
         "y": [
          93796
         ],
         "yaxis": "y"
        },
        {
         "alignmentgroup": "True",
         "hovertemplate": "Country/Territory: %{label}<br>IMF Forecast: %{value}",
         "legendgroup": "Venezuela",
         "marker": {
          "color": "#EF553B",
          "pattern": {
           "shape": ""
          }
         },
         "name": "Venezuela",
         "offsetgroup": "Venezuela",
         "orientation": "v",
         "showlegend": true,
         "textposition": "auto",
         "type": "bar",
         "x": [
          "Americas"
         ],
         "xaxis": "x",
         "y": [
          92210
         ],
         "yaxis": "y"
        },
        {
         "alignmentgroup": "True",
         "hovertemplate": "Country/Territory: %{label}<br>IMF Forecast: %{value}",
         "legendgroup": "Uzbekistan",
         "marker": {
          "color": "#00cc96",
          "pattern": {
           "shape": ""
          }
         },
         "name": "Uzbekistan",
         "offsetgroup": "Uzbekistan",
         "orientation": "v",
         "showlegend": true,
         "textposition": "auto",
         "type": "bar",
         "x": [
          "Asia"
         ],
         "xaxis": "x",
         "y": [
          90392
         ],
         "yaxis": "y"
        },
        {
         "alignmentgroup": "True",
         "hovertemplate": "Country/Territory: %{label}<br>IMF Forecast: %{value}",
         "legendgroup": "Luxembourg",
         "marker": {
          "color": "#ab63fa",
          "pattern": {
           "shape": ""
          }
         },
         "name": "Luxembourg",
         "offsetgroup": "Luxembourg",
         "orientation": "v",
         "showlegend": true,
         "textposition": "auto",
         "type": "bar",
         "x": [
          "Europe"
         ],
         "xaxis": "x",
         "y": [
          89095
         ],
         "yaxis": "y"
        },
        {
         "alignmentgroup": "True",
         "hovertemplate": "Country/Territory: %{label}<br>IMF Forecast: %{value}",
         "legendgroup": "Costa Rica",
         "marker": {
          "color": "#FFA15A",
          "pattern": {
           "shape": ""
          }
         },
         "name": "Costa Rica",
         "offsetgroup": "Costa Rica",
         "orientation": "v",
         "showlegend": true,
         "textposition": "auto",
         "type": "bar",
         "x": [
          "Americas"
         ],
         "xaxis": "x",
         "y": [
          85590
         ],
         "yaxis": "y"
        },
        {
         "alignmentgroup": "True",
         "hovertemplate": "Country/Territory: %{label}<br>IMF Forecast: %{value}",
         "legendgroup": "Tanzania",
         "marker": {
          "color": "#19d3f3",
          "pattern": {
           "shape": ""
          }
         },
         "name": "Tanzania",
         "offsetgroup": "Tanzania",
         "orientation": "v",
         "showlegend": true,
         "textposition": "auto",
         "type": "bar",
         "x": [
          "Africa"
         ],
         "xaxis": "x",
         "y": [
          84033
         ],
         "yaxis": "y"
        },
        {
         "alignmentgroup": "True",
         "hovertemplate": "Country/Territory: %{label}<br>IMF Forecast: %{value}",
         "legendgroup": "Panama",
         "marker": {
          "color": "#FF6692",
          "pattern": {
           "shape": ""
          }
         },
         "name": "Panama",
         "offsetgroup": "Panama",
         "orientation": "v",
         "showlegend": true,
         "textposition": "auto",
         "type": "bar",
         "x": [
          "Americas"
         ],
         "xaxis": "x",
         "y": [
          82348
         ],
         "yaxis": "y"
        },
        {
         "alignmentgroup": "True",
         "hovertemplate": "Country/Territory: %{label}<br>IMF Forecast: %{value}",
         "legendgroup": "Turkmenistan",
         "marker": {
          "color": "#B6E880",
          "pattern": {
           "shape": ""
          }
         },
         "name": "Turkmenistan",
         "offsetgroup": "Turkmenistan",
         "orientation": "v",
         "showlegend": true,
         "textposition": "auto",
         "type": "bar",
         "x": [
          "Asia"
         ],
         "xaxis": "x",
         "y": [
          81822
         ],
         "yaxis": "y"
        },
        {
         "alignmentgroup": "True",
         "hovertemplate": "Country/Territory: %{label}<br>IMF Forecast: %{value}",
         "legendgroup": "Croatia",
         "marker": {
          "color": "#FF97FF",
          "pattern": {
           "shape": ""
          }
         },
         "name": "Croatia",
         "offsetgroup": "Croatia",
         "orientation": "v",
         "showlegend": true,
         "textposition": "auto",
         "type": "bar",
         "x": [
          "Europe"
         ],
         "xaxis": "x",
         "y": [
          80185
         ],
         "yaxis": "y"
        },
        {
         "alignmentgroup": "True",
         "hovertemplate": "Country/Territory: %{label}<br>IMF Forecast: %{value}",
         "legendgroup": "Ivory Coast",
         "marker": {
          "color": "#FECB52",
          "pattern": {
           "shape": ""
          }
         },
         "name": "Ivory Coast",
         "offsetgroup": "Ivory Coast",
         "orientation": "v",
         "showlegend": true,
         "textposition": "auto",
         "type": "bar",
         "x": [
          "Africa"
         ],
         "xaxis": "x",
         "y": [
          79430
         ],
         "yaxis": "y"
        },
        {
         "alignmentgroup": "True",
         "hovertemplate": "Country/Territory: %{label}<br>IMF Forecast: %{value}",
         "legendgroup": "Lithuania",
         "marker": {
          "color": "#636efa",
          "pattern": {
           "shape": ""
          }
         },
         "name": "Lithuania",
         "offsetgroup": "Lithuania",
         "orientation": "v",
         "showlegend": true,
         "textposition": "auto",
         "type": "bar",
         "x": [
          "Europe"
         ],
         "xaxis": "x",
         "y": [
          79427
         ],
         "yaxis": "y"
        },
        {
         "alignmentgroup": "True",
         "hovertemplate": "Country/Territory: %{label}<br>IMF Forecast: %{value}",
         "legendgroup": "Azerbaijan",
         "marker": {
          "color": "#EF553B",
          "pattern": {
           "shape": ""
          }
         },
         "name": "Azerbaijan",
         "offsetgroup": "Azerbaijan",
         "orientation": "v",
         "showlegend": true,
         "textposition": "auto",
         "type": "bar",
         "x": [
          "Asia"
         ],
         "xaxis": "x",
         "y": [
          77392
         ],
         "yaxis": "y"
        },
        {
         "alignmentgroup": "True",
         "hovertemplate": "Country/Territory: %{label}<br>IMF Forecast: %{value}",
         "legendgroup": "Ghana",
         "marker": {
          "color": "#00cc96",
          "pattern": {
           "shape": ""
          }
         },
         "name": "Ghana",
         "offsetgroup": "Ghana",
         "orientation": "v",
         "showlegend": true,
         "textposition": "auto",
         "type": "bar",
         "x": [
          "Africa"
         ],
         "xaxis": "x",
         "y": [
          76628
         ],
         "yaxis": "y"
        },
        {
         "alignmentgroup": "True",
         "hovertemplate": "Country/Territory: %{label}<br>IMF Forecast: %{value}",
         "legendgroup": "Uruguay",
         "marker": {
          "color": "#ab63fa",
          "pattern": {
           "shape": ""
          }
         },
         "name": "Uruguay",
         "offsetgroup": "Uruguay",
         "orientation": "v",
         "showlegend": true,
         "textposition": "auto",
         "type": "bar",
         "x": [
          "Americas"
         ],
         "xaxis": "x",
         "y": [
          76244
         ],
         "yaxis": "y"
        },
        {
         "alignmentgroup": "True",
         "hovertemplate": "Country/Territory: %{label}<br>IMF Forecast: %{value}",
         "legendgroup": "Serbia",
         "marker": {
          "color": "#FFA15A",
          "pattern": {
           "shape": ""
          }
         },
         "name": "Serbia",
         "offsetgroup": "Serbia",
         "orientation": "v",
         "showlegend": true,
         "textposition": "auto",
         "type": "bar",
         "x": [
          "Europe"
         ],
         "xaxis": "x",
         "y": [
          75015
         ],
         "yaxis": "y"
        },
        {
         "alignmentgroup": "True",
         "hovertemplate": "Country/Territory: %{label}<br>IMF Forecast: %{value}",
         "legendgroup": "Myanmar",
         "marker": {
          "color": "#19d3f3",
          "pattern": {
           "shape": ""
          }
         },
         "name": "Myanmar",
         "offsetgroup": "Myanmar",
         "orientation": "v",
         "showlegend": true,
         "textposition": "auto",
         "type": "bar",
         "x": [
          "Asia"
         ],
         "xaxis": "x",
         "y": [
          74861
         ],
         "yaxis": "y"
        },
        {
         "alignmentgroup": "True",
         "hovertemplate": "Country/Territory: %{label}<br>IMF Forecast: %{value}",
         "legendgroup": "Sri Lanka",
         "marker": {
          "color": "#FF6692",
          "pattern": {
           "shape": ""
          }
         },
         "name": "Sri Lanka",
         "offsetgroup": "Sri Lanka",
         "orientation": "v",
         "showlegend": true,
         "textposition": "auto",
         "type": "bar",
         "x": [
          "Asia"
         ],
         "xaxis": "x",
         "y": [
          null
         ],
         "yaxis": "y"
        },
        {
         "alignmentgroup": "True",
         "hovertemplate": "Country/Territory: %{label}<br>IMF Forecast: %{value}",
         "legendgroup": "Belarus",
         "marker": {
          "color": "#B6E880",
          "pattern": {
           "shape": ""
          }
         },
         "name": "Belarus",
         "offsetgroup": "Belarus",
         "orientation": "v",
         "showlegend": true,
         "textposition": "auto",
         "type": "bar",
         "x": [
          "Europe"
         ],
         "xaxis": "x",
         "y": [
          68864
         ],
         "yaxis": "y"
        },
        {
         "alignmentgroup": "True",
         "hovertemplate": "Country/Territory: %{label}<br>IMF Forecast: %{value}",
         "legendgroup": "Slovenia",
         "marker": {
          "color": "#FF97FF",
          "pattern": {
           "shape": ""
          }
         },
         "name": "Slovenia",
         "offsetgroup": "Slovenia",
         "orientation": "v",
         "showlegend": true,
         "textposition": "auto",
         "type": "bar",
         "x": [
          "Europe"
         ],
         "xaxis": "x",
         "y": [
          68394
         ],
         "yaxis": "y"
        },
        {
         "alignmentgroup": "True",
         "hovertemplate": "Country/Territory: %{label}<br>IMF Forecast: %{value}",
         "legendgroup": "DR Congo",
         "marker": {
          "color": "#FECB52",
          "pattern": {
           "shape": ""
          }
         },
         "name": "DR Congo",
         "offsetgroup": "DR Congo",
         "orientation": "v",
         "showlegend": true,
         "textposition": "auto",
         "type": "bar",
         "x": [
          "Africa"
         ],
         "xaxis": "x",
         "y": [
          67512
         ],
         "yaxis": "y"
        },
        {
         "alignmentgroup": "True",
         "hovertemplate": "Country/Territory: %{label}<br>IMF Forecast: %{value}",
         "legendgroup": "Uganda",
         "marker": {
          "color": "#636efa",
          "pattern": {
           "shape": ""
          }
         },
         "name": "Uganda",
         "offsetgroup": "Uganda",
         "orientation": "v",
         "showlegend": true,
         "textposition": "auto",
         "type": "bar",
         "x": [
          "Africa"
         ],
         "xaxis": "x",
         "y": [
          52390
         ],
         "yaxis": "y"
        },
        {
         "alignmentgroup": "True",
         "hovertemplate": "Country/Territory: %{label}<br>IMF Forecast: %{value}",
         "legendgroup": "Tunisia",
         "marker": {
          "color": "#EF553B",
          "pattern": {
           "shape": ""
          }
         },
         "name": "Tunisia",
         "offsetgroup": "Tunisia",
         "orientation": "v",
         "showlegend": true,
         "textposition": "auto",
         "type": "bar",
         "x": [
          "Africa"
         ],
         "xaxis": "x",
         "y": [
          51271
         ],
         "yaxis": "y"
        },
        {
         "alignmentgroup": "True",
         "hovertemplate": "Country/Territory: %{label}<br>IMF Forecast: %{value}",
         "legendgroup": "Jordan",
         "marker": {
          "color": "#00cc96",
          "pattern": {
           "shape": ""
          }
         },
         "name": "Jordan",
         "offsetgroup": "Jordan",
         "orientation": "v",
         "showlegend": true,
         "textposition": "auto",
         "type": "bar",
         "x": [
          "Asia"
         ],
         "xaxis": "x",
         "y": [
          50022
         ],
         "yaxis": "y"
        },
        {
         "alignmentgroup": "True",
         "hovertemplate": "Country/Territory: %{label}<br>IMF Forecast: %{value}",
         "legendgroup": "Cameroon",
         "marker": {
          "color": "#ab63fa",
          "pattern": {
           "shape": ""
          }
         },
         "name": "Cameroon",
         "offsetgroup": "Cameroon",
         "orientation": "v",
         "showlegend": true,
         "textposition": "auto",
         "type": "bar",
         "x": [
          "Africa"
         ],
         "xaxis": "x",
         "y": [
          49262
         ],
         "yaxis": "y"
        },
        {
         "alignmentgroup": "True",
         "hovertemplate": "Country/Territory: %{label}<br>IMF Forecast: %{value}",
         "legendgroup": "Bolivia",
         "marker": {
          "color": "#FFA15A",
          "pattern": {
           "shape": ""
          }
         },
         "name": "Bolivia",
         "offsetgroup": "Bolivia",
         "orientation": "v",
         "showlegend": true,
         "textposition": "auto",
         "type": "bar",
         "x": [
          "Americas"
         ],
         "xaxis": "x",
         "y": [
          46796
         ],
         "yaxis": "y"
        },
        {
         "alignmentgroup": "True",
         "hovertemplate": "Country/Territory: %{label}<br>IMF Forecast: %{value}",
         "legendgroup": "Latvia",
         "marker": {
          "color": "#19d3f3",
          "pattern": {
           "shape": ""
          }
         },
         "name": "Latvia",
         "offsetgroup": "Latvia",
         "orientation": "v",
         "showlegend": true,
         "textposition": "auto",
         "type": "bar",
         "x": [
          "Europe"
         ],
         "xaxis": "x",
         "y": [
          46668
         ],
         "yaxis": "y"
        },
        {
         "alignmentgroup": "True",
         "hovertemplate": "Country/Territory: %{label}<br>IMF Forecast: %{value}",
         "legendgroup": "Bahrain",
         "marker": {
          "color": "#FF6692",
          "pattern": {
           "shape": ""
          }
         },
         "name": "Bahrain",
         "offsetgroup": "Bahrain",
         "orientation": "v",
         "showlegend": true,
         "textposition": "auto",
         "type": "bar",
         "x": [
          "Asia"
         ],
         "xaxis": "x",
         "y": [
          44994
         ],
         "yaxis": "y"
        },
        {
         "alignmentgroup": "True",
         "hovertemplate": "Country/Territory: %{label}<br>IMF Forecast: %{value}",
         "legendgroup": "Paraguay",
         "marker": {
          "color": "#B6E880",
          "pattern": {
           "shape": ""
          }
         },
         "name": "Paraguay",
         "offsetgroup": "Paraguay",
         "orientation": "v",
         "showlegend": true,
         "textposition": "auto",
         "type": "bar",
         "x": [
          "Americas"
         ],
         "xaxis": "x",
         "y": [
          44142
         ],
         "yaxis": "y"
        },
        {
         "alignmentgroup": "True",
         "hovertemplate": "Country/Territory: %{label}<br>IMF Forecast: %{value}",
         "legendgroup": "Estonia",
         "marker": {
          "color": "#FF97FF",
          "pattern": {
           "shape": ""
          }
         },
         "name": "Estonia",
         "offsetgroup": "Estonia",
         "orientation": "v",
         "showlegend": true,
         "textposition": "auto",
         "type": "bar",
         "x": [
          "Europe"
         ],
         "xaxis": "x",
         "y": [
          41799
         ],
         "yaxis": "y"
        },
        {
         "alignmentgroup": "True",
         "hovertemplate": "Country/Territory: %{label}<br>IMF Forecast: %{value}",
         "legendgroup": "Nepal",
         "marker": {
          "color": "#FECB52",
          "pattern": {
           "shape": ""
          }
         },
         "name": "Nepal",
         "offsetgroup": "Nepal",
         "orientation": "v",
         "showlegend": true,
         "textposition": "auto",
         "type": "bar",
         "x": [
          "Asia"
         ],
         "xaxis": "x",
         "y": [
          41339
         ],
         "yaxis": "y"
        },
        {
         "alignmentgroup": "True",
         "hovertemplate": "Country/Territory: %{label}<br>IMF Forecast: %{value}",
         "legendgroup": "Libya",
         "marker": {
          "color": "#636efa",
          "pattern": {
           "shape": ""
          }
         },
         "name": "Libya",
         "offsetgroup": "Libya",
         "orientation": "v",
         "showlegend": true,
         "textposition": "auto",
         "type": "bar",
         "x": [
          "Africa"
         ],
         "xaxis": "x",
         "y": [
          40194
         ],
         "yaxis": "y"
        },
        {
         "alignmentgroup": "True",
         "hovertemplate": "Country/Territory: %{label}<br>IMF Forecast: %{value}",
         "legendgroup": "Macau",
         "marker": {
          "color": "#EF553B",
          "pattern": {
           "shape": ""
          }
         },
         "name": "Macau",
         "offsetgroup": "Macau",
         "orientation": "v",
         "showlegend": true,
         "textposition": "auto",
         "type": "bar",
         "x": [
          "Asia"
         ],
         "xaxis": "x",
         "y": [
          38480
         ],
         "yaxis": "y"
        },
        {
         "alignmentgroup": "True",
         "hovertemplate": "Country/Territory: %{label}<br>IMF Forecast: %{value}",
         "legendgroup": "Lebanon",
         "marker": {
          "color": "#00cc96",
          "pattern": {
           "shape": ""
          }
         },
         "name": "Lebanon",
         "offsetgroup": "Lebanon",
         "orientation": "v",
         "showlegend": true,
         "textposition": "auto",
         "type": "bar",
         "x": [
          "Asia"
         ],
         "xaxis": "x",
         "y": [
          null
         ],
         "yaxis": "y"
        },
        {
         "alignmentgroup": "True",
         "hovertemplate": "Country/Territory: %{label}<br>IMF Forecast: %{value}",
         "legendgroup": "El Salvador",
         "marker": {
          "color": "#ab63fa",
          "pattern": {
           "shape": ""
          }
         },
         "name": "El Salvador",
         "offsetgroup": "El Salvador",
         "orientation": "v",
         "showlegend": true,
         "textposition": "auto",
         "type": "bar",
         "x": [
          "Americas"
         ],
         "xaxis": "x",
         "y": [
          35339
         ],
         "yaxis": "y"
        },
        {
         "alignmentgroup": "True",
         "hovertemplate": "Country/Territory: %{label}<br>IMF Forecast: %{value}",
         "legendgroup": "Honduras",
         "marker": {
          "color": "#FFA15A",
          "pattern": {
           "shape": ""
          }
         },
         "name": "Honduras",
         "offsetgroup": "Honduras",
         "orientation": "v",
         "showlegend": true,
         "textposition": "auto",
         "type": "bar",
         "x": [
          "Americas"
         ],
         "xaxis": "x",
         "y": [
          33992
         ],
         "yaxis": "y"
        },
        {
         "alignmentgroup": "True",
         "hovertemplate": "Country/Territory: %{label}<br>IMF Forecast: %{value}",
         "legendgroup": "Zimbabwe",
         "marker": {
          "color": "#19d3f3",
          "pattern": {
           "shape": ""
          }
         },
         "name": "Zimbabwe",
         "offsetgroup": "Zimbabwe",
         "orientation": "v",
         "showlegend": true,
         "textposition": "auto",
         "type": "bar",
         "x": [
          "Africa"
         ],
         "xaxis": "x",
         "y": [
          32424
         ],
         "yaxis": "y"
        },
        {
         "alignmentgroup": "True",
         "hovertemplate": "Country/Territory: %{label}<br>IMF Forecast: %{value}",
         "legendgroup": "Cyprus",
         "marker": {
          "color": "#FF6692",
          "pattern": {
           "shape": ""
          }
         },
         "name": "Cyprus",
         "offsetgroup": "Cyprus",
         "orientation": "v",
         "showlegend": true,
         "textposition": "auto",
         "type": "bar",
         "x": [
          "Asia"
         ],
         "xaxis": "x",
         "y": [
          32032
         ],
         "yaxis": "y"
        },
        {
         "alignmentgroup": "True",
         "hovertemplate": "Country/Territory: %{label}<br>IMF Forecast: %{value}",
         "legendgroup": "Papua New Guinea",
         "marker": {
          "color": "#B6E880",
          "pattern": {
           "shape": ""
          }
         },
         "name": "Papua New Guinea",
         "offsetgroup": "Papua New Guinea",
         "orientation": "v",
         "showlegend": true,
         "textposition": "auto",
         "type": "bar",
         "x": [
          "Oceania"
         ],
         "xaxis": "x",
         "y": [
          31692
         ],
         "yaxis": "y"
        },
        {
         "alignmentgroup": "True",
         "hovertemplate": "Country/Territory: %{label}<br>IMF Forecast: %{value}",
         "legendgroup": "Senegal",
         "marker": {
          "color": "#FF97FF",
          "pattern": {
           "shape": ""
          }
         },
         "name": "Senegal",
         "offsetgroup": "Senegal",
         "orientation": "v",
         "showlegend": true,
         "textposition": "auto",
         "type": "bar",
         "x": [
          "Africa"
         ],
         "xaxis": "x",
         "y": [
          31141
         ],
         "yaxis": "y"
        },
        {
         "alignmentgroup": "True",
         "hovertemplate": "Country/Territory: %{label}<br>IMF Forecast: %{value}",
         "legendgroup": "Cambodia",
         "marker": {
          "color": "#FECB52",
          "pattern": {
           "shape": ""
          }
         },
         "name": "Cambodia",
         "offsetgroup": "Cambodia",
         "orientation": "v",
         "showlegend": true,
         "textposition": "auto",
         "type": "bar",
         "x": [
          "Asia"
         ],
         "xaxis": "x",
         "y": [
          30943
         ],
         "yaxis": "y"
        },
        {
         "alignmentgroup": "True",
         "hovertemplate": "Country/Territory: %{label}<br>IMF Forecast: %{value}",
         "legendgroup": "Iceland",
         "marker": {
          "color": "#636efa",
          "pattern": {
           "shape": ""
          }
         },
         "name": "Iceland",
         "offsetgroup": "Iceland",
         "orientation": "v",
         "showlegend": true,
         "textposition": "auto",
         "type": "bar",
         "x": [
          "Europe"
         ],
         "xaxis": "x",
         "y": [
          30570
         ],
         "yaxis": "y"
        },
        {
         "alignmentgroup": "True",
         "hovertemplate": "Country/Territory: %{label}<br>IMF Forecast: %{value}",
         "legendgroup": "Georgia",
         "marker": {
          "color": "#EF553B",
          "pattern": {
           "shape": ""
          }
         },
         "name": "Georgia",
         "offsetgroup": "Georgia",
         "orientation": "v",
         "showlegend": true,
         "textposition": "auto",
         "type": "bar",
         "x": [
          "Asia"
         ],
         "xaxis": "x",
         "y": [
          30023
         ],
         "yaxis": "y"
        },
        {
         "alignmentgroup": "True",
         "hovertemplate": "Country/Territory: %{label}<br>IMF Forecast: %{value}",
         "legendgroup": "Zambia",
         "marker": {
          "color": "#00cc96",
          "pattern": {
           "shape": ""
          }
         },
         "name": "Zambia",
         "offsetgroup": "Zambia",
         "orientation": "v",
         "showlegend": true,
         "textposition": "auto",
         "type": "bar",
         "x": [
          "Africa"
         ],
         "xaxis": "x",
         "y": [
          29536
         ],
         "yaxis": "y"
        },
        {
         "alignmentgroup": "True",
         "hovertemplate": "Country/Territory: %{label}<br>IMF Forecast: %{value}",
         "legendgroup": "Trinidad and Tobago",
         "marker": {
          "color": "#ab63fa",
          "pattern": {
           "shape": ""
          }
         },
         "name": "Trinidad and Tobago",
         "offsetgroup": "Trinidad and Tobago",
         "orientation": "v",
         "showlegend": true,
         "textposition": "auto",
         "type": "bar",
         "x": [
          "Americas"
         ],
         "xaxis": "x",
         "y": [
          27887
         ],
         "yaxis": "y"
        },
        {
         "alignmentgroup": "True",
         "hovertemplate": "Country/Territory: %{label}<br>IMF Forecast: %{value}",
         "legendgroup": "Bosnia and Herzegovina",
         "marker": {
          "color": "#FFA15A",
          "pattern": {
           "shape": ""
          }
         },
         "name": "Bosnia and Herzegovina",
         "offsetgroup": "Bosnia and Herzegovina",
         "orientation": "v",
         "showlegend": true,
         "textposition": "auto",
         "type": "bar",
         "x": [
          "Europe"
         ],
         "xaxis": "x",
         "y": [
          26945
         ],
         "yaxis": "y"
        },
        {
         "alignmentgroup": "True",
         "hovertemplate": "Country/Territory: %{label}<br>IMF Forecast: %{value}",
         "legendgroup": "Haiti",
         "marker": {
          "color": "#19d3f3",
          "pattern": {
           "shape": ""
          }
         },
         "name": "Haiti",
         "offsetgroup": "Haiti",
         "orientation": "v",
         "showlegend": true,
         "textposition": "auto",
         "type": "bar",
         "x": [
          "Americas"
         ],
         "xaxis": "x",
         "y": [
          25986
         ],
         "yaxis": "y"
        },
        {
         "alignmentgroup": "True",
         "hovertemplate": "Country/Territory: %{label}<br>IMF Forecast: %{value}",
         "legendgroup": "Sudan",
         "marker": {
          "color": "#FF6692",
          "pattern": {
           "shape": ""
          }
         },
         "name": "Sudan",
         "offsetgroup": "Sudan",
         "orientation": "v",
         "showlegend": true,
         "textposition": "auto",
         "type": "bar",
         "x": [
          "Africa"
         ],
         "xaxis": "x",
         "y": [
          25569
         ],
         "yaxis": "y"
        },
        {
         "alignmentgroup": "True",
         "hovertemplate": "Country/Territory: %{label}<br>IMF Forecast: %{value}",
         "legendgroup": "Armenia",
         "marker": {
          "color": "#B6E880",
          "pattern": {
           "shape": ""
          }
         },
         "name": "Armenia",
         "offsetgroup": "Armenia",
         "orientation": "v",
         "showlegend": true,
         "textposition": "auto",
         "type": "bar",
         "x": [
          "Asia"
         ],
         "xaxis": "x",
         "y": [
          24540
         ],
         "yaxis": "y"
        },
        {
         "alignmentgroup": "True",
         "hovertemplate": "Country/Territory: %{label}<br>IMF Forecast: %{value}",
         "legendgroup": "Guinea",
         "marker": {
          "color": "#FF97FF",
          "pattern": {
           "shape": ""
          }
         },
         "name": "Guinea",
         "offsetgroup": "Guinea",
         "orientation": "v",
         "showlegend": true,
         "textposition": "auto",
         "type": "bar",
         "x": [
          "Africa"
         ],
         "xaxis": "x",
         "y": [
          23205
         ],
         "yaxis": "y"
        },
        {
         "alignmentgroup": "True",
         "hovertemplate": "Country/Territory: %{label}<br>IMF Forecast: %{value}",
         "legendgroup": "Albania",
         "marker": {
          "color": "#FECB52",
          "pattern": {
           "shape": ""
          }
         },
         "name": "Albania",
         "offsetgroup": "Albania",
         "orientation": "v",
         "showlegend": true,
         "textposition": "auto",
         "type": "bar",
         "x": [
          "Europe"
         ],
         "xaxis": "x",
         "y": [
          23032
         ],
         "yaxis": "y"
        },
        {
         "alignmentgroup": "True",
         "hovertemplate": "Country/Territory: %{label}<br>IMF Forecast: %{value}",
         "legendgroup": "Mozambique",
         "marker": {
          "color": "#636efa",
          "pattern": {
           "shape": ""
          }
         },
         "name": "Mozambique",
         "offsetgroup": "Mozambique",
         "orientation": "v",
         "showlegend": true,
         "textposition": "auto",
         "type": "bar",
         "x": [
          "Africa"
         ],
         "xaxis": "x",
         "y": [
          21936
         ],
         "yaxis": "y"
        },
        {
         "alignmentgroup": "True",
         "hovertemplate": "Country/Territory: %{label}<br>IMF Forecast: %{value}",
         "legendgroup": "Mali",
         "marker": {
          "color": "#EF553B",
          "pattern": {
           "shape": ""
          }
         },
         "name": "Mali",
         "offsetgroup": "Mali",
         "orientation": "v",
         "showlegend": true,
         "textposition": "auto",
         "type": "bar",
         "x": [
          "Africa"
         ],
         "xaxis": "x",
         "y": [
          21309
         ],
         "yaxis": "y"
        },
        {
         "alignmentgroup": "True",
         "hovertemplate": "Country/Territory: %{label}<br>IMF Forecast: %{value}",
         "legendgroup": "Yemen",
         "marker": {
          "color": "#00cc96",
          "pattern": {
           "shape": ""
          }
         },
         "name": "Yemen",
         "offsetgroup": "Yemen",
         "orientation": "v",
         "showlegend": true,
         "textposition": "auto",
         "type": "bar",
         "x": [
          "Asia"
         ],
         "xaxis": "x",
         "y": [
          21045
         ],
         "yaxis": "y"
        },
        {
         "alignmentgroup": "True",
         "hovertemplate": "Country/Territory: %{label}<br>IMF Forecast: %{value}",
         "legendgroup": "Burkina Faso",
         "marker": {
          "color": "#ab63fa",
          "pattern": {
           "shape": ""
          }
         },
         "name": "Burkina Faso",
         "offsetgroup": "Burkina Faso",
         "orientation": "v",
         "showlegend": true,
         "textposition": "auto",
         "type": "bar",
         "x": [
          "Africa"
         ],
         "xaxis": "x",
         "y": [
          20785
         ],
         "yaxis": "y"
        },
        {
         "alignmentgroup": "True",
         "hovertemplate": "Country/Territory: %{label}<br>IMF Forecast: %{value}",
         "legendgroup": "Botswana",
         "marker": {
          "color": "#FFA15A",
          "pattern": {
           "shape": ""
          }
         },
         "name": "Botswana",
         "offsetgroup": "Botswana",
         "orientation": "v",
         "showlegend": true,
         "textposition": "auto",
         "type": "bar",
         "x": [
          "Africa"
         ],
         "xaxis": "x",
         "y": [
          20756
         ],
         "yaxis": "y"
        },
        {
         "alignmentgroup": "True",
         "hovertemplate": "Country/Territory: %{label}<br>IMF Forecast: %{value}",
         "legendgroup": "Malta",
         "marker": {
          "color": "#19d3f3",
          "pattern": {
           "shape": ""
          }
         },
         "name": "Malta",
         "offsetgroup": "Malta",
         "orientation": "v",
         "showlegend": true,
         "textposition": "auto",
         "type": "bar",
         "x": [
          "Europe"
         ],
         "xaxis": "x",
         "y": [
          20311
         ],
         "yaxis": "y"
        },
        {
         "alignmentgroup": "True",
         "hovertemplate": "Country/Territory: %{label}<br>IMF Forecast: %{value}",
         "legendgroup": "Benin",
         "marker": {
          "color": "#FF6692",
          "pattern": {
           "shape": ""
          }
         },
         "name": "Benin",
         "offsetgroup": "Benin",
         "orientation": "v",
         "showlegend": true,
         "textposition": "auto",
         "type": "bar",
         "x": [
          "Africa"
         ],
         "xaxis": "x",
         "y": [
          19940
         ],
         "yaxis": "y"
        },
        {
         "alignmentgroup": "True",
         "hovertemplate": "Country/Territory: %{label}<br>IMF Forecast: %{value}",
         "legendgroup": "Syria",
         "marker": {
          "color": "#B6E880",
          "pattern": {
           "shape": ""
          }
         },
         "name": "Syria",
         "offsetgroup": "Syria",
         "orientation": "v",
         "showlegend": true,
         "textposition": "auto",
         "type": "bar",
         "x": [
          "Asia"
         ],
         "xaxis": "x",
         "y": [
          null
         ],
         "yaxis": "y"
        },
        {
         "alignmentgroup": "True",
         "hovertemplate": "Country/Territory: %{label}<br>IMF Forecast: %{value}",
         "legendgroup": "Gabon",
         "marker": {
          "color": "#FF97FF",
          "pattern": {
           "shape": ""
          }
         },
         "name": "Gabon",
         "offsetgroup": "Gabon",
         "orientation": "v",
         "showlegend": true,
         "textposition": "auto",
         "type": "bar",
         "x": [
          "Africa"
         ],
         "xaxis": "x",
         "y": [
          19319
         ],
         "yaxis": "y"
        },
        {
         "alignmentgroup": "True",
         "hovertemplate": "Country/Territory: %{label}<br>IMF Forecast: %{value}",
         "legendgroup": "Palestine",
         "marker": {
          "color": "#FECB52",
          "pattern": {
           "shape": ""
          }
         },
         "name": "Palestine",
         "offsetgroup": "Palestine",
         "orientation": "v",
         "showlegend": true,
         "textposition": "auto",
         "type": "bar",
         "x": [
          "Asia"
         ],
         "xaxis": "x",
         "y": [
          18109
         ],
         "yaxis": "y"
        },
        {
         "alignmentgroup": "True",
         "hovertemplate": "Country/Territory: %{label}<br>IMF Forecast: %{value}",
         "legendgroup": "Mongolia",
         "marker": {
          "color": "#636efa",
          "pattern": {
           "shape": ""
          }
         },
         "name": "Mongolia",
         "offsetgroup": "Mongolia",
         "orientation": "v",
         "showlegend": true,
         "textposition": "auto",
         "type": "bar",
         "x": [
          "Asia"
         ],
         "xaxis": "x",
         "y": [
          18782
         ],
         "yaxis": "y"
        },
        {
         "alignmentgroup": "True",
         "hovertemplate": "Country/Territory: %{label}<br>IMF Forecast: %{value}",
         "legendgroup": "Jamaica",
         "marker": {
          "color": "#EF553B",
          "pattern": {
           "shape": ""
          }
         },
         "name": "Jamaica",
         "offsetgroup": "Jamaica",
         "orientation": "v",
         "showlegend": true,
         "textposition": "auto",
         "type": "bar",
         "x": [
          "Americas"
         ],
         "xaxis": "x",
         "y": [
          18761
         ],
         "yaxis": "y"
        },
        {
         "alignmentgroup": "True",
         "hovertemplate": "Country/Territory: %{label}<br>IMF Forecast: %{value}",
         "legendgroup": "Nicaragua",
         "marker": {
          "color": "#00cc96",
          "pattern": {
           "shape": ""
          }
         },
         "name": "Nicaragua",
         "offsetgroup": "Nicaragua",
         "orientation": "v",
         "showlegend": true,
         "textposition": "auto",
         "type": "bar",
         "x": [
          "Americas"
         ],
         "xaxis": "x",
         "y": [
          17353
         ],
         "yaxis": "y"
        },
        {
         "alignmentgroup": "True",
         "hovertemplate": "Country/Territory: %{label}<br>IMF Forecast: %{value}",
         "legendgroup": "Niger",
         "marker": {
          "color": "#ab63fa",
          "pattern": {
           "shape": ""
          }
         },
         "name": "Niger",
         "offsetgroup": "Niger",
         "orientation": "v",
         "showlegend": true,
         "textposition": "auto",
         "type": "bar",
         "x": [
          "Africa"
         ],
         "xaxis": "x",
         "y": [
          17073
         ],
         "yaxis": "y"
        },
        {
         "alignmentgroup": "True",
         "hovertemplate": "Country/Territory: %{label}<br>IMF Forecast: %{value}",
         "legendgroup": "North Korea",
         "marker": {
          "color": "#FFA15A",
          "pattern": {
           "shape": ""
          }
         },
         "name": "North Korea",
         "offsetgroup": "North Korea",
         "orientation": "v",
         "showlegend": true,
         "textposition": "auto",
         "type": "bar",
         "x": [
          "Asia"
         ],
         "xaxis": "x",
         "y": [
          null
         ],
         "yaxis": "y"
        },
        {
         "alignmentgroup": "True",
         "hovertemplate": "Country/Territory: %{label}<br>IMF Forecast: %{value}",
         "legendgroup": "Guyana",
         "marker": {
          "color": "#19d3f3",
          "pattern": {
           "shape": ""
          }
         },
         "name": "Guyana",
         "offsetgroup": "Guyana",
         "orientation": "v",
         "showlegend": true,
         "textposition": "auto",
         "type": "bar",
         "x": [
          "Americas"
         ],
         "xaxis": "x",
         "y": [
          16329
         ],
         "yaxis": "y"
        },
        {
         "alignmentgroup": "True",
         "hovertemplate": "Country/Territory: %{label}<br>IMF Forecast: %{value}",
         "legendgroup": "Moldova",
         "marker": {
          "color": "#FF6692",
          "pattern": {
           "shape": ""
          }
         },
         "name": "Moldova",
         "offsetgroup": "Moldova",
         "orientation": "v",
         "showlegend": true,
         "textposition": "auto",
         "type": "bar",
         "x": [
          "Europe"
         ],
         "xaxis": "x",
         "y": [
          16000
         ],
         "yaxis": "y"
        },
        {
         "alignmentgroup": "True",
         "hovertemplate": "Country/Territory: %{label}<br>IMF Forecast: %{value}",
         "legendgroup": "North Macedonia",
         "marker": {
          "color": "#B6E880",
          "pattern": {
           "shape": ""
          }
         },
         "name": "North Macedonia",
         "offsetgroup": "North Macedonia",
         "orientation": "v",
         "showlegend": true,
         "textposition": "auto",
         "type": "bar",
         "x": [
          "Europe"
         ],
         "xaxis": "x",
         "y": [
          15801
         ],
         "yaxis": "y"
        },
        {
         "alignmentgroup": "True",
         "hovertemplate": "Country/Territory: %{label}<br>IMF Forecast: %{value}",
         "legendgroup": "Madagascar",
         "marker": {
          "color": "#FF97FF",
          "pattern": {
           "shape": ""
          }
         },
         "name": "Madagascar",
         "offsetgroup": "Madagascar",
         "orientation": "v",
         "showlegend": true,
         "textposition": "auto",
         "type": "bar",
         "x": [
          "Africa"
         ],
         "xaxis": "x",
         "y": [
          15763
         ],
         "yaxis": "y"
        },
        {
         "alignmentgroup": "True",
         "hovertemplate": "Country/Territory: %{label}<br>IMF Forecast: %{value}",
         "legendgroup": "Brunei",
         "marker": {
          "color": "#FECB52",
          "pattern": {
           "shape": ""
          }
         },
         "name": "Brunei",
         "offsetgroup": "Brunei",
         "orientation": "v",
         "showlegend": true,
         "textposition": "auto",
         "type": "bar",
         "x": [
          "Asia"
         ],
         "xaxis": "x",
         "y": [
          15153
         ],
         "yaxis": "y"
        },
        {
         "alignmentgroup": "True",
         "hovertemplate": "Country/Territory: %{label}<br>IMF Forecast: %{value}",
         "legendgroup": "Afghanistan",
         "marker": {
          "color": "#636efa",
          "pattern": {
           "shape": ""
          }
         },
         "name": "Afghanistan",
         "offsetgroup": "Afghanistan",
         "orientation": "v",
         "showlegend": true,
         "textposition": "auto",
         "type": "bar",
         "x": [
          "Asia"
         ],
         "xaxis": "x",
         "y": [
          null
         ],
         "yaxis": "y"
        },
        {
         "alignmentgroup": "True",
         "hovertemplate": "Country/Territory: %{label}<br>IMF Forecast: %{value}",
         "legendgroup": "Mauritius",
         "marker": {
          "color": "#EF553B",
          "pattern": {
           "shape": ""
          }
         },
         "name": "Mauritius",
         "offsetgroup": "Mauritius",
         "orientation": "v",
         "showlegend": true,
         "textposition": "auto",
         "type": "bar",
         "x": [
          "Africa"
         ],
         "xaxis": "x",
         "y": [
          14819
         ],
         "yaxis": "y"
        },
        {
         "alignmentgroup": "True",
         "hovertemplate": "Country/Territory: %{label}<br>IMF Forecast: %{value}",
         "legendgroup": "Congo",
         "marker": {
          "color": "#00cc96",
          "pattern": {
           "shape": ""
          }
         },
         "name": "Congo",
         "offsetgroup": "Congo",
         "orientation": "v",
         "showlegend": true,
         "textposition": "auto",
         "type": "bar",
         "x": [
          "Africa"
         ],
         "xaxis": "x",
         "y": [
          14407
         ],
         "yaxis": "y"
        },
        {
         "alignmentgroup": "True",
         "hovertemplate": "Country/Territory: %{label}<br>IMF Forecast: %{value}",
         "legendgroup": "Laos",
         "marker": {
          "color": "#ab63fa",
          "pattern": {
           "shape": ""
          }
         },
         "name": "Laos",
         "offsetgroup": "Laos",
         "orientation": "v",
         "showlegend": true,
         "textposition": "auto",
         "type": "bar",
         "x": [
          "Asia"
         ],
         "xaxis": "x",
         "y": [
          14244
         ],
         "yaxis": "y"
        },
        {
         "alignmentgroup": "True",
         "hovertemplate": "Country/Territory: %{label}<br>IMF Forecast: %{value}",
         "legendgroup": "Rwanda",
         "marker": {
          "color": "#FFA15A",
          "pattern": {
           "shape": ""
          }
         },
         "name": "Rwanda",
         "offsetgroup": "Rwanda",
         "orientation": "v",
         "showlegend": true,
         "textposition": "auto",
         "type": "bar",
         "x": [
          "Africa"
         ],
         "xaxis": "x",
         "y": [
          13927
         ],
         "yaxis": "y"
        },
        {
         "alignmentgroup": "True",
         "hovertemplate": "Country/Territory: %{label}<br>IMF Forecast: %{value}",
         "legendgroup": "Bahamas",
         "marker": {
          "color": "#19d3f3",
          "pattern": {
           "shape": ""
          }
         },
         "name": "Bahamas",
         "offsetgroup": "Bahamas",
         "orientation": "v",
         "showlegend": true,
         "textposition": "auto",
         "type": "bar",
         "x": [
          "Americas"
         ],
         "xaxis": "x",
         "y": [
          13876
         ],
         "yaxis": "y"
        },
        {
         "alignmentgroup": "True",
         "hovertemplate": "Country/Territory: %{label}<br>IMF Forecast: %{value}",
         "legendgroup": "Malawi",
         "marker": {
          "color": "#FF6692",
          "pattern": {
           "shape": ""
          }
         },
         "name": "Malawi",
         "offsetgroup": "Malawi",
         "orientation": "v",
         "showlegend": true,
         "textposition": "auto",
         "type": "bar",
         "x": [
          "Africa"
         ],
         "xaxis": "x",
         "y": [
          13176
         ],
         "yaxis": "y"
        },
        {
         "alignmentgroup": "True",
         "hovertemplate": "Country/Territory: %{label}<br>IMF Forecast: %{value}",
         "legendgroup": "Kyrgyzstan",
         "marker": {
          "color": "#B6E880",
          "pattern": {
           "shape": ""
          }
         },
         "name": "Kyrgyzstan",
         "offsetgroup": "Kyrgyzstan",
         "orientation": "v",
         "showlegend": true,
         "textposition": "auto",
         "type": "bar",
         "x": [
          "Asia"
         ],
         "xaxis": "x",
         "y": [
          12681
         ],
         "yaxis": "y"
        },
        {
         "alignmentgroup": "True",
         "hovertemplate": "Country/Territory: %{label}<br>IMF Forecast: %{value}",
         "legendgroup": "Namibia",
         "marker": {
          "color": "#FF97FF",
          "pattern": {
           "shape": ""
          }
         },
         "name": "Namibia",
         "offsetgroup": "Namibia",
         "orientation": "v",
         "showlegend": true,
         "textposition": "auto",
         "type": "bar",
         "x": [
          "Africa"
         ],
         "xaxis": "x",
         "y": [
          12647
         ],
         "yaxis": "y"
        },
        {
         "alignmentgroup": "True",
         "hovertemplate": "Country/Territory: %{label}<br>IMF Forecast: %{value}",
         "legendgroup": "Chad",
         "marker": {
          "color": "#FECB52",
          "pattern": {
           "shape": ""
          }
         },
         "name": "Chad",
         "offsetgroup": "Chad",
         "orientation": "v",
         "showlegend": true,
         "textposition": "auto",
         "type": "bar",
         "x": [
          "Africa"
         ],
         "xaxis": "x",
         "y": [
          12596
         ],
         "yaxis": "y"
        },
        {
         "alignmentgroup": "True",
         "hovertemplate": "Country/Territory: %{label}<br>IMF Forecast: %{value}",
         "legendgroup": "Tajikistan",
         "marker": {
          "color": "#636efa",
          "pattern": {
           "shape": ""
          }
         },
         "name": "Tajikistan",
         "offsetgroup": "Tajikistan",
         "orientation": "v",
         "showlegend": true,
         "textposition": "auto",
         "type": "bar",
         "x": [
          "Asia"
         ],
         "xaxis": "x",
         "y": [
          11816
         ],
         "yaxis": "y"
        },
        {
         "alignmentgroup": "True",
         "hovertemplate": "Country/Territory: %{label}<br>IMF Forecast: %{value}",
         "legendgroup": "Somalia",
         "marker": {
          "color": "#EF553B",
          "pattern": {
           "shape": ""
          }
         },
         "name": "Somalia",
         "offsetgroup": "Somalia",
         "orientation": "v",
         "showlegend": true,
         "textposition": "auto",
         "type": "bar",
         "x": [
          "Africa"
         ],
         "xaxis": "x",
         "y": [
          11515
         ],
         "yaxis": "y"
        },
        {
         "alignmentgroup": "True",
         "hovertemplate": "Country/Territory: %{label}<br>IMF Forecast: %{value}",
         "legendgroup": "Kosovo",
         "marker": {
          "color": "#00cc96",
          "pattern": {
           "shape": ""
          }
         },
         "name": "Kosovo",
         "offsetgroup": "Kosovo",
         "orientation": "v",
         "showlegend": true,
         "textposition": "auto",
         "type": "bar",
         "x": [
          "Europe"
         ],
         "xaxis": "x",
         "y": [
          10469
         ],
         "yaxis": "y"
        },
        {
         "alignmentgroup": "True",
         "hovertemplate": "Country/Territory: %{label}<br>IMF Forecast: %{value}",
         "legendgroup": "Mauritania",
         "marker": {
          "color": "#ab63fa",
          "pattern": {
           "shape": ""
          }
         },
         "name": "Mauritania",
         "offsetgroup": "Mauritania",
         "orientation": "v",
         "showlegend": true,
         "textposition": "auto",
         "type": "bar",
         "x": [
          "Africa"
         ],
         "xaxis": "x",
         "y": [
          10357
         ],
         "yaxis": "y"
        },
        {
         "alignmentgroup": "True",
         "hovertemplate": "Country/Territory: %{label}<br>IMF Forecast: %{value}",
         "legendgroup": "New Caledonia",
         "marker": {
          "color": "#FFA15A",
          "pattern": {
           "shape": ""
          }
         },
         "name": "New Caledonia",
         "offsetgroup": "New Caledonia",
         "orientation": "v",
         "showlegend": true,
         "textposition": "auto",
         "type": "bar",
         "x": [
          "Oceania"
         ],
         "xaxis": "x",
         "y": [
          null
         ],
         "yaxis": "y"
        },
        {
         "alignmentgroup": "True",
         "hovertemplate": "Country/Territory: %{label}<br>IMF Forecast: %{value}",
         "legendgroup": "Equatorial Guinea",
         "marker": {
          "color": "#19d3f3",
          "pattern": {
           "shape": ""
          }
         },
         "name": "Equatorial Guinea",
         "offsetgroup": "Equatorial Guinea",
         "orientation": "v",
         "showlegend": true,
         "textposition": "auto",
         "type": "bar",
         "x": [
          "Africa"
         ],
         "xaxis": "x",
         "y": [
          10041
         ],
         "yaxis": "y"
        },
        {
         "alignmentgroup": "True",
         "hovertemplate": "Country/Territory: %{label}<br>IMF Forecast: %{value}",
         "legendgroup": "Togo",
         "marker": {
          "color": "#FF6692",
          "pattern": {
           "shape": ""
          }
         },
         "name": "Togo",
         "offsetgroup": "Togo",
         "orientation": "v",
         "showlegend": true,
         "textposition": "auto",
         "type": "bar",
         "x": [
          "Africa"
         ],
         "xaxis": "x",
         "y": [
          9111
         ],
         "yaxis": "y"
        },
        {
         "alignmentgroup": "True",
         "hovertemplate": "Country/Territory: %{label}<br>IMF Forecast: %{value}",
         "legendgroup": "Monaco",
         "marker": {
          "color": "#B6E880",
          "pattern": {
           "shape": ""
          }
         },
         "name": "Monaco",
         "offsetgroup": "Monaco",
         "orientation": "v",
         "showlegend": true,
         "textposition": "auto",
         "type": "bar",
         "x": [
          "Europe"
         ],
         "xaxis": "x",
         "y": [
          null
         ],
         "yaxis": "y"
        },
        {
         "alignmentgroup": "True",
         "hovertemplate": "Country/Territory: %{label}<br>IMF Forecast: %{value}",
         "legendgroup": "Bermuda",
         "marker": {
          "color": "#FF97FF",
          "pattern": {
           "shape": ""
          }
         },
         "name": "Bermuda",
         "offsetgroup": "Bermuda",
         "orientation": "v",
         "showlegend": true,
         "textposition": "auto",
         "type": "bar",
         "x": [
          "Americas"
         ],
         "xaxis": "x",
         "y": [
          null
         ],
         "yaxis": "y"
        },
        {
         "alignmentgroup": "True",
         "hovertemplate": "Country/Territory: %{label}<br>IMF Forecast: %{value}",
         "legendgroup": "Montenegro",
         "marker": {
          "color": "#FECB52",
          "pattern": {
           "shape": ""
          }
         },
         "name": "Montenegro",
         "offsetgroup": "Montenegro",
         "orientation": "v",
         "showlegend": true,
         "textposition": "auto",
         "type": "bar",
         "x": [
          "Europe"
         ],
         "xaxis": "x",
         "y": [
          7058
         ],
         "yaxis": "y"
        },
        {
         "alignmentgroup": "True",
         "hovertemplate": "Country/Territory: %{label}<br>IMF Forecast: %{value}",
         "legendgroup": "Maldives",
         "marker": {
          "color": "#636efa",
          "pattern": {
           "shape": ""
          }
         },
         "name": "Maldives",
         "offsetgroup": "Maldives",
         "orientation": "v",
         "showlegend": true,
         "textposition": "auto",
         "type": "bar",
         "x": [
          "Asia"
         ],
         "xaxis": "x",
         "y": [
          6977
         ],
         "yaxis": "y"
        },
        {
         "alignmentgroup": "True",
         "hovertemplate": "Country/Territory: %{label}<br>IMF Forecast: %{value}",
         "legendgroup": "Liechtenstein",
         "marker": {
          "color": "#EF553B",
          "pattern": {
           "shape": ""
          }
         },
         "name": "Liechtenstein",
         "offsetgroup": "Liechtenstein",
         "orientation": "v",
         "showlegend": true,
         "textposition": "auto",
         "type": "bar",
         "x": [
          "Europe"
         ],
         "xaxis": "x",
         "y": [
          null
         ],
         "yaxis": "y"
        },
        {
         "alignmentgroup": "True",
         "hovertemplate": "Country/Territory: %{label}<br>IMF Forecast: %{value}",
         "legendgroup": "South Sudan",
         "marker": {
          "color": "#00cc96",
          "pattern": {
           "shape": ""
          }
         },
         "name": "South Sudan",
         "offsetgroup": "South Sudan",
         "orientation": "v",
         "showlegend": true,
         "textposition": "auto",
         "type": "bar",
         "x": [
          "Africa"
         ],
         "xaxis": "x",
         "y": [
          6267
         ],
         "yaxis": "y"
        },
        {
         "alignmentgroup": "True",
         "hovertemplate": "Country/Territory: %{label}<br>IMF Forecast: %{value}",
         "legendgroup": "Barbados",
         "marker": {
          "color": "#ab63fa",
          "pattern": {
           "shape": ""
          }
         },
         "name": "Barbados",
         "offsetgroup": "Barbados",
         "orientation": "v",
         "showlegend": true,
         "textposition": "auto",
         "type": "bar",
         "x": [
          "Americas"
         ],
         "xaxis": "x",
         "y": [
          6220
         ],
         "yaxis": "y"
        },
        {
         "alignmentgroup": "True",
         "hovertemplate": "Country/Territory: %{label}<br>IMF Forecast: %{value}",
         "legendgroup": "French Polynesia",
         "marker": {
          "color": "#FFA15A",
          "pattern": {
           "shape": ""
          }
         },
         "name": "French Polynesia",
         "offsetgroup": "French Polynesia",
         "orientation": "v",
         "showlegend": true,
         "textposition": "auto",
         "type": "bar",
         "x": [
          "Oceania"
         ],
         "xaxis": "x",
         "y": [
          null
         ],
         "yaxis": "y"
        },
        {
         "alignmentgroup": "True",
         "hovertemplate": "Country/Territory: %{label}<br>IMF Forecast: %{value}",
         "legendgroup": "Cayman Islands",
         "marker": {
          "color": "#19d3f3",
          "pattern": {
           "shape": ""
          }
         },
         "name": "Cayman Islands",
         "offsetgroup": "Cayman Islands",
         "orientation": "v",
         "showlegend": true,
         "textposition": "auto",
         "type": "bar",
         "x": [
          "Americas"
         ],
         "xaxis": "x",
         "y": [
          null
         ],
         "yaxis": "y"
        },
        {
         "alignmentgroup": "True",
         "hovertemplate": "Country/Territory: %{label}<br>IMF Forecast: %{value}",
         "legendgroup": "Fiji",
         "marker": {
          "color": "#FF6692",
          "pattern": {
           "shape": ""
          }
         },
         "name": "Fiji",
         "offsetgroup": "Fiji",
         "orientation": "v",
         "showlegend": true,
         "textposition": "auto",
         "type": "bar",
         "x": [
          "Oceania"
         ],
         "xaxis": "x",
         "y": [
          5511
         ],
         "yaxis": "y"
        },
        {
         "alignmentgroup": "True",
         "hovertemplate": "Country/Territory: %{label}<br>IMF Forecast: %{value}",
         "legendgroup": "Eswatini",
         "marker": {
          "color": "#B6E880",
          "pattern": {
           "shape": ""
          }
         },
         "name": "Eswatini",
         "offsetgroup": "Eswatini",
         "orientation": "v",
         "showlegend": true,
         "textposition": "auto",
         "type": "bar",
         "x": [
          "Africa"
         ],
         "xaxis": "x",
         "y": [
          4648
         ],
         "yaxis": "y"
        },
        {
         "alignmentgroup": "True",
         "hovertemplate": "Country/Territory: %{label}<br>IMF Forecast: %{value}",
         "legendgroup": "Liberia",
         "marker": {
          "color": "#FF97FF",
          "pattern": {
           "shape": ""
          }
         },
         "name": "Liberia",
         "offsetgroup": "Liberia",
         "orientation": "v",
         "showlegend": true,
         "textposition": "auto",
         "type": "bar",
         "x": [
          "Africa"
         ],
         "xaxis": "x",
         "y": [
          4347
         ],
         "yaxis": "y"
        },
        {
         "alignmentgroup": "True",
         "hovertemplate": "Country/Territory: %{label}<br>IMF Forecast: %{value}",
         "legendgroup": "Djibouti",
         "marker": {
          "color": "#FECB52",
          "pattern": {
           "shape": ""
          }
         },
         "name": "Djibouti",
         "offsetgroup": "Djibouti",
         "orientation": "v",
         "showlegend": true,
         "textposition": "auto",
         "type": "bar",
         "x": [
          "Africa"
         ],
         "xaxis": "x",
         "y": [
          3873
         ],
         "yaxis": "y"
        },
        {
         "alignmentgroup": "True",
         "hovertemplate": "Country/Territory: %{label}<br>IMF Forecast: %{value}",
         "legendgroup": "Aruba",
         "marker": {
          "color": "#636efa",
          "pattern": {
           "shape": ""
          }
         },
         "name": "Aruba",
         "offsetgroup": "Aruba",
         "orientation": "v",
         "showlegend": true,
         "textposition": "auto",
         "type": "bar",
         "x": [
          "Americas"
         ],
         "xaxis": "x",
         "y": [
          3827
         ],
         "yaxis": "y"
        },
        {
         "alignmentgroup": "True",
         "hovertemplate": "Country/Territory: %{label}<br>IMF Forecast: %{value}",
         "legendgroup": "Andorra",
         "marker": {
          "color": "#EF553B",
          "pattern": {
           "shape": ""
          }
         },
         "name": "Andorra",
         "offsetgroup": "Andorra",
         "orientation": "v",
         "showlegend": true,
         "textposition": "auto",
         "type": "bar",
         "x": [
          "Europe"
         ],
         "xaxis": "x",
         "y": [
          3692
         ],
         "yaxis": "y"
        },
        {
         "alignmentgroup": "True",
         "hovertemplate": "Country/Territory: %{label}<br>IMF Forecast: %{value}",
         "legendgroup": "Suriname",
         "marker": {
          "color": "#00cc96",
          "pattern": {
           "shape": ""
          }
         },
         "name": "Suriname",
         "offsetgroup": "Suriname",
         "orientation": "v",
         "showlegend": true,
         "textposition": "auto",
         "type": "bar",
         "x": [
          "Americas"
         ],
         "xaxis": "x",
         "y": [
          3539
         ],
         "yaxis": "y"
        },
        {
         "alignmentgroup": "True",
         "hovertemplate": "Country/Territory: %{label}<br>IMF Forecast: %{value}",
         "legendgroup": "Sierra Leone",
         "marker": {
          "color": "#ab63fa",
          "pattern": {
           "shape": ""
          }
         },
         "name": "Sierra Leone",
         "offsetgroup": "Sierra Leone",
         "orientation": "v",
         "showlegend": true,
         "textposition": "auto",
         "type": "bar",
         "x": [
          "Africa"
         ],
         "xaxis": "x",
         "y": [
          3519
         ],
         "yaxis": "y"
        },
        {
         "alignmentgroup": "True",
         "hovertemplate": "Country/Territory: %{label}<br>IMF Forecast: %{value}",
         "legendgroup": "Greenland",
         "marker": {
          "color": "#FFA15A",
          "pattern": {
           "shape": ""
          }
         },
         "name": "Greenland",
         "offsetgroup": "Greenland",
         "orientation": "v",
         "showlegend": true,
         "textposition": "auto",
         "type": "bar",
         "x": [
          "Americas"
         ],
         "xaxis": "x",
         "y": [
          null
         ],
         "yaxis": "y"
        },
        {
         "alignmentgroup": "True",
         "hovertemplate": "Country/Territory: %{label}<br>IMF Forecast: %{value}",
         "legendgroup": "Belize",
         "marker": {
          "color": "#19d3f3",
          "pattern": {
           "shape": ""
          }
         },
         "name": "Belize",
         "offsetgroup": "Belize",
         "orientation": "v",
         "showlegend": true,
         "textposition": "auto",
         "type": "bar",
         "x": [
          "Americas"
         ],
         "xaxis": "x",
         "y": [
          3218
         ],
         "yaxis": "y"
        },
        {
         "alignmentgroup": "True",
         "hovertemplate": "Country/Territory: %{label}<br>IMF Forecast: %{value}",
         "legendgroup": "Burundi",
         "marker": {
          "color": "#FF6692",
          "pattern": {
           "shape": ""
          }
         },
         "name": "Burundi",
         "offsetgroup": "Burundi",
         "orientation": "v",
         "showlegend": true,
         "textposition": "auto",
         "type": "bar",
         "x": [
          "Africa"
         ],
         "xaxis": "x",
         "y": [
          3190
         ],
         "yaxis": "y"
        },
        {
         "alignmentgroup": "True",
         "hovertemplate": "Country/Territory: %{label}<br>IMF Forecast: %{value}",
         "legendgroup": "Central African Republic",
         "marker": {
          "color": "#B6E880",
          "pattern": {
           "shape": ""
          }
         },
         "name": "Central African Republic",
         "offsetgroup": "Central African Republic",
         "orientation": "v",
         "showlegend": true,
         "textposition": "auto",
         "type": "bar",
         "x": [
          "Africa"
         ],
         "xaxis": "x",
         "y": [
          2760
         ],
         "yaxis": "y"
        },
        {
         "alignmentgroup": "True",
         "hovertemplate": "Country/Territory: %{label}<br>IMF Forecast: %{value}",
         "legendgroup": "Curaçao",
         "marker": {
          "color": "#FF97FF",
          "pattern": {
           "shape": ""
          }
         },
         "name": "Curaçao",
         "offsetgroup": "Curaçao",
         "orientation": "v",
         "showlegend": true,
         "textposition": "auto",
         "type": "bar",
         "x": [
          "Americas"
         ],
         "xaxis": "x",
         "y": [
          null
         ],
         "yaxis": "y"
        },
        {
         "alignmentgroup": "True",
         "hovertemplate": "Country/Territory: %{label}<br>IMF Forecast: %{value}",
         "legendgroup": "Bhutan",
         "marker": {
          "color": "#FECB52",
          "pattern": {
           "shape": ""
          }
         },
         "name": "Bhutan",
         "offsetgroup": "Bhutan",
         "orientation": "v",
         "showlegend": true,
         "textposition": "auto",
         "type": "bar",
         "x": [
          "Asia"
         ],
         "xaxis": "x",
         "y": [
          2686
         ],
         "yaxis": "y"
        },
        {
         "alignmentgroup": "True",
         "hovertemplate": "Country/Territory: %{label}<br>IMF Forecast: %{value}",
         "legendgroup": "Cape Verde",
         "marker": {
          "color": "#636efa",
          "pattern": {
           "shape": ""
          }
         },
         "name": "Cape Verde",
         "offsetgroup": "Cape Verde",
         "orientation": "v",
         "showlegend": true,
         "textposition": "auto",
         "type": "bar",
         "x": [
          "Africa"
         ],
         "xaxis": "x",
         "y": [
          2598
         ],
         "yaxis": "y"
        },
        {
         "alignmentgroup": "True",
         "hovertemplate": "Country/Territory: %{label}<br>IMF Forecast: %{value}",
         "legendgroup": "Saint Lucia",
         "marker": {
          "color": "#EF553B",
          "pattern": {
           "shape": ""
          }
         },
         "name": "Saint Lucia",
         "offsetgroup": "Saint Lucia",
         "orientation": "v",
         "showlegend": true,
         "textposition": "auto",
         "type": "bar",
         "x": [
          "Americas"
         ],
         "xaxis": "x",
         "y": [
          2469
         ],
         "yaxis": "y"
        },
        {
         "alignmentgroup": "True",
         "hovertemplate": "Country/Territory: %{label}<br>IMF Forecast: %{value}",
         "legendgroup": "Gambia",
         "marker": {
          "color": "#00cc96",
          "pattern": {
           "shape": ""
          }
         },
         "name": "Gambia",
         "offsetgroup": "Gambia",
         "orientation": "v",
         "showlegend": true,
         "textposition": "auto",
         "type": "bar",
         "x": [
          "Africa"
         ],
         "xaxis": "x",
         "y": [
          2388
         ],
         "yaxis": "y"
        },
        {
         "alignmentgroup": "True",
         "hovertemplate": "Country/Territory: %{label}<br>IMF Forecast: %{value}",
         "legendgroup": "Lesotho",
         "marker": {
          "color": "#ab63fa",
          "pattern": {
           "shape": ""
          }
         },
         "name": "Lesotho",
         "offsetgroup": "Lesotho",
         "orientation": "v",
         "showlegend": true,
         "textposition": "auto",
         "type": "bar",
         "x": [
          "Africa"
         ],
         "xaxis": "x",
         "y": [
          2373
         ],
         "yaxis": "y"
        },
        {
         "alignmentgroup": "True",
         "hovertemplate": "Country/Territory: %{label}<br>IMF Forecast: %{value}",
         "legendgroup": "Eritrea",
         "marker": {
          "color": "#FFA15A",
          "pattern": {
           "shape": ""
          }
         },
         "name": "Eritrea",
         "offsetgroup": "Eritrea",
         "orientation": "v",
         "showlegend": true,
         "textposition": "auto",
         "type": "bar",
         "x": [
          "Africa"
         ],
         "xaxis": "x",
         "y": [
          null
         ],
         "yaxis": "y"
        },
        {
         "alignmentgroup": "True",
         "hovertemplate": "Country/Territory: %{label}<br>IMF Forecast: %{value}",
         "legendgroup": "Seychelles",
         "marker": {
          "color": "#19d3f3",
          "pattern": {
           "shape": ""
          }
         },
         "name": "Seychelles",
         "offsetgroup": "Seychelles",
         "orientation": "v",
         "showlegend": true,
         "textposition": "auto",
         "type": "bar",
         "x": [
          "Africa"
         ],
         "xaxis": "x",
         "y": [
          2085
         ],
         "yaxis": "y"
        },
        {
         "alignmentgroup": "True",
         "hovertemplate": "Country/Territory: %{label}<br>IMF Forecast: %{value}",
         "legendgroup": "Zanzibar",
         "marker": {
          "color": "#FF6692",
          "pattern": {
           "shape": ""
          }
         },
         "name": "Zanzibar",
         "offsetgroup": "Zanzibar",
         "orientation": "v",
         "showlegend": true,
         "textposition": "auto",
         "type": "bar",
         "x": [
          "Africa"
         ],
         "xaxis": "x",
         "y": [
          null
         ],
         "yaxis": "y"
        },
        {
         "alignmentgroup": "True",
         "hovertemplate": "Country/Territory: %{label}<br>IMF Forecast: %{value}",
         "legendgroup": "East Timor",
         "marker": {
          "color": "#B6E880",
          "pattern": {
           "shape": ""
          }
         },
         "name": "East Timor",
         "offsetgroup": "East Timor",
         "orientation": "v",
         "showlegend": true,
         "textposition": "auto",
         "type": "bar",
         "x": [
          "Asia"
         ],
         "xaxis": "x",
         "y": [
          2023
         ],
         "yaxis": "y"
        },
        {
         "alignmentgroup": "True",
         "hovertemplate": "Country/Territory: %{label}<br>IMF Forecast: %{value}",
         "legendgroup": "San Marino",
         "marker": {
          "color": "#FF97FF",
          "pattern": {
           "shape": ""
          }
         },
         "name": "San Marino",
         "offsetgroup": "San Marino",
         "orientation": "v",
         "showlegend": true,
         "textposition": "auto",
         "type": "bar",
         "x": [
          "Europe"
         ],
         "xaxis": "x",
         "y": [
          1998
         ],
         "yaxis": "y"
        },
        {
         "alignmentgroup": "True",
         "hovertemplate": "Country/Territory: %{label}<br>IMF Forecast: %{value}",
         "legendgroup": "Guinea-Bissau",
         "marker": {
          "color": "#FECB52",
          "pattern": {
           "shape": ""
          }
         },
         "name": "Guinea-Bissau",
         "offsetgroup": "Guinea-Bissau",
         "orientation": "v",
         "showlegend": true,
         "textposition": "auto",
         "type": "bar",
         "x": [
          "Africa"
         ],
         "xaxis": "x",
         "y": [
          1991
         ],
         "yaxis": "y"
        },
        {
         "alignmentgroup": "True",
         "hovertemplate": "Country/Territory: %{label}<br>IMF Forecast: %{value}",
         "legendgroup": "Antigua and Barbuda",
         "marker": {
          "color": "#636efa",
          "pattern": {
           "shape": ""
          }
         },
         "name": "Antigua and Barbuda",
         "offsetgroup": "Antigua and Barbuda",
         "orientation": "v",
         "showlegend": true,
         "textposition": "auto",
         "type": "bar",
         "x": [
          "Americas"
         ],
         "xaxis": "x",
         "y": [
          1949
         ],
         "yaxis": "y"
        },
        {
         "alignmentgroup": "True",
         "hovertemplate": "Country/Territory: %{label}<br>IMF Forecast: %{value}",
         "legendgroup": "Solomon Islands",
         "marker": {
          "color": "#EF553B",
          "pattern": {
           "shape": ""
          }
         },
         "name": "Solomon Islands",
         "offsetgroup": "Solomon Islands",
         "orientation": "v",
         "showlegend": true,
         "textposition": "auto",
         "type": "bar",
         "x": [
          "Oceania"
         ],
         "xaxis": "x",
         "y": [
          1690
         ],
         "yaxis": "y"
        },
        {
         "alignmentgroup": "True",
         "hovertemplate": "Country/Territory: %{label}<br>IMF Forecast: %{value}",
         "legendgroup": "Sint Maarten",
         "marker": {
          "color": "#00cc96",
          "pattern": {
           "shape": ""
          }
         },
         "name": "Sint Maarten",
         "offsetgroup": "Sint Maarten",
         "orientation": "v",
         "showlegend": true,
         "textposition": "auto",
         "type": "bar",
         "x": [
          "Americas"
         ],
         "xaxis": "x",
         "y": [
          null
         ],
         "yaxis": "y"
        },
        {
         "alignmentgroup": "True",
         "hovertemplate": "Country/Territory: %{label}<br>IMF Forecast: %{value}",
         "legendgroup": "British Virgin Islands",
         "marker": {
          "color": "#ab63fa",
          "pattern": {
           "shape": ""
          }
         },
         "name": "British Virgin Islands",
         "offsetgroup": "British Virgin Islands",
         "orientation": "v",
         "showlegend": true,
         "textposition": "auto",
         "type": "bar",
         "x": [
          "Americas"
         ],
         "xaxis": "x",
         "y": [
          null
         ],
         "yaxis": "y"
        },
        {
         "alignmentgroup": "True",
         "hovertemplate": "Country/Territory: %{label}<br>IMF Forecast: %{value}",
         "legendgroup": "Comoros",
         "marker": {
          "color": "#FFA15A",
          "pattern": {
           "shape": ""
          }
         },
         "name": "Comoros",
         "offsetgroup": "Comoros",
         "orientation": "v",
         "showlegend": true,
         "textposition": "auto",
         "type": "bar",
         "x": [
          "Africa"
         ],
         "xaxis": "x",
         "y": [
          1364
         ],
         "yaxis": "y"
        },
        {
         "alignmentgroup": "True",
         "hovertemplate": "Country/Territory: %{label}<br>IMF Forecast: %{value}",
         "legendgroup": "Grenada",
         "marker": {
          "color": "#19d3f3",
          "pattern": {
           "shape": ""
          }
         },
         "name": "Grenada",
         "offsetgroup": "Grenada",
         "orientation": "v",
         "showlegend": true,
         "textposition": "auto",
         "type": "bar",
         "x": [
          "Americas"
         ],
         "xaxis": "x",
         "y": [
          1306
         ],
         "yaxis": "y"
        },
        {
         "alignmentgroup": "True",
         "hovertemplate": "Country/Territory: %{label}<br>IMF Forecast: %{value}",
         "legendgroup": "Vanuatu",
         "marker": {
          "color": "#FF6692",
          "pattern": {
           "shape": ""
          }
         },
         "name": "Vanuatu",
         "offsetgroup": "Vanuatu",
         "orientation": "v",
         "showlegend": true,
         "textposition": "auto",
         "type": "bar",
         "x": [
          "Oceania"
         ],
         "xaxis": "x",
         "y": [
          1166
         ],
         "yaxis": "y"
        },
        {
         "alignmentgroup": "True",
         "hovertemplate": "Country/Territory: %{label}<br>IMF Forecast: %{value}",
         "legendgroup": "Turks and Caicos Islands",
         "marker": {
          "color": "#B6E880",
          "pattern": {
           "shape": ""
          }
         },
         "name": "Turks and Caicos Islands",
         "offsetgroup": "Turks and Caicos Islands",
         "orientation": "v",
         "showlegend": true,
         "textposition": "auto",
         "type": "bar",
         "x": [
          "Americas"
         ],
         "xaxis": "x",
         "y": [
          null
         ],
         "yaxis": "y"
        },
        {
         "alignmentgroup": "True",
         "hovertemplate": "Country/Territory: %{label}<br>IMF Forecast: %{value}",
         "legendgroup": "Saint Kitts and Nevis",
         "marker": {
          "color": "#FF97FF",
          "pattern": {
           "shape": ""
          }
         },
         "name": "Saint Kitts and Nevis",
         "offsetgroup": "Saint Kitts and Nevis",
         "orientation": "v",
         "showlegend": true,
         "textposition": "auto",
         "type": "bar",
         "x": [
          "Americas"
         ],
         "xaxis": "x",
         "y": [
          1069
         ],
         "yaxis": "y"
        },
        {
         "alignmentgroup": "True",
         "hovertemplate": "Country/Territory: %{label}<br>IMF Forecast: %{value}",
         "legendgroup": "Saint Vincent and the Grenadines",
         "marker": {
          "color": "#FECB52",
          "pattern": {
           "shape": ""
          }
         },
         "name": "Saint Vincent and the Grenadines",
         "offsetgroup": "Saint Vincent and the Grenadines",
         "orientation": "v",
         "showlegend": true,
         "textposition": "auto",
         "type": "bar",
         "x": [
          "Americas"
         ],
         "xaxis": "x",
         "y": [
          1039
         ],
         "yaxis": "y"
        },
        {
         "alignmentgroup": "True",
         "hovertemplate": "Country/Territory: %{label}<br>IMF Forecast: %{value}",
         "legendgroup": "Samoa",
         "marker": {
          "color": "#636efa",
          "pattern": {
           "shape": ""
          }
         },
         "name": "Samoa",
         "offsetgroup": "Samoa",
         "orientation": "v",
         "showlegend": true,
         "textposition": "auto",
         "type": "bar",
         "x": [
          "Oceania"
         ],
         "xaxis": "x",
         "y": [
          939
         ],
         "yaxis": "y"
        },
        {
         "alignmentgroup": "True",
         "hovertemplate": "Country/Territory: %{label}<br>IMF Forecast: %{value}",
         "legendgroup": "Dominica",
         "marker": {
          "color": "#EF553B",
          "pattern": {
           "shape": ""
          }
         },
         "name": "Dominica",
         "offsetgroup": "Dominica",
         "orientation": "v",
         "showlegend": true,
         "textposition": "auto",
         "type": "bar",
         "x": [
          "Americas"
         ],
         "xaxis": "x",
         "y": [
          697
         ],
         "yaxis": "y"
        },
        {
         "alignmentgroup": "True",
         "hovertemplate": "Country/Territory: %{label}<br>IMF Forecast: %{value}",
         "legendgroup": "São Tomé and Príncipe",
         "marker": {
          "color": "#00cc96",
          "pattern": {
           "shape": ""
          }
         },
         "name": "São Tomé and Príncipe",
         "offsetgroup": "São Tomé and Príncipe",
         "orientation": "v",
         "showlegend": true,
         "textposition": "auto",
         "type": "bar",
         "x": [
          "Africa"
         ],
         "xaxis": "x",
         "y": [
          674
         ],
         "yaxis": "y"
        },
        {
         "alignmentgroup": "True",
         "hovertemplate": "Country/Territory: %{label}<br>IMF Forecast: %{value}",
         "legendgroup": "Tonga",
         "marker": {
          "color": "#ab63fa",
          "pattern": {
           "shape": ""
          }
         },
         "name": "Tonga",
         "offsetgroup": "Tonga",
         "orientation": "v",
         "showlegend": true,
         "textposition": "auto",
         "type": "bar",
         "x": [
          "Oceania"
         ],
         "xaxis": "x",
         "y": [
          547
         ],
         "yaxis": "y"
        },
        {
         "alignmentgroup": "True",
         "hovertemplate": "Country/Territory: %{label}<br>IMF Forecast: %{value}",
         "legendgroup": "Micronesia",
         "marker": {
          "color": "#FFA15A",
          "pattern": {
           "shape": ""
          }
         },
         "name": "Micronesia",
         "offsetgroup": "Micronesia",
         "orientation": "v",
         "showlegend": true,
         "textposition": "auto",
         "type": "bar",
         "x": [
          "Oceania"
         ],
         "xaxis": "x",
         "y": [
          458
         ],
         "yaxis": "y"
        },
        {
         "alignmentgroup": "True",
         "hovertemplate": "Country/Territory: %{label}<br>IMF Forecast: %{value}",
         "legendgroup": "Cook Islands",
         "marker": {
          "color": "#19d3f3",
          "pattern": {
           "shape": ""
          }
         },
         "name": "Cook Islands",
         "offsetgroup": "Cook Islands",
         "orientation": "v",
         "showlegend": true,
         "textposition": "auto",
         "type": "bar",
         "x": [
          "Oceania"
         ],
         "xaxis": "x",
         "y": [
          null
         ],
         "yaxis": "y"
        },
        {
         "alignmentgroup": "True",
         "hovertemplate": "Country/Territory: %{label}<br>IMF Forecast: %{value}",
         "legendgroup": "Anguilla",
         "marker": {
          "color": "#FF6692",
          "pattern": {
           "shape": ""
          }
         },
         "name": "Anguilla",
         "offsetgroup": "Anguilla",
         "orientation": "v",
         "showlegend": true,
         "textposition": "auto",
         "type": "bar",
         "x": [
          "Americas"
         ],
         "xaxis": "x",
         "y": [
          null
         ],
         "yaxis": "y"
        },
        {
         "alignmentgroup": "True",
         "hovertemplate": "Country/Territory: %{label}<br>IMF Forecast: %{value}",
         "legendgroup": "Marshall Islands",
         "marker": {
          "color": "#B6E880",
          "pattern": {
           "shape": ""
          }
         },
         "name": "Marshall Islands",
         "offsetgroup": "Marshall Islands",
         "orientation": "v",
         "showlegend": true,
         "textposition": "auto",
         "type": "bar",
         "x": [
          "Oceania"
         ],
         "xaxis": "x",
         "y": [
          277
         ],
         "yaxis": "y"
        },
        {
         "alignmentgroup": "True",
         "hovertemplate": "Country/Territory: %{label}<br>IMF Forecast: %{value}",
         "legendgroup": "Palau",
         "marker": {
          "color": "#FF97FF",
          "pattern": {
           "shape": ""
          }
         },
         "name": "Palau",
         "offsetgroup": "Palau",
         "orientation": "v",
         "showlegend": true,
         "textposition": "auto",
         "type": "bar",
         "x": [
          "Oceania"
         ],
         "xaxis": "x",
         "y": [
          267
         ],
         "yaxis": "y"
        },
        {
         "alignmentgroup": "True",
         "hovertemplate": "Country/Territory: %{label}<br>IMF Forecast: %{value}",
         "legendgroup": "Kiribati",
         "marker": {
          "color": "#FECB52",
          "pattern": {
           "shape": ""
          }
         },
         "name": "Kiribati",
         "offsetgroup": "Kiribati",
         "orientation": "v",
         "showlegend": true,
         "textposition": "auto",
         "type": "bar",
         "x": [
          "Oceania"
         ],
         "xaxis": "x",
         "y": [
          246
         ],
         "yaxis": "y"
        },
        {
         "alignmentgroup": "True",
         "hovertemplate": "Country/Territory: %{label}<br>IMF Forecast: %{value}",
         "legendgroup": "Nauru",
         "marker": {
          "color": "#636efa",
          "pattern": {
           "shape": ""
          }
         },
         "name": "Nauru",
         "offsetgroup": "Nauru",
         "orientation": "v",
         "showlegend": true,
         "textposition": "auto",
         "type": "bar",
         "x": [
          "Oceania"
         ],
         "xaxis": "x",
         "y": [
          150
         ],
         "yaxis": "y"
        },
        {
         "alignmentgroup": "True",
         "hovertemplate": "Country/Territory: %{label}<br>IMF Forecast: %{value}",
         "legendgroup": "Montserrat",
         "marker": {
          "color": "#EF553B",
          "pattern": {
           "shape": ""
          }
         },
         "name": "Montserrat",
         "offsetgroup": "Montserrat",
         "orientation": "v",
         "showlegend": true,
         "textposition": "auto",
         "type": "bar",
         "x": [
          "Americas"
         ],
         "xaxis": "x",
         "y": [
          null
         ],
         "yaxis": "y"
        },
        {
         "alignmentgroup": "True",
         "hovertemplate": "Country/Territory: %{label}<br>IMF Forecast: %{value}",
         "legendgroup": "Tuvalu",
         "marker": {
          "color": "#00cc96",
          "pattern": {
           "shape": ""
          }
         },
         "name": "Tuvalu",
         "offsetgroup": "Tuvalu",
         "orientation": "v",
         "showlegend": true,
         "textposition": "auto",
         "type": "bar",
         "x": [
          "Oceania"
         ],
         "xaxis": "x",
         "y": [
          63
         ],
         "yaxis": "y"
        }
       ],
       "layout": {
        "barmode": "stack",
        "height": 600,
        "legend": {
         "title": {
          "text": "Country/Territory"
         },
         "tracegroupgap": 0
        },
        "template": {
         "data": {
          "bar": [
           {
            "error_x": {
             "color": "#2a3f5f"
            },
            "error_y": {
             "color": "#2a3f5f"
            },
            "marker": {
             "line": {
              "color": "#E5ECF6",
              "width": 0.5
             },
             "pattern": {
              "fillmode": "overlay",
              "size": 10,
              "solidity": 0.2
             }
            },
            "type": "bar"
           }
          ],
          "barpolar": [
           {
            "marker": {
             "line": {
              "color": "#E5ECF6",
              "width": 0.5
             },
             "pattern": {
              "fillmode": "overlay",
              "size": 10,
              "solidity": 0.2
             }
            },
            "type": "barpolar"
           }
          ],
          "carpet": [
           {
            "aaxis": {
             "endlinecolor": "#2a3f5f",
             "gridcolor": "white",
             "linecolor": "white",
             "minorgridcolor": "white",
             "startlinecolor": "#2a3f5f"
            },
            "baxis": {
             "endlinecolor": "#2a3f5f",
             "gridcolor": "white",
             "linecolor": "white",
             "minorgridcolor": "white",
             "startlinecolor": "#2a3f5f"
            },
            "type": "carpet"
           }
          ],
          "choropleth": [
           {
            "colorbar": {
             "outlinewidth": 0,
             "ticks": ""
            },
            "type": "choropleth"
           }
          ],
          "contour": [
           {
            "colorbar": {
             "outlinewidth": 0,
             "ticks": ""
            },
            "colorscale": [
             [
              0,
              "#0d0887"
             ],
             [
              0.1111111111111111,
              "#46039f"
             ],
             [
              0.2222222222222222,
              "#7201a8"
             ],
             [
              0.3333333333333333,
              "#9c179e"
             ],
             [
              0.4444444444444444,
              "#bd3786"
             ],
             [
              0.5555555555555556,
              "#d8576b"
             ],
             [
              0.6666666666666666,
              "#ed7953"
             ],
             [
              0.7777777777777778,
              "#fb9f3a"
             ],
             [
              0.8888888888888888,
              "#fdca26"
             ],
             [
              1,
              "#f0f921"
             ]
            ],
            "type": "contour"
           }
          ],
          "contourcarpet": [
           {
            "colorbar": {
             "outlinewidth": 0,
             "ticks": ""
            },
            "type": "contourcarpet"
           }
          ],
          "heatmap": [
           {
            "colorbar": {
             "outlinewidth": 0,
             "ticks": ""
            },
            "colorscale": [
             [
              0,
              "#0d0887"
             ],
             [
              0.1111111111111111,
              "#46039f"
             ],
             [
              0.2222222222222222,
              "#7201a8"
             ],
             [
              0.3333333333333333,
              "#9c179e"
             ],
             [
              0.4444444444444444,
              "#bd3786"
             ],
             [
              0.5555555555555556,
              "#d8576b"
             ],
             [
              0.6666666666666666,
              "#ed7953"
             ],
             [
              0.7777777777777778,
              "#fb9f3a"
             ],
             [
              0.8888888888888888,
              "#fdca26"
             ],
             [
              1,
              "#f0f921"
             ]
            ],
            "type": "heatmap"
           }
          ],
          "heatmapgl": [
           {
            "colorbar": {
             "outlinewidth": 0,
             "ticks": ""
            },
            "colorscale": [
             [
              0,
              "#0d0887"
             ],
             [
              0.1111111111111111,
              "#46039f"
             ],
             [
              0.2222222222222222,
              "#7201a8"
             ],
             [
              0.3333333333333333,
              "#9c179e"
             ],
             [
              0.4444444444444444,
              "#bd3786"
             ],
             [
              0.5555555555555556,
              "#d8576b"
             ],
             [
              0.6666666666666666,
              "#ed7953"
             ],
             [
              0.7777777777777778,
              "#fb9f3a"
             ],
             [
              0.8888888888888888,
              "#fdca26"
             ],
             [
              1,
              "#f0f921"
             ]
            ],
            "type": "heatmapgl"
           }
          ],
          "histogram": [
           {
            "marker": {
             "pattern": {
              "fillmode": "overlay",
              "size": 10,
              "solidity": 0.2
             }
            },
            "type": "histogram"
           }
          ],
          "histogram2d": [
           {
            "colorbar": {
             "outlinewidth": 0,
             "ticks": ""
            },
            "colorscale": [
             [
              0,
              "#0d0887"
             ],
             [
              0.1111111111111111,
              "#46039f"
             ],
             [
              0.2222222222222222,
              "#7201a8"
             ],
             [
              0.3333333333333333,
              "#9c179e"
             ],
             [
              0.4444444444444444,
              "#bd3786"
             ],
             [
              0.5555555555555556,
              "#d8576b"
             ],
             [
              0.6666666666666666,
              "#ed7953"
             ],
             [
              0.7777777777777778,
              "#fb9f3a"
             ],
             [
              0.8888888888888888,
              "#fdca26"
             ],
             [
              1,
              "#f0f921"
             ]
            ],
            "type": "histogram2d"
           }
          ],
          "histogram2dcontour": [
           {
            "colorbar": {
             "outlinewidth": 0,
             "ticks": ""
            },
            "colorscale": [
             [
              0,
              "#0d0887"
             ],
             [
              0.1111111111111111,
              "#46039f"
             ],
             [
              0.2222222222222222,
              "#7201a8"
             ],
             [
              0.3333333333333333,
              "#9c179e"
             ],
             [
              0.4444444444444444,
              "#bd3786"
             ],
             [
              0.5555555555555556,
              "#d8576b"
             ],
             [
              0.6666666666666666,
              "#ed7953"
             ],
             [
              0.7777777777777778,
              "#fb9f3a"
             ],
             [
              0.8888888888888888,
              "#fdca26"
             ],
             [
              1,
              "#f0f921"
             ]
            ],
            "type": "histogram2dcontour"
           }
          ],
          "mesh3d": [
           {
            "colorbar": {
             "outlinewidth": 0,
             "ticks": ""
            },
            "type": "mesh3d"
           }
          ],
          "parcoords": [
           {
            "line": {
             "colorbar": {
              "outlinewidth": 0,
              "ticks": ""
             }
            },
            "type": "parcoords"
           }
          ],
          "pie": [
           {
            "automargin": true,
            "type": "pie"
           }
          ],
          "scatter": [
           {
            "fillpattern": {
             "fillmode": "overlay",
             "size": 10,
             "solidity": 0.2
            },
            "type": "scatter"
           }
          ],
          "scatter3d": [
           {
            "line": {
             "colorbar": {
              "outlinewidth": 0,
              "ticks": ""
             }
            },
            "marker": {
             "colorbar": {
              "outlinewidth": 0,
              "ticks": ""
             }
            },
            "type": "scatter3d"
           }
          ],
          "scattercarpet": [
           {
            "marker": {
             "colorbar": {
              "outlinewidth": 0,
              "ticks": ""
             }
            },
            "type": "scattercarpet"
           }
          ],
          "scattergeo": [
           {
            "marker": {
             "colorbar": {
              "outlinewidth": 0,
              "ticks": ""
             }
            },
            "type": "scattergeo"
           }
          ],
          "scattergl": [
           {
            "marker": {
             "colorbar": {
              "outlinewidth": 0,
              "ticks": ""
             }
            },
            "type": "scattergl"
           }
          ],
          "scattermapbox": [
           {
            "marker": {
             "colorbar": {
              "outlinewidth": 0,
              "ticks": ""
             }
            },
            "type": "scattermapbox"
           }
          ],
          "scatterpolar": [
           {
            "marker": {
             "colorbar": {
              "outlinewidth": 0,
              "ticks": ""
             }
            },
            "type": "scatterpolar"
           }
          ],
          "scatterpolargl": [
           {
            "marker": {
             "colorbar": {
              "outlinewidth": 0,
              "ticks": ""
             }
            },
            "type": "scatterpolargl"
           }
          ],
          "scatterternary": [
           {
            "marker": {
             "colorbar": {
              "outlinewidth": 0,
              "ticks": ""
             }
            },
            "type": "scatterternary"
           }
          ],
          "surface": [
           {
            "colorbar": {
             "outlinewidth": 0,
             "ticks": ""
            },
            "colorscale": [
             [
              0,
              "#0d0887"
             ],
             [
              0.1111111111111111,
              "#46039f"
             ],
             [
              0.2222222222222222,
              "#7201a8"
             ],
             [
              0.3333333333333333,
              "#9c179e"
             ],
             [
              0.4444444444444444,
              "#bd3786"
             ],
             [
              0.5555555555555556,
              "#d8576b"
             ],
             [
              0.6666666666666666,
              "#ed7953"
             ],
             [
              0.7777777777777778,
              "#fb9f3a"
             ],
             [
              0.8888888888888888,
              "#fdca26"
             ],
             [
              1,
              "#f0f921"
             ]
            ],
            "type": "surface"
           }
          ],
          "table": [
           {
            "cells": {
             "fill": {
              "color": "#EBF0F8"
             },
             "line": {
              "color": "white"
             }
            },
            "header": {
             "fill": {
              "color": "#C8D4E3"
             },
             "line": {
              "color": "white"
             }
            },
            "type": "table"
           }
          ]
         },
         "layout": {
          "annotationdefaults": {
           "arrowcolor": "#2a3f5f",
           "arrowhead": 0,
           "arrowwidth": 1
          },
          "autotypenumbers": "strict",
          "coloraxis": {
           "colorbar": {
            "outlinewidth": 0,
            "ticks": ""
           }
          },
          "colorscale": {
           "diverging": [
            [
             0,
             "#8e0152"
            ],
            [
             0.1,
             "#c51b7d"
            ],
            [
             0.2,
             "#de77ae"
            ],
            [
             0.3,
             "#f1b6da"
            ],
            [
             0.4,
             "#fde0ef"
            ],
            [
             0.5,
             "#f7f7f7"
            ],
            [
             0.6,
             "#e6f5d0"
            ],
            [
             0.7,
             "#b8e186"
            ],
            [
             0.8,
             "#7fbc41"
            ],
            [
             0.9,
             "#4d9221"
            ],
            [
             1,
             "#276419"
            ]
           ],
           "sequential": [
            [
             0,
             "#0d0887"
            ],
            [
             0.1111111111111111,
             "#46039f"
            ],
            [
             0.2222222222222222,
             "#7201a8"
            ],
            [
             0.3333333333333333,
             "#9c179e"
            ],
            [
             0.4444444444444444,
             "#bd3786"
            ],
            [
             0.5555555555555556,
             "#d8576b"
            ],
            [
             0.6666666666666666,
             "#ed7953"
            ],
            [
             0.7777777777777778,
             "#fb9f3a"
            ],
            [
             0.8888888888888888,
             "#fdca26"
            ],
            [
             1,
             "#f0f921"
            ]
           ],
           "sequentialminus": [
            [
             0,
             "#0d0887"
            ],
            [
             0.1111111111111111,
             "#46039f"
            ],
            [
             0.2222222222222222,
             "#7201a8"
            ],
            [
             0.3333333333333333,
             "#9c179e"
            ],
            [
             0.4444444444444444,
             "#bd3786"
            ],
            [
             0.5555555555555556,
             "#d8576b"
            ],
            [
             0.6666666666666666,
             "#ed7953"
            ],
            [
             0.7777777777777778,
             "#fb9f3a"
            ],
            [
             0.8888888888888888,
             "#fdca26"
            ],
            [
             1,
             "#f0f921"
            ]
           ]
          },
          "colorway": [
           "#636efa",
           "#EF553B",
           "#00cc96",
           "#ab63fa",
           "#FFA15A",
           "#19d3f3",
           "#FF6692",
           "#B6E880",
           "#FF97FF",
           "#FECB52"
          ],
          "font": {
           "color": "#2a3f5f"
          },
          "geo": {
           "bgcolor": "white",
           "lakecolor": "white",
           "landcolor": "#E5ECF6",
           "showlakes": true,
           "showland": true,
           "subunitcolor": "white"
          },
          "hoverlabel": {
           "align": "left"
          },
          "hovermode": "closest",
          "mapbox": {
           "style": "light"
          },
          "paper_bgcolor": "white",
          "plot_bgcolor": "#E5ECF6",
          "polar": {
           "angularaxis": {
            "gridcolor": "white",
            "linecolor": "white",
            "ticks": ""
           },
           "bgcolor": "#E5ECF6",
           "radialaxis": {
            "gridcolor": "white",
            "linecolor": "white",
            "ticks": ""
           }
          },
          "scene": {
           "xaxis": {
            "backgroundcolor": "#E5ECF6",
            "gridcolor": "white",
            "gridwidth": 2,
            "linecolor": "white",
            "showbackground": true,
            "ticks": "",
            "zerolinecolor": "white"
           },
           "yaxis": {
            "backgroundcolor": "#E5ECF6",
            "gridcolor": "white",
            "gridwidth": 2,
            "linecolor": "white",
            "showbackground": true,
            "ticks": "",
            "zerolinecolor": "white"
           },
           "zaxis": {
            "backgroundcolor": "#E5ECF6",
            "gridcolor": "white",
            "gridwidth": 2,
            "linecolor": "white",
            "showbackground": true,
            "ticks": "",
            "zerolinecolor": "white"
           }
          },
          "shapedefaults": {
           "line": {
            "color": "#2a3f5f"
           }
          },
          "ternary": {
           "aaxis": {
            "gridcolor": "white",
            "linecolor": "white",
            "ticks": ""
           },
           "baxis": {
            "gridcolor": "white",
            "linecolor": "white",
            "ticks": ""
           },
           "bgcolor": "#E5ECF6",
           "caxis": {
            "gridcolor": "white",
            "linecolor": "white",
            "ticks": ""
           }
          },
          "title": {
           "x": 0.05
          },
          "xaxis": {
           "automargin": true,
           "gridcolor": "white",
           "linecolor": "white",
           "ticks": "",
           "title": {
            "standoff": 15
           },
           "zerolinecolor": "white",
           "zerolinewidth": 2
          },
          "yaxis": {
           "automargin": true,
           "gridcolor": "white",
           "linecolor": "white",
           "ticks": "",
           "title": {
            "standoff": 15
           },
           "zerolinecolor": "white",
           "zerolinewidth": 2
          }
         }
        },
        "title": {
         "text": "IMF GDP Forecast by Country within UN Regions"
        },
        "xaxis": {
         "anchor": "y",
         "domain": [
          0,
          1
         ],
         "title": {
          "text": "UN Region"
         }
        },
        "yaxis": {
         "anchor": "x",
         "domain": [
          0,
          1
         ],
         "title": {
          "text": "IMF GDP Forecast ($ Million)"
         }
        }
       }
      }
     },
     "metadata": {},
     "output_type": "display_data"
    }
   ],
   "source": [
    "import plotly.express as px\n",
    "import pandas as pd\n",
    "chart['IMF Forecast'] = pd.to_numeric(chart['IMF Forecast'], errors='coerce')\n",
    "\n",
    "chart_filtered = chart[chart['Country/Territory'] != 'World']\n",
    "\n",
    "fig = px.bar(chart_filtered,\n",
    "             x='UN Region',\n",
    "             y='IMF Forecast',\n",
    "             color='Country/Territory', \n",
    "             title='IMF GDP Forecast by Country within UN Regions',\n",
    "             labels={'IMF Forecast': 'IMF GDP Forecast ($ Million)'},\n",
    "             height=600,\n",
    "             barmode='stack')\n",
    "\n",
    "fig.update_traces(hovertemplate='Country/Territory: %{label}<br>IMF Forecast: %{value}')\n",
    "fig.show()\n",
    "\n"
   ]
  },
  {
   "cell_type": "code",
   "execution_count": 42,
   "id": "8cf5ee96",
   "metadata": {},
   "outputs": [],
   "source": [
    "fig.write_html(\"stacked_bar.html\")\n",
    "\n"
   ]
  },
  {
   "cell_type": "code",
   "execution_count": 16,
   "id": "1227627d-c60d-40d7-a65e-b5168d7d22d4",
   "metadata": {},
   "outputs": [
    {
     "data": {
      "text/html": [
       "<div>\n",
       "<style scoped>\n",
       "    .dataframe tbody tr th:only-of-type {\n",
       "        vertical-align: middle;\n",
       "    }\n",
       "\n",
       "    .dataframe tbody tr th {\n",
       "        vertical-align: top;\n",
       "    }\n",
       "\n",
       "    .dataframe thead th {\n",
       "        text-align: right;\n",
       "    }\n",
       "</style>\n",
       "<table border=\"1\" class=\"dataframe\">\n",
       "  <thead>\n",
       "    <tr style=\"text-align: right;\">\n",
       "      <th></th>\n",
       "      <th>roi</th>\n",
       "      <th>level4</th>\n",
       "      <th>level3</th>\n",
       "      <th>level2</th>\n",
       "      <th>level1</th>\n",
       "    </tr>\n",
       "  </thead>\n",
       "  <tbody>\n",
       "    <tr>\n",
       "      <th>0</th>\n",
       "      <td>SFG_L</td>\n",
       "      <td>SFG_L</td>\n",
       "      <td>Frontal_L</td>\n",
       "      <td>CerebralCortex_L</td>\n",
       "      <td>Telencephalon_L</td>\n",
       "    </tr>\n",
       "    <tr>\n",
       "      <th>1</th>\n",
       "      <td>SFG_R</td>\n",
       "      <td>SFG_R</td>\n",
       "      <td>Frontal_R</td>\n",
       "      <td>CerebralCortex_R</td>\n",
       "      <td>Telencephalon_R</td>\n",
       "    </tr>\n",
       "    <tr>\n",
       "      <th>2</th>\n",
       "      <td>SFG_PFC_L</td>\n",
       "      <td>SFG_L</td>\n",
       "      <td>Frontal_L</td>\n",
       "      <td>CerebralCortex_L</td>\n",
       "      <td>Telencephalon_L</td>\n",
       "    </tr>\n",
       "    <tr>\n",
       "      <th>3</th>\n",
       "      <td>SFG_PFC_R</td>\n",
       "      <td>SFG_R</td>\n",
       "      <td>Frontal_R</td>\n",
       "      <td>CerebralCortex_R</td>\n",
       "      <td>Telencephalon_R</td>\n",
       "    </tr>\n",
       "    <tr>\n",
       "      <th>4</th>\n",
       "      <td>SFG_pole_L</td>\n",
       "      <td>SFG_L</td>\n",
       "      <td>Frontal_L</td>\n",
       "      <td>CerebralCortex_L</td>\n",
       "      <td>Telencephalon_L</td>\n",
       "    </tr>\n",
       "  </tbody>\n",
       "</table>\n",
       "</div>"
      ],
      "text/plain": [
       "          roi level4     level3            level2           level1\n",
       "0       SFG_L  SFG_L  Frontal_L  CerebralCortex_L  Telencephalon_L\n",
       "1       SFG_R  SFG_R  Frontal_R  CerebralCortex_R  Telencephalon_R\n",
       "2   SFG_PFC_L  SFG_L  Frontal_L  CerebralCortex_L  Telencephalon_L\n",
       "3   SFG_PFC_R  SFG_R  Frontal_R  CerebralCortex_R  Telencephalon_R\n",
       "4  SFG_pole_L  SFG_L  Frontal_L  CerebralCortex_L  Telencephalon_L"
      ]
     },
     "execution_count": 16,
     "metadata": {},
     "output_type": "execute_result"
    }
   ],
   "source": [
    "## load in the hierarchy information\n",
    "import numpy as np\n",
    "url = \"https://raw.githubusercontent.com/bcaffo/MRIcloudT1volumetrics/master/inst/extdata/multilevel_lookup_table.txt\"\n",
    "multilevel_lookup = pd.read_csv(url, sep = \"\\t\").drop(['Level5'], axis = 1)\n",
    "multilevel_lookup = multilevel_lookup.rename(columns = {\n",
    "    \"modify\"   : \"roi\", \n",
    "    \"modify.1\" : \"level4\",\n",
    "    \"modify.2\" : \"level3\", \n",
    "    \"modify.3\" : \"level2\",\n",
    "    \"modify.4\" : \"level1\"})\n",
    "multilevel_lookup = multilevel_lookup[['roi', 'level4', 'level3', 'level2', 'level1']]\n",
    "multilevel_lookup.head()\n"
   ]
  },
  {
   "cell_type": "code",
   "execution_count": 21,
   "id": "9bdac65b-aa2f-401f-98ca-0675448354a9",
   "metadata": {},
   "outputs": [
    {
     "data": {
      "text/html": [
       "<div>\n",
       "<style scoped>\n",
       "    .dataframe tbody tr th:only-of-type {\n",
       "        vertical-align: middle;\n",
       "    }\n",
       "\n",
       "    .dataframe tbody tr th {\n",
       "        vertical-align: top;\n",
       "    }\n",
       "\n",
       "    .dataframe thead th {\n",
       "        text-align: right;\n",
       "    }\n",
       "</style>\n",
       "<table border=\"1\" class=\"dataframe\">\n",
       "  <thead>\n",
       "    <tr style=\"text-align: right;\">\n",
       "      <th></th>\n",
       "      <th>roi</th>\n",
       "      <th>volume</th>\n",
       "      <th>level4</th>\n",
       "      <th>level3</th>\n",
       "      <th>level2</th>\n",
       "      <th>level1</th>\n",
       "      <th>icv</th>\n",
       "      <th>comp</th>\n",
       "    </tr>\n",
       "  </thead>\n",
       "  <tbody>\n",
       "    <tr>\n",
       "      <th>0</th>\n",
       "      <td>SFG_L</td>\n",
       "      <td>12926</td>\n",
       "      <td>SFG_L</td>\n",
       "      <td>Frontal_L</td>\n",
       "      <td>CerebralCortex_L</td>\n",
       "      <td>Telencephalon_L</td>\n",
       "      <td>ICV</td>\n",
       "      <td>0.009350</td>\n",
       "    </tr>\n",
       "    <tr>\n",
       "      <th>1</th>\n",
       "      <td>SFG_R</td>\n",
       "      <td>10050</td>\n",
       "      <td>SFG_R</td>\n",
       "      <td>Frontal_R</td>\n",
       "      <td>CerebralCortex_R</td>\n",
       "      <td>Telencephalon_R</td>\n",
       "      <td>ICV</td>\n",
       "      <td>0.007270</td>\n",
       "    </tr>\n",
       "    <tr>\n",
       "      <th>2</th>\n",
       "      <td>SFG_PFC_L</td>\n",
       "      <td>12783</td>\n",
       "      <td>SFG_L</td>\n",
       "      <td>Frontal_L</td>\n",
       "      <td>CerebralCortex_L</td>\n",
       "      <td>Telencephalon_L</td>\n",
       "      <td>ICV</td>\n",
       "      <td>0.009247</td>\n",
       "    </tr>\n",
       "    <tr>\n",
       "      <th>3</th>\n",
       "      <td>SFG_PFC_R</td>\n",
       "      <td>11507</td>\n",
       "      <td>SFG_R</td>\n",
       "      <td>Frontal_R</td>\n",
       "      <td>CerebralCortex_R</td>\n",
       "      <td>Telencephalon_R</td>\n",
       "      <td>ICV</td>\n",
       "      <td>0.008324</td>\n",
       "    </tr>\n",
       "    <tr>\n",
       "      <th>4</th>\n",
       "      <td>SFG_pole_L</td>\n",
       "      <td>3078</td>\n",
       "      <td>SFG_L</td>\n",
       "      <td>Frontal_L</td>\n",
       "      <td>CerebralCortex_L</td>\n",
       "      <td>Telencephalon_L</td>\n",
       "      <td>ICV</td>\n",
       "      <td>0.002227</td>\n",
       "    </tr>\n",
       "  </tbody>\n",
       "</table>\n",
       "</div>"
      ],
      "text/plain": [
       "          roi  volume level4     level3            level2           level1  \\\n",
       "0       SFG_L   12926  SFG_L  Frontal_L  CerebralCortex_L  Telencephalon_L   \n",
       "1       SFG_R   10050  SFG_R  Frontal_R  CerebralCortex_R  Telencephalon_R   \n",
       "2   SFG_PFC_L   12783  SFG_L  Frontal_L  CerebralCortex_L  Telencephalon_L   \n",
       "3   SFG_PFC_R   11507  SFG_R  Frontal_R  CerebralCortex_R  Telencephalon_R   \n",
       "4  SFG_pole_L    3078  SFG_L  Frontal_L  CerebralCortex_L  Telencephalon_L   \n",
       "\n",
       "   icv      comp  \n",
       "0  ICV  0.009350  \n",
       "1  ICV  0.007270  \n",
       "2  ICV  0.009247  \n",
       "3  ICV  0.008324  \n",
       "4  ICV  0.002227  "
      ]
     },
     "execution_count": 21,
     "metadata": {},
     "output_type": "execute_result"
    }
   ],
   "source": [
    "id = 127\n",
    "subjectData = pd.read_csv(\"https://raw.githubusercontent.com/smart-stats/ds4bio_book/main/book/assetts/kirby21AllLevels.csv\")\n",
    "subjectData = subjectData.loc[(subjectData.type == 1) & (subjectData.level == 5) & (subjectData.id == id)]\n",
    "subjectData = subjectData[['roi', 'volume']]\n",
    "## Merge the subject data with the multilevel data\n",
    "subjectData = pd.merge(subjectData, multilevel_lookup, on = \"roi\")\n",
    "subjectData = subjectData.assign(icv = \"ICV\")\n",
    "subjectData = subjectData.assign(comp = subjectData.volume / np.sum(subjectData.volume))\n",
    "subjectData.head()"
   ]
  },
  {
   "cell_type": "code",
   "execution_count": 40,
   "id": "fc53900a",
   "metadata": {},
   "outputs": [
    {
     "data": {
      "application/vnd.plotly.v1+json": {
       "config": {
        "plotlyServerURL": "https://plot.ly"
       },
       "data": [
        {
         "link": {
          "source": [
           0,
           1,
           9,
           0,
           2,
           10,
           0,
           1,
           9,
           0,
           2,
           10,
           0,
           1,
           9,
           0,
           2,
           10,
           0,
           1,
           9,
           0,
           2,
           10,
           0,
           1,
           9,
           0,
           2,
           10,
           0,
           1,
           9,
           0,
           2,
           10,
           0,
           1,
           9,
           0,
           2,
           10,
           0,
           1,
           9,
           0,
           2,
           10,
           0,
           1,
           9,
           0,
           2,
           10,
           0,
           1,
           9,
           0,
           2,
           10,
           0,
           1,
           9,
           0,
           2,
           10,
           0,
           1,
           9,
           0,
           2,
           10,
           0,
           1,
           9,
           0,
           2,
           10,
           0,
           1,
           9,
           0,
           2,
           10,
           0,
           1,
           9,
           0,
           2,
           10,
           0,
           1,
           9,
           0,
           2,
           10,
           0,
           1,
           9,
           0,
           2,
           10,
           0,
           1,
           9,
           0,
           2,
           10,
           0,
           1,
           9,
           0,
           2,
           10,
           0,
           1,
           9,
           0,
           2,
           10,
           0,
           1,
           9,
           0,
           2,
           10,
           0,
           1,
           9,
           0,
           2,
           10,
           0,
           1,
           9,
           0,
           2,
           10,
           0,
           1,
           9,
           0,
           2,
           10,
           0,
           1,
           9,
           0,
           2,
           10,
           0,
           1,
           9,
           0,
           2,
           10,
           0,
           1,
           9,
           0,
           2,
           10,
           0,
           1,
           9,
           0,
           2,
           10,
           0,
           1,
           9,
           0,
           2,
           10,
           0,
           1,
           9,
           0,
           2,
           10,
           0,
           1,
           9,
           0,
           2,
           10,
           0,
           1,
           9,
           0,
           2,
           10,
           0,
           1,
           9,
           0,
           2,
           10,
           0,
           1,
           9,
           0,
           2,
           10,
           0,
           1,
           9,
           0,
           2,
           10,
           0,
           1,
           9,
           0,
           2,
           10,
           0,
           1,
           11,
           0,
           2,
           12,
           0,
           1,
           9,
           0,
           2,
           10,
           0,
           1,
           11,
           0,
           2,
           12,
           0,
           1,
           11,
           0,
           2,
           12,
           0,
           1,
           11,
           0,
           2,
           12,
           0,
           3,
           13,
           0,
           4,
           14,
           0,
           3,
           15,
           0,
           4,
           16,
           0,
           3,
           15,
           0,
           3,
           15,
           0,
           3,
           15,
           0,
           3,
           15,
           0,
           4,
           16,
           0,
           4,
           16,
           0,
           4,
           16,
           0,
           4,
           16,
           0,
           1,
           11,
           0,
           2,
           12,
           0,
           5,
           17,
           0,
           5,
           18,
           0,
           5,
           17,
           0,
           5,
           18,
           0,
           6,
           19,
           0,
           6,
           20,
           0,
           5,
           17,
           0,
           5,
           18,
           0,
           5,
           17,
           0,
           5,
           18,
           0,
           6,
           20,
           0,
           6,
           19,
           0,
           6,
           20,
           0,
           6,
           19,
           0,
           6,
           20,
           0,
           6,
           19,
           0,
           6,
           20,
           0,
           6,
           19,
           0,
           7,
           21,
           0,
           7,
           22,
           0,
           6,
           20,
           0,
           6,
           19,
           0,
           6,
           20,
           0,
           6,
           19,
           0,
           7,
           21,
           0,
           7,
           22,
           0,
           1,
           23,
           0,
           2,
           24,
           0,
           1,
           23,
           0,
           2,
           24,
           0,
           1,
           23,
           0,
           2,
           24,
           0,
           1,
           23,
           0,
           2,
           24,
           0,
           1,
           23,
           0,
           2,
           24,
           0,
           1,
           23,
           0,
           2,
           24,
           0,
           1,
           23,
           0,
           2,
           24,
           0,
           1,
           23,
           0,
           2,
           24,
           0,
           1,
           23,
           0,
           2,
           24,
           0,
           1,
           23,
           0,
           2,
           24,
           0,
           1,
           23,
           0,
           2,
           24,
           0,
           1,
           23,
           0,
           2,
           24,
           0,
           1,
           23,
           0,
           2,
           24,
           0,
           1,
           23,
           0,
           2,
           24,
           0,
           1,
           23,
           0,
           2,
           24,
           0,
           1,
           23,
           0,
           2,
           24,
           0,
           1,
           23,
           0,
           2,
           24,
           0,
           1,
           23,
           0,
           2,
           24,
           0,
           1,
           23,
           0,
           2,
           24,
           0,
           1,
           23,
           0,
           2,
           24,
           0,
           3,
           15,
           0,
           4,
           16,
           0,
           4,
           16,
           0,
           3,
           15,
           0,
           8,
           25,
           0,
           8,
           25,
           0,
           8,
           25,
           0,
           8,
           25,
           0,
           8,
           25,
           0,
           8,
           25,
           0,
           8,
           25,
           0,
           8,
           25,
           0,
           8,
           25,
           0,
           8,
           25,
           0,
           8,
           25,
           0,
           1,
           23,
           0,
           2,
           24,
           0,
           1,
           23,
           0,
           2,
           24,
           0,
           1,
           23,
           0,
           2,
           24,
           0,
           1,
           23,
           0,
           2,
           24,
           0,
           1,
           23,
           0,
           2,
           24,
           0,
           1,
           23,
           0,
           2,
           24,
           0,
           1,
           23,
           0,
           2,
           24,
           0,
           1,
           23,
           0,
           2,
           24,
           0,
           1,
           23,
           0,
           2,
           24,
           0,
           1,
           23,
           0,
           2,
           24,
           0,
           1,
           23,
           0,
           2,
           24,
           0,
           1,
           23,
           0,
           2,
           24,
           0,
           1,
           23,
           0,
           2,
           24,
           0,
           1,
           23,
           0,
           2,
           24,
           0,
           1,
           23,
           0,
           2,
           24,
           0,
           1,
           23,
           0,
           2,
           24,
           0,
           1,
           23,
           0,
           2,
           24,
           0,
           1,
           23,
           0,
           2,
           24,
           0,
           1,
           23,
           0,
           2,
           24,
           0,
           1,
           23,
           0,
           2,
           24,
           0,
           1,
           23,
           0,
           2,
           24,
           0,
           1,
           23,
           0,
           2,
           24,
           0,
           1,
           23,
           0,
           2,
           24,
           0,
           1,
           23,
           0,
           2,
           24,
           0,
           1,
           23,
           0,
           2,
           24,
           0,
           1,
           23,
           0,
           2,
           24,
           0,
           1,
           23,
           0,
           2,
           24,
           0,
           1,
           23,
           0,
           2,
           24,
           0,
           1,
           23,
           0,
           2,
           24,
           0,
           1,
           23,
           0,
           2,
           24,
           0,
           1,
           23,
           0,
           2,
           24,
           0,
           1,
           23,
           0,
           2,
           24,
           0,
           1,
           23,
           0,
           2,
           24,
           0,
           1,
           23,
           0,
           2,
           24,
           0,
           1,
           23,
           0,
           2,
           24,
           0,
           6,
           19,
           0,
           6,
           20,
           0,
           6,
           20,
           0,
           6,
           19,
           0,
           6,
           20,
           0,
           6,
           19,
           0,
           8,
           26,
           0,
           8,
           27,
           0,
           8,
           26,
           0,
           8,
           27,
           0,
           8,
           26,
           0,
           8,
           27,
           0,
           8,
           26,
           0,
           8,
           27,
           0,
           8,
           26,
           0,
           8,
           27,
           0,
           8,
           26,
           0,
           8,
           27,
           0,
           8,
           26,
           0,
           8,
           27,
           0,
           8,
           26,
           0,
           8,
           27,
           0,
           8,
           26,
           0,
           8,
           27,
           0,
           1,
           11,
           0,
           1,
           9,
           0,
           2,
           12,
           0,
           2,
           10,
           0,
           8,
           28,
           0,
           8,
           28,
           0,
           8,
           25,
           0,
           1,
           23,
           0,
           2,
           24
          ],
          "target": [
           1,
           9,
           29,
           2,
           10,
           30,
           1,
           9,
           29,
           2,
           10,
           30,
           1,
           9,
           29,
           2,
           10,
           30,
           1,
           9,
           29,
           2,
           10,
           30,
           1,
           9,
           29,
           2,
           10,
           30,
           1,
           9,
           29,
           2,
           10,
           30,
           1,
           9,
           29,
           2,
           10,
           30,
           1,
           9,
           29,
           2,
           10,
           30,
           1,
           9,
           29,
           2,
           10,
           30,
           1,
           9,
           29,
           2,
           10,
           30,
           1,
           9,
           29,
           2,
           10,
           30,
           1,
           9,
           31,
           2,
           10,
           32,
           1,
           9,
           29,
           2,
           10,
           30,
           1,
           9,
           31,
           2,
           10,
           32,
           1,
           9,
           31,
           2,
           10,
           32,
           1,
           9,
           31,
           2,
           10,
           32,
           1,
           9,
           31,
           2,
           10,
           32,
           1,
           9,
           33,
           2,
           10,
           34,
           1,
           9,
           33,
           2,
           10,
           34,
           1,
           9,
           33,
           2,
           10,
           34,
           1,
           9,
           33,
           2,
           10,
           34,
           1,
           9,
           33,
           2,
           10,
           34,
           1,
           9,
           35,
           2,
           10,
           36,
           1,
           9,
           35,
           2,
           10,
           36,
           1,
           9,
           33,
           2,
           10,
           34,
           1,
           9,
           37,
           2,
           10,
           38,
           1,
           9,
           37,
           2,
           10,
           38,
           1,
           9,
           37,
           2,
           10,
           38,
           1,
           9,
           37,
           2,
           10,
           38,
           1,
           9,
           37,
           2,
           10,
           38,
           1,
           9,
           35,
           2,
           10,
           36,
           1,
           9,
           35,
           2,
           10,
           36,
           1,
           9,
           35,
           2,
           10,
           36,
           1,
           9,
           35,
           2,
           10,
           36,
           1,
           9,
           35,
           2,
           10,
           36,
           1,
           9,
           39,
           2,
           10,
           40,
           1,
           11,
           35,
           2,
           12,
           36,
           1,
           9,
           35,
           2,
           10,
           36,
           1,
           11,
           41,
           2,
           12,
           42,
           1,
           11,
           41,
           2,
           12,
           42,
           1,
           11,
           41,
           2,
           12,
           42,
           3,
           13,
           13,
           4,
           14,
           14,
           3,
           15,
           15,
           4,
           16,
           16,
           3,
           15,
           15,
           3,
           15,
           15,
           3,
           15,
           15,
           3,
           15,
           15,
           4,
           16,
           16,
           4,
           16,
           16,
           4,
           16,
           16,
           4,
           16,
           16,
           1,
           11,
           41,
           2,
           12,
           42,
           5,
           17,
           43,
           5,
           18,
           44,
           5,
           17,
           43,
           5,
           18,
           44,
           6,
           19,
           45,
           6,
           20,
           46,
           5,
           17,
           43,
           5,
           18,
           44,
           5,
           17,
           43,
           5,
           18,
           44,
           6,
           20,
           47,
           6,
           19,
           48,
           6,
           20,
           47,
           6,
           19,
           48,
           6,
           20,
           47,
           6,
           19,
           48,
           6,
           20,
           47,
           6,
           19,
           48,
           7,
           21,
           49,
           7,
           22,
           50,
           6,
           20,
           47,
           6,
           19,
           48,
           6,
           20,
           47,
           6,
           19,
           48,
           7,
           21,
           49,
           7,
           22,
           50,
           1,
           23,
           51,
           2,
           24,
           52,
           1,
           23,
           51,
           2,
           24,
           52,
           1,
           23,
           53,
           2,
           24,
           54,
           1,
           23,
           55,
           2,
           24,
           56,
           1,
           23,
           55,
           2,
           24,
           56,
           1,
           23,
           55,
           2,
           24,
           56,
           1,
           23,
           57,
           2,
           24,
           58,
           1,
           23,
           57,
           2,
           24,
           58,
           1,
           23,
           57,
           2,
           24,
           58,
           1,
           23,
           57,
           2,
           24,
           58,
           1,
           23,
           57,
           2,
           24,
           58,
           1,
           23,
           59,
           2,
           24,
           60,
           1,
           23,
           59,
           2,
           24,
           60,
           1,
           23,
           59,
           2,
           24,
           60,
           1,
           23,
           59,
           2,
           24,
           60,
           1,
           23,
           57,
           2,
           24,
           58,
           1,
           23,
           57,
           2,
           24,
           58,
           1,
           23,
           57,
           2,
           24,
           58,
           1,
           23,
           51,
           2,
           24,
           52,
           1,
           23,
           53,
           2,
           24,
           54,
           3,
           15,
           15,
           4,
           16,
           16,
           4,
           16,
           16,
           3,
           15,
           15,
           8,
           25,
           61,
           8,
           25,
           61,
           8,
           25,
           61,
           8,
           25,
           61,
           8,
           25,
           61,
           8,
           25,
           62,
           8,
           25,
           62,
           8,
           25,
           62,
           8,
           25,
           62,
           8,
           25,
           62,
           8,
           25,
           63,
           1,
           23,
           51,
           2,
           24,
           52,
           1,
           23,
           53,
           2,
           24,
           54,
           1,
           23,
           51,
           2,
           24,
           52,
           1,
           23,
           51,
           2,
           24,
           52,
           1,
           23,
           51,
           2,
           24,
           52,
           1,
           23,
           51,
           2,
           24,
           52,
           1,
           23,
           51,
           2,
           24,
           52,
           1,
           23,
           51,
           2,
           24,
           52,
           1,
           23,
           51,
           2,
           24,
           52,
           1,
           23,
           51,
           2,
           24,
           52,
           1,
           23,
           51,
           2,
           24,
           52,
           1,
           23,
           51,
           2,
           24,
           52,
           1,
           23,
           51,
           2,
           24,
           52,
           1,
           23,
           53,
           2,
           24,
           54,
           1,
           23,
           51,
           2,
           24,
           52,
           1,
           23,
           53,
           2,
           24,
           54,
           1,
           23,
           53,
           2,
           24,
           54,
           1,
           23,
           53,
           2,
           24,
           54,
           1,
           23,
           53,
           2,
           24,
           54,
           1,
           23,
           57,
           2,
           24,
           58,
           1,
           23,
           57,
           2,
           24,
           58,
           1,
           23,
           57,
           2,
           24,
           58,
           1,
           23,
           57,
           2,
           24,
           58,
           1,
           23,
           57,
           2,
           24,
           58,
           1,
           23,
           57,
           2,
           24,
           58,
           1,
           23,
           53,
           2,
           24,
           54,
           1,
           23,
           53,
           2,
           24,
           54,
           1,
           23,
           53,
           2,
           24,
           54,
           1,
           23,
           53,
           2,
           24,
           54,
           1,
           23,
           53,
           2,
           24,
           54,
           1,
           23,
           59,
           2,
           24,
           60,
           1,
           23,
           59,
           2,
           24,
           60,
           1,
           23,
           59,
           2,
           24,
           60,
           1,
           23,
           59,
           2,
           24,
           60,
           1,
           23,
           59,
           2,
           24,
           60,
           6,
           19,
           45,
           6,
           20,
           46,
           6,
           20,
           46,
           6,
           19,
           45,
           6,
           20,
           46,
           6,
           19,
           45,
           8,
           26,
           64,
           8,
           27,
           65,
           8,
           26,
           66,
           8,
           27,
           67,
           8,
           26,
           68,
           8,
           27,
           69,
           8,
           26,
           68,
           8,
           27,
           69,
           8,
           26,
           68,
           8,
           27,
           69,
           8,
           26,
           70,
           8,
           27,
           71,
           8,
           26,
           72,
           8,
           27,
           73,
           8,
           26,
           74,
           8,
           27,
           75,
           8,
           26,
           76,
           8,
           27,
           77,
           1,
           11,
           41,
           1,
           9,
           35,
           2,
           12,
           42,
           2,
           10,
           36,
           8,
           28,
           61,
           8,
           28,
           62,
           8,
           25,
           78,
           1,
           23,
           57,
           2,
           24,
           58
          ],
          "value": [
           0.00935028334411155,
           0.00935028334411155,
           0.00935028334411155,
           0.007269870618004106,
           0.007269870618004106,
           0.007269870618004106,
           0.009246841403974774,
           0.009246841403974774,
           0.009246841403974774,
           0.008323821015062014,
           0.008323821015062014,
           0.008323821015062014,
           0.0022265335086782724,
           0.0022265335086782724,
           0.0022265335086782724,
           0.0035257064071793046,
           0.0035257064071793046,
           0.0035257064071793046,
           0.007188853154400478,
           0.007188853154400478,
           0.007188853154400478,
           0.008066301220036197,
           0.008066301220036197,
           0.008066301220036197,
           0.011790934435170838,
           0.011790934435170838,
           0.011790934435170838,
           0.011898716596572094,
           0.011898716596572094,
           0.011898716596572094,
           0.003059132621247698,
           0.003059132621247698,
           0.003059132621247698,
           0.0029542439406894296,
           0.0029542439406894296,
           0.0029542439406894296,
           0.0032920578291081278,
           0.0032920578291081278,
           0.0032920578291081278,
           0.0027979959751681474,
           0.0027979959751681474,
           0.0027979959751681474,
           0.0031112152764214587,
           0.0031112152764214587,
           0.0031112152764214587,
           0.0026453648607005983,
           0.0026453648607005983,
           0.0026453648607005983,
           0.003399839990509383,
           0.003399839990509383,
           0.003399839990509383,
           0.0032479322462525806,
           0.0032479322462525806,
           0.0032479322462525806,
           0.003482304194534504,
           0.003482304194534504,
           0.003482304194534504,
           0.0034316682797822366,
           0.0034316682797822366,
           0.0034316682797822366,
           0.004560125808547053,
           0.004560125808547053,
           0.004560125808547053,
           0.004491405638526119,
           0.004491405638526119,
           0.004491405638526119,
           0.007738614514567953,
           0.007738614514567953,
           0.007738614514567953,
           0.008085832215726358,
           0.008085832215726358,
           0.008085832215726358,
           0.010666817127670501,
           0.010666817127670501,
           0.010666817127670501,
           0.012675616202914025,
           0.012675616202914025,
           0.012675616202914025,
           0.005471572274087866,
           0.005471572274087866,
           0.005471572274087866,
           0.00501150882005298,
           0.00501150882005298,
           0.00501150882005298,
           0.006239791437900838,
           0.006239791437900838,
           0.006239791437900838,
           0.006869846891461194,
           0.006869846891461194,
           0.006869846891461194,
           0.005374640665847812,
           0.005374640665847812,
           0.005374640665847812,
           0.009823367461939876,
           0.009823367461939876,
           0.009823367461939876,
           0.005323281380884798,
           0.005323281380884798,
           0.005323281380884798,
           0.0047554357654486555,
           0.0047554357654486555,
           0.0047554357654486555,
           0.009372707820644697,
           0.009372707820644697,
           0.009372707820644697,
           0.008140084981532358,
           0.008140084981532358,
           0.008140084981532358,
           0.003518472705071838,
           0.003518472705071838,
           0.003518472705071838,
           0.0039090926188750435,
           0.0039090926188750435,
           0.0039090926188750435,
           0.011746085482104544,
           0.011746085482104544,
           0.011746085482104544,
           0.011798891507489051,
           0.011798891507489051,
           0.011798891507489051,
           0.0019502060881730417,
           0.0019502060881730417,
           0.0019502060881730417,
           0.002162876930132565,
           0.002162876930132565,
           0.002162876930132565,
           0.009081189625713786,
           0.009081189625713786,
           0.009081189625713786,
           0.00892349491977101,
           0.00892349491977101,
           0.00892349491977101,
           0.0009042127634333465,
           0.0009042127634333465,
           0.0009042127634333465,
           0.0009027660230118531,
           0.0009027660230118531,
           0.0009027660230118531,
           0.0006727342959944098,
           0.0006727342959944098,
           0.0006727342959944098,
           0.000753028389387291,
           0.000753028389387291,
           0.000753028389387291,
           0.010150330797197375,
           0.010150330797197375,
           0.010150330797197375,
           0.009775625028030597,
           0.009775625028030597,
           0.009775625028030597,
           0.0018576147011974671,
           0.0018576147011974671,
           0.0018576147011974671,
           0.0016406036379734638,
           0.0016406036379734638,
           0.0016406036379734638,
           0.011785147473484865,
           0.011785147473484865,
           0.011785147473484865,
           0.010245815665015937,
           0.010245815665015937,
           0.010245815665015937,
           0.0031032582041032454,
           0.0031032582041032454,
           0.0031032582041032454,
           0.0032370816930913805,
           0.0032370816930913805,
           0.0032370816930913805,
           0.004367709332488437,
           0.004367709332488437,
           0.004367709332488437,
           0.004947128871296526,
           0.004947128871296526,
           0.004947128871296526,
           0.005836150860304192,
           0.005836150860304192,
           0.005836150860304192,
           0.00527264546613253,
           0.00527264546613253,
           0.00527264546613253,
           0.0019010169138422676,
           0.0019010169138422676,
           0.0019010169138422676,
           0.0026316208266964117,
           0.0026316208266964117,
           0.0026316208266964117,
           0.00034070736926168497,
           0.00034070736926168497,
           0.00034070736926168497,
           0.000432575386026513,
           0.000432575386026513,
           0.000432575386026513,
           0.0011176069756036163,
           0.0011176069756036163,
           0.0011176069756036163,
           0.0011704130009881238,
           0.0011704130009881238,
           0.0011704130009881238,
           0.00888443292839069,
           0.00888443292839069,
           0.00888443292839069,
           0.009074679293817065,
           0.009074679293817065,
           0.009074679293817065,
           0.0041362308650495,
           0.0041362308650495,
           0.0041362308650495,
           0.005872319370841526,
           0.005872319370841526,
           0.005872319370841526,
           0.00523792369601669,
           0.00523792369601669,
           0.00523792369601669,
           0.005122907832507968,
           0.005122907832507968,
           0.005122907832507968,
           0.0014344431279106609,
           0.0014344431279106609,
           0.0014344431279106609,
           0.0016991966250439448,
           0.0016991966250439448,
           0.0016991966250439448,
           0.002837781336759215,
           0.002837781336759215,
           0.002837781336759215,
           0.0027017877371388393,
           0.0027017877371388393,
           0.0027017877371388393,
           0.0025824316523656377,
           0.0025824316523656377,
           0.0025824316523656377,
           0.002693107294609879,
           0.002693107294609879,
           0.002693107294609879,
           0.0031719783741241793,
           0.0031719783741241793,
           0.0031719783741241793,
           0.0031828289272853795,
           0.0031828289272853795,
           0.0031828289272853795,
           0.0009895704483014545,
           0.0009895704483014545,
           0.0009895704483014545,
           0.0010691411714835888,
           0.0010691411714835888,
           0.0010691411714835888,
           0.004587613876555427,
           0.004587613876555427,
           0.004587613876555427,
           0.0046093149828778275,
           0.0046093149828778275,
           0.0046093149828778275,
           0.00048104119014654036,
           0.00048104119014654036,
           0.00048104119014654036,
           0.0005504847303782214,
           0.0005504847303782214,
           0.0005504847303782214,
           0.00029368830556315096,
           0.00029368830556315096,
           0.00029368830556315096,
           0.00029368830556315096,
           0.00029368830556315096,
           0.00029368830556315096,
           0.0012492603539595115,
           0.0012492603539595115,
           0.0012492603539595115,
           0.0012492603539595115,
           0.0012492603539595115,
           0.0012492603539595115,
           0.00029658178640613766,
           0.00029658178640613766,
           0.00029658178640613766,
           0.00029658178640613766,
           0.00029658178640613766,
           0.00029658178640613766,
           0.0010633542097976156,
           0.0010633542097976156,
           0.0010633542097976156,
           0.0010633542097976156,
           0.0010633542097976156,
           0.0010633542097976156,
           0.0005150395900516342,
           0.0005150395900516342,
           0.0005150395900516342,
           0.0005656755048039016,
           0.0005656755048039016,
           0.0005656755048039016,
           0.000253179573761337,
           0.000253179573761337,
           0.000253179573761337,
           0.0003110491906210712,
           0.0003110491906210712,
           0.0003110491906210712,
           0.0002799442715589641,
           0.0002799442715589641,
           0.0002799442715589641,
           0.00018518277395114936,
           0.00018518277395114936,
           0.00018518277395114936,
           0.042320050809523606,
           0.042320050809523606,
           0.042320050809523606,
           0.04299350847572876,
           0.04299350847572876,
           0.04299350847572876,
           0.0013997213577948203,
           0.0013997213577948203,
           0.0013997213577948203,
           0.0014568676044438079,
           0.0014568676044438079,
           0.0014568676044438079,
           0.0016442204890271973,
           0.0016442204890271973,
           0.0016442204890271973,
           0.0018995701734207742,
           0.0018995701734207742,
           0.0018995701734207742,
           0.0011349678606615366,
           0.0011349678606615366,
           0.0011349678606615366,
           0.0010322492907355084,
           0.0010322492907355084,
           0.0010322492907355084,
           0.0006900951810523301,
           0.0006900951810523301,
           0.0006900951810523301,
           0.0007523050191765442,
           0.0007523050191765442,
           0.0007523050191765442,
           0.0020956035005331238,
           0.0020956035005331238,
           0.0020956035005331238,
           0.0021679405216077914,
           0.0021679405216077914,
           0.0021679405216077914,
           0.0006973288831597968,
           0.0006973288831597968,
           0.0006973288831597968,
           0.000616311419556169,
           0.000616311419556169,
           0.000616311419556169,
           0.000645246227986036,
           0.000645246227986036,
           0.000645246227986036,
           0.0006698408151514231,
           0.0006698408151514231,
           0.0006698408151514231,
           0.0006090777174487022,
           0.0006090777174487022,
           0.0006090777174487022,
           0.0007747294957096913,
           0.0007747294957096913,
           0.0007747294957096913,
           0.00019313984626936282,
           0.00019313984626936282,
           0.00019313984626936282,
           0.0004687438965638468,
           0.0004687438965638468,
           0.0004687438965638468,
           0.0010930123884382293,
           0.0010930123884382293,
           0.0010930123884382293,
           0.0011906673668890307,
           0.0011906673668890307,
           0.0011906673668890307,
           0.009114464655408133,
           0.009114464655408133,
           0.009114464655408133,
           0.009606356398715873,
           0.009606356398715873,
           0.009606356398715873,
           0.009737286406861022,
           0.009737286406861022,
           0.009737286406861022,
           0.010380362524214818,
           0.010380362524214818,
           0.010380362524214818,
           0.0031828289272853795,
           0.0031828289272853795,
           0.0031828289272853795,
           0.0027285524349364666,
           0.0027285524349364666,
           0.0027285524349364666,
           0.001869188624569414,
           0.001869188624569414,
           0.001869188624569414,
           0.001987821339131869,
           0.001987821339131869,
           0.001987821339131869,
           0.00298028526827631,
           0.00298028526827631,
           0.00298028526827631,
           0.0032457621356203406,
           0.0032457621356203406,
           0.0032457621356203406,
           0.003925730133722217,
           0.003925730133722217,
           0.003925730133722217,
           0.004291032090149289,
           0.004291032090149289,
           0.004291032090149289,
           0.00028356112261269744,
           0.00028356112261269744,
           0.00028356112261269744,
           0.00028356112261269744,
           0.00028356112261269744,
           0.00028356112261269744,
           0.0016955797739902113,
           0.0016955797739902113,
           0.0016955797739902113,
           0.0018286798927676,
           0.0018286798927676,
           0.0018286798927676,
           0.002451501644220489,
           0.002451501644220489,
           0.002451501644220489,
           0.0023849515848317947,
           0.0023849515848317947,
           0.0023849515848317947,
           0.002216406325727819,
           0.002216406325727819,
           0.002216406325727819,
           0.0022424476533146995,
           0.0022424476533146995,
           0.0022424476533146995,
           0.002391461916728515,
           0.002391461916728515,
           0.002391461916728515,
           0.0022909134574347267,
           0.0022909134574347267,
           0.0022909134574347267,
           0.002267765610690833,
           0.002267765610690833,
           0.002267765610690833,
           0.002577368060890411,
           0.002577368060890411,
           0.002577368060890411,
           0.0013100234516622324,
           0.0013100234516622324,
           0.0013100234516622324,
           0.001247813613538018,
           0.001247813613538018,
           0.001247813613538018,
           0.001030802550314015,
           0.001030802550314015,
           0.001030802550314015,
           0.0010402063630537218,
           0.0010402063630537218,
           0.0010402063630537218,
           0.0006532033003042496,
           0.0006532033003042496,
           0.0006532033003042496,
           0.0007204767299036905,
           0.0007204767299036905,
           0.0007204767299036905,
           0.0013078533410299923,
           0.0013078533410299923,
           0.0013078533410299923,
           0.001349085443042553,
           0.001349085443042553,
           0.001349085443042553,
           0.005116397500611248,
           0.005116397500611248,
           0.005116397500611248,
           0.00410584931619814,
           0.00410584931619814,
           0.00410584931619814,
           0.002596899056580571,
           0.002596899056580571,
           0.002596899056580571,
           0.002924585762048816,
           0.002924585762048816,
           0.002924585762048816,
           0.00026258338650104383,
           0.00026258338650104383,
           0.00026258338650104383,
           0.0001996501781660829,
           0.0001996501781660829,
           0.0001996501781660829,
           0.005055634402908527,
           0.005055634402908527,
           0.005055634402908527,
           0.005629266980030642,
           0.005629266980030642,
           0.005629266980030642,
           0.0003030921183028577,
           0.0003030921183028577,
           0.0003030921183028577,
           0.00040725742865037925,
           0.00040725742865037925,
           0.00040725742865037925,
           0.00007523050191765443,
           0.00007523050191765443,
           0.00007523050191765443,
           0.00009042127634333466,
           0.00009042127634333466,
           0.00009042127634333466,
           0.0048870891438045514,
           0.0048870891438045514,
           0.0048870891438045514,
           0.006019163523623101,
           0.006019163523623101,
           0.006019163523623101,
           0.0032978447907941015,
           0.0032978447907941015,
           0.0032978447907941015,
           0.00030236874809211106,
           0.00030236874809211106,
           0.00030236874809211106,
           0.0006032907557627288,
           0.0006032907557627288,
           0.0006032907557627288,
           0.0042570336902441955,
           0.0042570336902441955,
           0.0042570336902441955,
           0.0057573035073328034,
           0.0057573035073328034,
           0.0057573035073328034,
           0.0029658178640613766,
           0.0029658178640613766,
           0.0029658178640613766,
           0.00008680442528960127,
           0.00008680442528960127,
           0.00008680442528960127,
           0.0006575435215687295,
           0.0006575435215687295,
           0.0006575435215687295,
           0.0017491091695854655,
           0.0017491091695854655,
           0.0017491091695854655,
           0.0006047374961842221,
           0.0006047374961842221,
           0.0006047374961842221,
           0.0006271619727173691,
           0.0006271619727173691,
           0.0006271619727173691,
           0.0005678456154361416,
           0.0005678456154361416,
           0.0005678456154361416,
           0.0004701906369853402,
           0.0004701906369853402,
           0.0004701906369853402,
           0.006092947285119262,
           0.006092947285119262,
           0.006092947285119262,
           0.00552727178031536,
           0.00552727178031536,
           0.00552727178031536,
           0.006455355760703347,
           0.006455355760703347,
           0.006455355760703347,
           0.006343956748248359,
           0.006343956748248359,
           0.006343956748248359,
           0.0003703655479022987,
           0.0003703655479022987,
           0.0003703655479022987,
           0.0005859298707048085,
           0.0005859298707048085,
           0.0005859298707048085,
           0.005082399100706154,
           0.005082399100706154,
           0.005082399100706154,
           0.005331961823413758,
           0.005331961823413758,
           0.005331961823413758,
           0.0035531944751876782,
           0.0035531944751876782,
           0.0035531944751876782,
           0.0044545137577780385,
           0.0044545137577780385,
           0.0044545137577780385,
           0.00160877534870061,
           0.00160877534870061,
           0.00160877534870061,
           0.0027632742050523068,
           0.0027632742050523068,
           0.0027632742050523068,
           0.0024732027505428894,
           0.0024732027505428894,
           0.0024732027505428894,
           0.001796851603494746,
           0.001796851603494746,
           0.001796851603494746,
           0.003358607888496822,
           0.003358607888496822,
           0.003358607888496822,
           0.0026591088947047854,
           0.0026591088947047854,
           0.0026591088947047854,
           0.0018286798927676,
           0.0018286798927676,
           0.0018286798927676,
           0.001440953459807381,
           0.001440953459807381,
           0.001440953459807381,
           0.0016189025316510636,
           0.0016189025316510636,
           0.0016189025316510636,
           0.0014995464468778618,
           0.0014995464468778618,
           0.0014995464468778618,
           0.002058711619785043,
           0.002058711619785043,
           0.002058711619785043,
           0.002536859329088597,
           0.002536859329088597,
           0.002536859329088597,
           0.006106691319123449,
           0.006106691319123449,
           0.006106691319123449,
           0.006427867692694974,
           0.006427867692694974,
           0.006427867692694974,
           0.008726738222447914,
           0.008726738222447914,
           0.008726738222447914,
           0.010623414915025702,
           0.010623414915025702,
           0.010623414915025702,
           0.005392724921116479,
           0.005392724921116479,
           0.005392724921116479,
           0.00528349601929373,
           0.00528349601929373,
           0.00528349601929373,
           0.0028464617792881746,
           0.0028464617792881746,
           0.0028464617792881746,
           0.003458432977579864,
           0.003458432977579864,
           0.003458432977579864,
           0.002630174086274918,
           0.002630174086274918,
           0.002630174086274918,
           0.003688464704597307,
           0.003688464704597307,
           0.003688464704597307,
           0.0021592600790788312,
           0.0021592600790788312,
           0.0021592600790788312,
           0.0018344668544535733,
           0.0018344668544535733,
           0.0018344668544535733,
           0.006365657854570759,
           0.006365657854570759,
           0.006365657854570759,
           0.005670499082043203,
           0.005670499082043203,
           0.005670499082043203,
           0.0009353176824954537,
           0.0009353176824954537,
           0.0009353176824954537,
           0.0009280839803879868,
           0.0009280839803879868,
           0.0009280839803879868,
           0.00682282782776266,
           0.00682282782776266,
           0.00682282782776266,
           0.007738614514567953,
           0.007738614514567953,
           0.007738614514567953,
           0.0011689662605666304,
           0.0011689662605666304,
           0.0011689662605666304,
           0.0013093000814514858,
           0.0013093000814514858,
           0.0013093000814514858,
           0.004513106744848519,
           0.004513106744848519,
           0.004513106744848519,
           0.004018321520697792,
           0.004018321520697792,
           0.004018321520697792,
           0.003791183274523335,
           0.003791183274523335,
           0.003791183274523335,
           0.004165889043690114,
           0.004165889043690114,
           0.004165889043690114,
           0.002310444453124887,
           0.002310444453124887,
           0.002310444453124887,
           0.002722765473250493,
           0.002722765473250493,
           0.002722765473250493,
           0.008814989388159009,
           0.008814989388159009,
           0.008814989388159009,
           0.008758566511720767,
           0.008758566511720767,
           0.008758566511720767,
           0.0013801903621046602,
           0.0013801903621046602,
           0.0013801903621046602,
           0.002447884793166756,
           0.002447884793166756,
           0.002447884793166756,
           0.004372772923963664,
           0.004372772923963664,
           0.004372772923963664,
           0.003486644415798984,
           0.003486644415798984,
           0.003486644415798984,
           0.006130562536078089,
           0.006130562536078089,
           0.006130562536078089,
           0.004824879305680337,
           0.004824879305680337,
           0.004824879305680337,
           0.00018445940374040267,
           0.00018445940374040267,
           0.00018445940374040267,
           0.0000014467404214933544,
           0.0000014467404214933544,
           0.0000014467404214933544,
           0.00008680442528960127,
           0.00008680442528960127,
           0.00008680442528960127,
           0.00007667724233914778,
           0.00007667724233914778,
           0.00007667724233914778,
           0.00017216211015770916,
           0.00017216211015770916,
           0.00017216211015770916,
           0.00010344194013677484,
           0.00010344194013677484,
           0.00010344194013677484,
           0.0020854763175826704,
           0.0020854763175826704,
           0.0020854763175826704,
           0.0012962794176580455,
           0.0012962794176580455,
           0.0012962794176580455,
           0.0025723044694151843,
           0.0025723044694151843,
           0.0025723044694151843,
           0.0028500786303419083,
           0.0028500786303419083,
           0.0028500786303419083,
           0.0073458244901325066,
           0.0073458244901325066,
           0.0073458244901325066,
           0.00662462439001807,
           0.00662462439001807,
           0.00662462439001807,
           0.0020760725048429634,
           0.0020760725048429634,
           0.0020760725048429634,
           0.0019118674670034678,
           0.0019118674670034678,
           0.0019118674670034678,
           0.00039206665422469904,
           0.00039206665422469904,
           0.00039206665422469904,
           0.00041666124139008606,
           0.00041666124139008606,
           0.00041666124139008606,
           0.010853446642043145,
           0.010853446642043145,
           0.010853446642043145,
           0.008124894207106678,
           0.008124894207106678,
           0.008124894207106678,
           0.001561756285002076,
           0.001561756285002076,
           0.001561756285002076,
           0.001265897868806685,
           0.001265897868806685,
           0.001265897868806685,
           0.00114943526487647,
           0.00114943526487647,
           0.00114943526487647,
           0.0008499599976273457,
           0.0008499599976273457,
           0.0008499599976273457,
           0.0011559455967731901,
           0.0011559455967731901,
           0.0011559455967731901,
           0.001057567248111642,
           0.001057567248111642,
           0.001057567248111642,
           0.0004629569348778734,
           0.0004629569348778734,
           0.0004629569348778734,
           0.00020833062069504303,
           0.00020833062069504303,
           0.00020833062069504303,
           0.006321532271715212,
           0.006321532271715212,
           0.006321532271715212,
           0.007036945410143676,
           0.007036945410143676,
           0.007036945410143676,
           0.0008485132572058524,
           0.0008485132572058524,
           0.0008485132572058524,
           0.001026462329049535,
           0.001026462329049535,
           0.001026462329049535,
           0.0013989979875840737,
           0.0013989979875840737,
           0.0013989979875840737,
           0.001485802412873675,
           0.001485802412873675,
           0.001485802412873675,
           0.0008239186700404654,
           0.0008239186700404654,
           0.0008239186700404654,
           0.0006582668917794762,
           0.0006582668917794762,
           0.0006582668917794762,
           0.00026258338650104383,
           0.00026258338650104383,
           0.00026258338650104383,
           0.00003616851053733386,
           0.00003616851053733386,
           0.00003616851053733386,
           0.0002495627227076036,
           0.0002495627227076036,
           0.0002495627227076036,
           0.000032551659483600474,
           0.000032551659483600474,
           0.000032551659483600474,
           0.0003211763735715247,
           0.0003211763735715247,
           0.0003211763735715247,
           0.00026837034818701723,
           0.00026837034818701723,
           0.00026837034818701723,
           0.0019530995690160283,
           0.0019530995690160283,
           0.0019530995690160283,
           0.00021122410153802973,
           0.00021122410153802973,
           0.00021122410153802973,
           0.00021122410153802973,
           0.00021122410153802973,
           0.00021122410153802973
          ]
         },
         "node": {
          "color": "blue",
          "label": [
           "ICV",
           "Telencephalon_L",
           "Telencephalon_R",
           "Diencephalon_L",
           "Diencephalon_R",
           "Mesencephalon",
           "Metencephalon",
           "Myelencephalon",
           "CSF",
           "CerebralCortex_L",
           "CerebralCortex_R",
           "CerebralNucli_L",
           "CerebralNucli_R",
           "Thalamus_L",
           "Thalamus_R",
           "BasalForebrain_L",
           "BasalForebrain_R",
           "Mesencephalon_L",
           "Mesencephalon_R",
           "Metencephalon_R",
           "Metencephalon_L",
           "Myelencephalon_L",
           "Myelencephalon_R",
           "WhiteMatter_L",
           "WhiteMatter_R",
           "Ventricle",
           "Sulcus_L",
           "Sulcus_R",
           "Ventricle ",
           "Frontal_L",
           "Frontal_R",
           "Parietal_L",
           "Parietal_R",
           "Temporal_L",
           "Temporal_R",
           "Limbic_L",
           "Limbic_R",
           "Occipital_L",
           "Occipital_R",
           "Insula_L",
           "Insula_R",
           "BasalGang_L",
           "BasalGang_R",
           "midbrain_L",
           "midbrain_R",
           "Cerebellum_R",
           "Cerebellum_L",
           "Pons_L",
           "Pons_R",
           "Medulla_L",
           "Medulla_R",
           "AnteriorWM_L",
           "AnteriorWM_R",
           "PosteriorWM_L",
           "PosteriorWM_R",
           "CorpusCallosum_L",
           "CorpusCallosum_R",
           "InferiorWM_L",
           "InferiorWM_R",
           "LimbicWM_L",
           "LimbicWM_R",
           "LateralVentricle_L",
           "LateralVentricle_R",
           "III_ventricle",
           "FrontSul_L",
           "FrontSul_R",
           "CentralSul_L",
           "CentralSul_R",
           "SylvianFissureExt_L",
           "SylvianFissureExt_R",
           "ParietSul_L",
           "ParietSul_R",
           "CinguSul_L",
           "CinguSul_R",
           "OcciptSul_L",
           "OcciptSul_R",
           "TempSul_L",
           "TempSul_R",
           "IV_ventricle"
          ],
          "line": {
           "color": "black",
           "width": 0.5
          },
          "pad": 15,
          "thickness": 20
         },
         "type": "sankey"
        }
       ],
       "layout": {
        "font": {
         "size": 10
        },
        "height": 800,
        "margin": {
         "b": 0,
         "l": 0,
         "r": 0,
         "t": 0
        },
        "template": {
         "data": {
          "bar": [
           {
            "error_x": {
             "color": "#2a3f5f"
            },
            "error_y": {
             "color": "#2a3f5f"
            },
            "marker": {
             "line": {
              "color": "#E5ECF6",
              "width": 0.5
             },
             "pattern": {
              "fillmode": "overlay",
              "size": 10,
              "solidity": 0.2
             }
            },
            "type": "bar"
           }
          ],
          "barpolar": [
           {
            "marker": {
             "line": {
              "color": "#E5ECF6",
              "width": 0.5
             },
             "pattern": {
              "fillmode": "overlay",
              "size": 10,
              "solidity": 0.2
             }
            },
            "type": "barpolar"
           }
          ],
          "carpet": [
           {
            "aaxis": {
             "endlinecolor": "#2a3f5f",
             "gridcolor": "white",
             "linecolor": "white",
             "minorgridcolor": "white",
             "startlinecolor": "#2a3f5f"
            },
            "baxis": {
             "endlinecolor": "#2a3f5f",
             "gridcolor": "white",
             "linecolor": "white",
             "minorgridcolor": "white",
             "startlinecolor": "#2a3f5f"
            },
            "type": "carpet"
           }
          ],
          "choropleth": [
           {
            "colorbar": {
             "outlinewidth": 0,
             "ticks": ""
            },
            "type": "choropleth"
           }
          ],
          "contour": [
           {
            "colorbar": {
             "outlinewidth": 0,
             "ticks": ""
            },
            "colorscale": [
             [
              0,
              "#0d0887"
             ],
             [
              0.1111111111111111,
              "#46039f"
             ],
             [
              0.2222222222222222,
              "#7201a8"
             ],
             [
              0.3333333333333333,
              "#9c179e"
             ],
             [
              0.4444444444444444,
              "#bd3786"
             ],
             [
              0.5555555555555556,
              "#d8576b"
             ],
             [
              0.6666666666666666,
              "#ed7953"
             ],
             [
              0.7777777777777778,
              "#fb9f3a"
             ],
             [
              0.8888888888888888,
              "#fdca26"
             ],
             [
              1,
              "#f0f921"
             ]
            ],
            "type": "contour"
           }
          ],
          "contourcarpet": [
           {
            "colorbar": {
             "outlinewidth": 0,
             "ticks": ""
            },
            "type": "contourcarpet"
           }
          ],
          "heatmap": [
           {
            "colorbar": {
             "outlinewidth": 0,
             "ticks": ""
            },
            "colorscale": [
             [
              0,
              "#0d0887"
             ],
             [
              0.1111111111111111,
              "#46039f"
             ],
             [
              0.2222222222222222,
              "#7201a8"
             ],
             [
              0.3333333333333333,
              "#9c179e"
             ],
             [
              0.4444444444444444,
              "#bd3786"
             ],
             [
              0.5555555555555556,
              "#d8576b"
             ],
             [
              0.6666666666666666,
              "#ed7953"
             ],
             [
              0.7777777777777778,
              "#fb9f3a"
             ],
             [
              0.8888888888888888,
              "#fdca26"
             ],
             [
              1,
              "#f0f921"
             ]
            ],
            "type": "heatmap"
           }
          ],
          "heatmapgl": [
           {
            "colorbar": {
             "outlinewidth": 0,
             "ticks": ""
            },
            "colorscale": [
             [
              0,
              "#0d0887"
             ],
             [
              0.1111111111111111,
              "#46039f"
             ],
             [
              0.2222222222222222,
              "#7201a8"
             ],
             [
              0.3333333333333333,
              "#9c179e"
             ],
             [
              0.4444444444444444,
              "#bd3786"
             ],
             [
              0.5555555555555556,
              "#d8576b"
             ],
             [
              0.6666666666666666,
              "#ed7953"
             ],
             [
              0.7777777777777778,
              "#fb9f3a"
             ],
             [
              0.8888888888888888,
              "#fdca26"
             ],
             [
              1,
              "#f0f921"
             ]
            ],
            "type": "heatmapgl"
           }
          ],
          "histogram": [
           {
            "marker": {
             "pattern": {
              "fillmode": "overlay",
              "size": 10,
              "solidity": 0.2
             }
            },
            "type": "histogram"
           }
          ],
          "histogram2d": [
           {
            "colorbar": {
             "outlinewidth": 0,
             "ticks": ""
            },
            "colorscale": [
             [
              0,
              "#0d0887"
             ],
             [
              0.1111111111111111,
              "#46039f"
             ],
             [
              0.2222222222222222,
              "#7201a8"
             ],
             [
              0.3333333333333333,
              "#9c179e"
             ],
             [
              0.4444444444444444,
              "#bd3786"
             ],
             [
              0.5555555555555556,
              "#d8576b"
             ],
             [
              0.6666666666666666,
              "#ed7953"
             ],
             [
              0.7777777777777778,
              "#fb9f3a"
             ],
             [
              0.8888888888888888,
              "#fdca26"
             ],
             [
              1,
              "#f0f921"
             ]
            ],
            "type": "histogram2d"
           }
          ],
          "histogram2dcontour": [
           {
            "colorbar": {
             "outlinewidth": 0,
             "ticks": ""
            },
            "colorscale": [
             [
              0,
              "#0d0887"
             ],
             [
              0.1111111111111111,
              "#46039f"
             ],
             [
              0.2222222222222222,
              "#7201a8"
             ],
             [
              0.3333333333333333,
              "#9c179e"
             ],
             [
              0.4444444444444444,
              "#bd3786"
             ],
             [
              0.5555555555555556,
              "#d8576b"
             ],
             [
              0.6666666666666666,
              "#ed7953"
             ],
             [
              0.7777777777777778,
              "#fb9f3a"
             ],
             [
              0.8888888888888888,
              "#fdca26"
             ],
             [
              1,
              "#f0f921"
             ]
            ],
            "type": "histogram2dcontour"
           }
          ],
          "mesh3d": [
           {
            "colorbar": {
             "outlinewidth": 0,
             "ticks": ""
            },
            "type": "mesh3d"
           }
          ],
          "parcoords": [
           {
            "line": {
             "colorbar": {
              "outlinewidth": 0,
              "ticks": ""
             }
            },
            "type": "parcoords"
           }
          ],
          "pie": [
           {
            "automargin": true,
            "type": "pie"
           }
          ],
          "scatter": [
           {
            "fillpattern": {
             "fillmode": "overlay",
             "size": 10,
             "solidity": 0.2
            },
            "type": "scatter"
           }
          ],
          "scatter3d": [
           {
            "line": {
             "colorbar": {
              "outlinewidth": 0,
              "ticks": ""
             }
            },
            "marker": {
             "colorbar": {
              "outlinewidth": 0,
              "ticks": ""
             }
            },
            "type": "scatter3d"
           }
          ],
          "scattercarpet": [
           {
            "marker": {
             "colorbar": {
              "outlinewidth": 0,
              "ticks": ""
             }
            },
            "type": "scattercarpet"
           }
          ],
          "scattergeo": [
           {
            "marker": {
             "colorbar": {
              "outlinewidth": 0,
              "ticks": ""
             }
            },
            "type": "scattergeo"
           }
          ],
          "scattergl": [
           {
            "marker": {
             "colorbar": {
              "outlinewidth": 0,
              "ticks": ""
             }
            },
            "type": "scattergl"
           }
          ],
          "scattermapbox": [
           {
            "marker": {
             "colorbar": {
              "outlinewidth": 0,
              "ticks": ""
             }
            },
            "type": "scattermapbox"
           }
          ],
          "scatterpolar": [
           {
            "marker": {
             "colorbar": {
              "outlinewidth": 0,
              "ticks": ""
             }
            },
            "type": "scatterpolar"
           }
          ],
          "scatterpolargl": [
           {
            "marker": {
             "colorbar": {
              "outlinewidth": 0,
              "ticks": ""
             }
            },
            "type": "scatterpolargl"
           }
          ],
          "scatterternary": [
           {
            "marker": {
             "colorbar": {
              "outlinewidth": 0,
              "ticks": ""
             }
            },
            "type": "scatterternary"
           }
          ],
          "surface": [
           {
            "colorbar": {
             "outlinewidth": 0,
             "ticks": ""
            },
            "colorscale": [
             [
              0,
              "#0d0887"
             ],
             [
              0.1111111111111111,
              "#46039f"
             ],
             [
              0.2222222222222222,
              "#7201a8"
             ],
             [
              0.3333333333333333,
              "#9c179e"
             ],
             [
              0.4444444444444444,
              "#bd3786"
             ],
             [
              0.5555555555555556,
              "#d8576b"
             ],
             [
              0.6666666666666666,
              "#ed7953"
             ],
             [
              0.7777777777777778,
              "#fb9f3a"
             ],
             [
              0.8888888888888888,
              "#fdca26"
             ],
             [
              1,
              "#f0f921"
             ]
            ],
            "type": "surface"
           }
          ],
          "table": [
           {
            "cells": {
             "fill": {
              "color": "#EBF0F8"
             },
             "line": {
              "color": "white"
             }
            },
            "header": {
             "fill": {
              "color": "#C8D4E3"
             },
             "line": {
              "color": "white"
             }
            },
            "type": "table"
           }
          ]
         },
         "layout": {
          "annotationdefaults": {
           "arrowcolor": "#2a3f5f",
           "arrowhead": 0,
           "arrowwidth": 1
          },
          "autotypenumbers": "strict",
          "coloraxis": {
           "colorbar": {
            "outlinewidth": 0,
            "ticks": ""
           }
          },
          "colorscale": {
           "diverging": [
            [
             0,
             "#8e0152"
            ],
            [
             0.1,
             "#c51b7d"
            ],
            [
             0.2,
             "#de77ae"
            ],
            [
             0.3,
             "#f1b6da"
            ],
            [
             0.4,
             "#fde0ef"
            ],
            [
             0.5,
             "#f7f7f7"
            ],
            [
             0.6,
             "#e6f5d0"
            ],
            [
             0.7,
             "#b8e186"
            ],
            [
             0.8,
             "#7fbc41"
            ],
            [
             0.9,
             "#4d9221"
            ],
            [
             1,
             "#276419"
            ]
           ],
           "sequential": [
            [
             0,
             "#0d0887"
            ],
            [
             0.1111111111111111,
             "#46039f"
            ],
            [
             0.2222222222222222,
             "#7201a8"
            ],
            [
             0.3333333333333333,
             "#9c179e"
            ],
            [
             0.4444444444444444,
             "#bd3786"
            ],
            [
             0.5555555555555556,
             "#d8576b"
            ],
            [
             0.6666666666666666,
             "#ed7953"
            ],
            [
             0.7777777777777778,
             "#fb9f3a"
            ],
            [
             0.8888888888888888,
             "#fdca26"
            ],
            [
             1,
             "#f0f921"
            ]
           ],
           "sequentialminus": [
            [
             0,
             "#0d0887"
            ],
            [
             0.1111111111111111,
             "#46039f"
            ],
            [
             0.2222222222222222,
             "#7201a8"
            ],
            [
             0.3333333333333333,
             "#9c179e"
            ],
            [
             0.4444444444444444,
             "#bd3786"
            ],
            [
             0.5555555555555556,
             "#d8576b"
            ],
            [
             0.6666666666666666,
             "#ed7953"
            ],
            [
             0.7777777777777778,
             "#fb9f3a"
            ],
            [
             0.8888888888888888,
             "#fdca26"
            ],
            [
             1,
             "#f0f921"
            ]
           ]
          },
          "colorway": [
           "#636efa",
           "#EF553B",
           "#00cc96",
           "#ab63fa",
           "#FFA15A",
           "#19d3f3",
           "#FF6692",
           "#B6E880",
           "#FF97FF",
           "#FECB52"
          ],
          "font": {
           "color": "#2a3f5f"
          },
          "geo": {
           "bgcolor": "white",
           "lakecolor": "white",
           "landcolor": "#E5ECF6",
           "showlakes": true,
           "showland": true,
           "subunitcolor": "white"
          },
          "hoverlabel": {
           "align": "left"
          },
          "hovermode": "closest",
          "mapbox": {
           "style": "light"
          },
          "paper_bgcolor": "white",
          "plot_bgcolor": "#E5ECF6",
          "polar": {
           "angularaxis": {
            "gridcolor": "white",
            "linecolor": "white",
            "ticks": ""
           },
           "bgcolor": "#E5ECF6",
           "radialaxis": {
            "gridcolor": "white",
            "linecolor": "white",
            "ticks": ""
           }
          },
          "scene": {
           "xaxis": {
            "backgroundcolor": "#E5ECF6",
            "gridcolor": "white",
            "gridwidth": 2,
            "linecolor": "white",
            "showbackground": true,
            "ticks": "",
            "zerolinecolor": "white"
           },
           "yaxis": {
            "backgroundcolor": "#E5ECF6",
            "gridcolor": "white",
            "gridwidth": 2,
            "linecolor": "white",
            "showbackground": true,
            "ticks": "",
            "zerolinecolor": "white"
           },
           "zaxis": {
            "backgroundcolor": "#E5ECF6",
            "gridcolor": "white",
            "gridwidth": 2,
            "linecolor": "white",
            "showbackground": true,
            "ticks": "",
            "zerolinecolor": "white"
           }
          },
          "shapedefaults": {
           "line": {
            "color": "#2a3f5f"
           }
          },
          "ternary": {
           "aaxis": {
            "gridcolor": "white",
            "linecolor": "white",
            "ticks": ""
           },
           "baxis": {
            "gridcolor": "white",
            "linecolor": "white",
            "ticks": ""
           },
           "bgcolor": "#E5ECF6",
           "caxis": {
            "gridcolor": "white",
            "linecolor": "white",
            "ticks": ""
           }
          },
          "title": {
           "x": 0.05
          },
          "xaxis": {
           "automargin": true,
           "gridcolor": "white",
           "linecolor": "white",
           "ticks": "",
           "title": {
            "standoff": 15
           },
           "zerolinecolor": "white",
           "zerolinewidth": 2
          },
          "yaxis": {
           "automargin": true,
           "gridcolor": "white",
           "linecolor": "white",
           "ticks": "",
           "title": {
            "standoff": 15
           },
           "zerolinecolor": "white",
           "zerolinewidth": 2
          }
         }
        },
        "title": {
         "text": "Sankey Diagram"
        },
        "width": 800
       }
      }
     },
     "metadata": {},
     "output_type": "display_data"
    }
   ],
   "source": [
    "import plotly.graph_objects as go\n",
    "\n",
    "\n",
    "# Assuming subjectData is a pandas DataFrame that contains the columns 'roi', 'volume', 'level4',\n",
    "# 'level3', 'level2', 'level1', 'icv', and 'comp'\n",
    "\n",
    "# Create a list for each level including 'icv'\n",
    "levels = ['icv', 'level1', 'level2','level3']\n",
    "nodes = {level: list(subjectData[level].unique()) for level in levels}\n",
    "\n",
    "# Create a list of labels (unique identifiers for each node)\n",
    "labels = []\n",
    "for level in levels:\n",
    "    labels.extend(nodes[level])\n",
    "labels = list(dict.fromkeys(labels))  # Remove duplicates\n",
    "\n",
    "# Create a mapping from label to index\n",
    "label_to_index = {label: i for i, label in enumerate(labels)}\n",
    "\n",
    "# Initialize lists for sources, targets, and values\n",
    "sources = []\n",
    "targets = []\n",
    "values = []\n",
    "\n",
    "# Fill the source, target, and value lists based on the hierarchical levels\n",
    "for i, row in subjectData.iterrows():\n",
    "    for j in range(len(levels) - 1):\n",
    "        sources.append(label_to_index[row[levels[j]]])\n",
    "        targets.append(label_to_index[row[levels[j+1]]])\n",
    "        # Use the comp value as the weight for the Sankey diagram connection\n",
    "        values.append(row['comp'])\n",
    "\n",
    "# Create the Sankey diagram\n",
    "fig1 = go.Figure(data=[go.Sankey(\n",
    "    node = dict(\n",
    "        pad = 15,\n",
    "        thickness = 20,\n",
    "        line = dict(color = \"black\", width = 0.5),\n",
    "        label = labels,\n",
    "        color = \"blue\"\n",
    "    ),\n",
    "    link = dict(\n",
    "        source = sources,\n",
    "        target = targets,\n",
    "        value = values\n",
    "    )\n",
    ")])\n",
    "\n",
    "fig1.update_layout(\n",
    "    title_text=\"Sankey Diagram\",\n",
    "    font_size=10,\n",
    "    width=800,\n",
    "    height=800,\n",
    "    margin=dict(l=0, r=0, t=0, b=0) # Adjust left, right, top, bottom margins as needed\n",
    ")\n",
    "\n",
    "fig1.show()\n",
    "\n"
   ]
  },
  {
   "cell_type": "code",
   "execution_count": 41,
   "id": "22aa993c",
   "metadata": {},
   "outputs": [],
   "source": [
    "fig1.write_html(\"sankey.html\")\n"
   ]
  }
 ],
 "metadata": {
  "kernelspec": {
   "display_name": "Python 3 (ipykernel)",
   "language": "python",
   "name": "python3"
  },
  "language_info": {
   "codemirror_mode": {
    "name": "ipython",
    "version": 3
   },
   "file_extension": ".py",
   "mimetype": "text/x-python",
   "name": "python",
   "nbconvert_exporter": "python",
   "pygments_lexer": "ipython3",
   "version": "3.11.7"
  }
 },
 "nbformat": 4,
 "nbformat_minor": 5
}
